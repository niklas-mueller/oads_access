{
 "cells": [
  {
   "cell_type": "code",
   "execution_count": 21,
   "metadata": {},
   "outputs": [],
   "source": [
    "import os\n",
    "import shutil\n",
    "\n",
    "import mne\n",
    "from mne.datasets import eegbci\n",
    "\n",
    "from mne_bids import write_raw_bids, BIDSPath, print_dir_tree\n",
    "from mne_bids.stats import count_events\n",
    "\n",
    "import pandas as pd\n",
    "import numpy as np"
   ]
  },
  {
   "cell_type": "code",
   "execution_count": 2,
   "metadata": {},
   "outputs": [],
   "source": [
    "# get MNE directory with example data\n",
    "# mne_data_dir = mne.get_config('MNE_DATASETS_EEGBCI_PATH')\n",
    "# data_dir = op.join(mne_data_dir, 'MNE-eegbci-data')\n",
    "data_dir = '/mnt/z/Projects/2023_Scholte_FMG1441/Data'\n",
    "# print_dir_tree(data_dir)"
   ]
  },
  {
   "cell_type": "code",
   "execution_count": 3,
   "metadata": {},
   "outputs": [],
   "source": [
    "output_dir = '/mnt/z/Projects/2023_Scholte_FMG1441/BIDS-Data'"
   ]
  },
  {
   "cell_type": "code",
   "execution_count": 119,
   "metadata": {},
   "outputs": [],
   "source": [
    "sub = 5"
   ]
  },
  {
   "cell_type": "code",
   "execution_count": 126,
   "metadata": {},
   "outputs": [
    {
     "name": "stdout",
     "output_type": "stream",
     "text": [
      "Extracting EDF parameters from /mnt/z/Projects/2023_Scholte_FMG1441/Data/sub_5/sub_5.bdf...\n",
      "BDF file detected\n",
      "Setting channel info structure...\n",
      "Creating raw.info structure...\n"
     ]
    }
   ],
   "source": [
    "raw = mne.io.read_raw(os.path.join(data_dir, f'sub_{sub}', f'sub_{sub}.bdf'), preload=False)\n",
    "\n",
    "raw.rename_channels({'F5': 'I1', 'F6': 'I2', \n",
    "                    'left-ref': 'left mastoid', \n",
    "                    'right-ref': 'right mastoid',  \n",
    "                    'left': 'left eye',\n",
    "                    'right': 'right eye',\n",
    "                    'above': 'above right eye',\n",
    "                    'below': 'below right eye',})\n",
    "raw.set_channel_types({'left eye': 'eog', 'right eye': 'eog', 'above right eye': 'eog', 'below right eye': 'eog'})\n",
    "raw.drop_channels(['EXG7',\n",
    " 'EXG8',\n",
    " 'GSR1',\n",
    " 'GSR2',\n",
    " 'Erg1',\n",
    " 'Erg2',\n",
    " 'Resp',\n",
    " 'Plet',\n",
    " 'Temp'])\n",
    "\n",
    "\n",
    "raw.info['line_freq'] = 50\n",
    "task = 'rsvp'"
   ]
  },
  {
   "cell_type": "code",
   "execution_count": 67,
   "metadata": {},
   "outputs": [],
   "source": [
    "SubMatrix_path = f\"/mnt/z/Projects/2023_Scholte_FMG1441/Subject_matrix/\"\n",
    "# Specify the subject name\n",
    "# subject_name = input(\"Enther the subject number (in form of sub_x): \")\n",
    "# Read the Image list\n",
    "Sub_Images_list = pd.read_csv(os.path.join(SubMatrix_path, f\"sub_{sub}_randomized_matrix_702.csv\"), header=None)\n",
    "Sub_Images_list = Sub_Images_list.values.tolist()\n",
    "Sub_Images_list = [i for sub in Sub_Images_list for i in sub]   #Flatten the list"
   ]
  },
  {
   "cell_type": "code",
   "execution_count": 105,
   "metadata": {},
   "outputs": [],
   "source": [
    "All_Images_df = pd.read_csv(os.path.join('/mnt/z/Projects/2023_Scholte_FMG1441/', \"EventsID_Dictionary.csv\"), header = None)\n",
    "image_event_id_to_name = dict(zip(All_Images_df[1], All_Images_df[0]))\n",
    "All_Images_dict = dict(zip(All_Images_df[0], All_Images_df[1]))\n",
    "#gray_trigger_index = 251\n",
    "All_Images_dict.update({'Long Grayscreen': 251+5000, 'Short Grayscreen': 252+5000, 'Key Response': 253+5000, 'idle': 70790})"
   ]
  },
  {
   "cell_type": "code",
   "execution_count": 87,
   "metadata": {},
   "outputs": [
    {
     "name": "stdout",
     "output_type": "stream",
     "text": [
      "Trigger channel has a non-zero initial value of 65540 (consider using initial_event=True to detect this event)\n",
      "10081 events found\n",
      "Event IDs: [    1     2     3     4     5     6     7     8     9    10    11    12\n",
      "    13    14    15    16    17    18    19    20    21    22    23    24\n",
      "    25    26    27    28    29    30    31    32    33    34    35    36\n",
      "    37    38    39    40    41    42    43    44    45    46    47    48\n",
      "    49    50    51    52    53    54    55    56    57    58    59    60\n",
      "    61    62    63    64    65    66    67    68    69    70    71    72\n",
      "    73    74    75    76    77    78    79    80    81    82    83    84\n",
      "    85    86    87    88    89    90    91    92    93    94    95    96\n",
      "    97    98    99   100   101   102   103   104   105   106   107   108\n",
      "   109   110   111   112   113   114   115   116   117   118   119   120\n",
      "   121   122   123   124   125   126   127   128   129   130   131   132\n",
      "   133   134   135   136   137   138   139   140   141   142   143   144\n",
      "   145   146   147   148   149   150   151   152   153   154   155   156\n",
      "   157   158   159   160   161   162   163   164   165   166   167   168\n",
      "   169   170   171   172   173   174   175   176   177   178   179   180\n",
      "   181   182   183   184   185   186   187   188   189   190   191   192\n",
      "   193   194   195   196   197   198   199   200   201   202   203   204\n",
      "   205   206   207   208   209   210   211   212   213   214   215   216\n",
      "   217   218   219   220   221   222   223   224   225   226   227   228\n",
      "   229   230   231   232   233   234   235   236   237   238   239   240\n",
      "   241   242   243   244   245   246   247   248   249   250   251   252\n",
      "   253 65790]\n"
     ]
    }
   ],
   "source": [
    "events = mne.find_events(raw)"
   ]
  },
  {
   "cell_type": "code",
   "execution_count": 88,
   "metadata": {},
   "outputs": [],
   "source": [
    "from copy import deepcopy"
   ]
  },
  {
   "cell_type": "code",
   "execution_count": 98,
   "metadata": {},
   "outputs": [],
   "source": [
    "events_len = len(events)\n",
    "CurIndex_event = 0\n",
    "converted_events = []\n",
    "\n",
    "for i in range(0,events_len):\n",
    "    converted_events.append(deepcopy(events[i, :]))\n",
    "    if events[i, 2] > 250:\n",
    "        converted_events[i][2] = 5000 + events[i, 2]\n",
    "        continue\n",
    "    elif 1 <= events[i, 2] <= 250:\n",
    "        CurImage = Sub_Images_list[CurIndex_event]\n",
    "        if CurImage.startswith('Stimuli\\\\Targets\\\\'):\n",
    "            CurImage = CurImage[16:]\n",
    "        elif CurImage.startswith('Stimuli\\\\'):\n",
    "            CurImage = CurImage[8:]\n",
    "        converted_events[i][2] = All_Images_dict[CurImage]\n",
    "        CurIndex_event += 1\n",
    "        \n",
    "converted_events = np.array(converted_events)"
   ]
  },
  {
   "cell_type": "code",
   "execution_count": 107,
   "metadata": {},
   "outputs": [
    {
     "name": "stdout",
     "output_type": "stream",
     "text": [
      "Extracting EDF parameters from /mnt/z/Projects/2023_Scholte_FMG1441/Data/sub_5/sub_5.bdf...\n",
      "BDF file detected\n"
     ]
    },
    {
     "name": "stdout",
     "output_type": "stream",
     "text": [
      "Setting channel info structure...\n",
      "Creating raw.info structure...\n",
      "Writing '/mnt/z/Projects/2023_Scholte_FMG1441/BIDS-Data/participants.tsv'...\n",
      "Writing '/mnt/z/Projects/2023_Scholte_FMG1441/BIDS-Data/participants.json'...\n",
      "Used Annotations descriptions: ['0061405b92d6593c.tiff', '0223ab2106a35198.tiff', '02c0e3c1f171f0f0.tiff', '040d3460282630b8.tiff', '0424266753d87c86.tiff', '0434262454981c92.tiff', '04859b6b69cc0c84.tiff', '052e296967464631.tiff', '0716165a8adc5c32.tiff', '0808cc6e098fc6c2.tiff', '080d39cb83fc1ec6.tiff', '083ca619388ce8f0.tiff', '085c7c6c30e0dad0.tiff', '08d2c46c148ec0c0.tiff', '090b656571511100.tiff', '094bacac4c6272c1.tiff', '09bb4b5100e06cee.tiff', '0a1414956625edb2.tiff', '0a3cfa7a2780c0f0.tiff', '0a4a9ad0909c8c8c.tiff', '0b2b29bbbb49f1f0.tiff', '0b9a93d1999f3c78.tiff', '0c3c109132288484.tiff', '0c41c0ccc8c3b3e8.tiff', '0c6c2c66e61e3133.tiff', '0c6e28286c4981a1.tiff', '0e06ceac2e24e0bc.tiff', '0e2e2f2931313d37.tiff', '0e63c081670f1b92.tiff', '0f4c0c4a9c8c82f0.tiff', '0f9f9787c92dc5c0.tiff', '1115b49db1f0fcf1.tiff', '1123c7d3ccad0513.tiff', '11313b624c94f4c8.tiff', '1132583a8ce0e0d4.tiff', '1233133b8f8bc2c4.tiff', '1267b51c9ac88cb3.tiff', '12d0d4cd87663c8d.tiff', '12d0e2c0c9f2e082.tiff', '1313d997b41686c8.tiff', '1332a2d4c4c14322.tiff', '139d9332d253a4f0.tiff', '1438385957fa121e.tiff', '159195d4e169f0a0.tiff', '1682892694153b9e.tiff', '17979f1c2d878d9f.tiff', '1833a3abbb8ac6f0.tiff', '1858585943530680.tiff', '1893d7da4b0183e0.tiff', '1991933c30c0c0e0.tiff', '1a199a9a908ad0c2.tiff', '1a5864c44d96e6c8.tiff', '1a7a7a1a8e878683.tiff', '1c0f2f7a180889d9.tiff', '1c1d1c9d2be8c980.tiff', '1c8cccc6060f0100.tiff', '1e0ec68496964688.tiff', '1e3e1914ddec8efc.tiff', '1ecf0e4ac8c024d0.tiff', '1ecfe3831b7eeede.tiff', '202024d9b333968c.tiff', '20246660236160a8.tiff', '2032634752e260a6.tiff', '204c5850666bc1e4.tiff', '20c3c09080606090.tiff', '2121b39186049280.tiff', '2123223218838280.tiff', '222621611a1a1a12.tiff', '23233233361676b6.tiff', '23373df5dd4185e6.tiff', '236350b32d3cc3f2.tiff', '23b2fc7d516060d0.tiff', '2407276303b6361a.tiff', '24247432670b3131.tiff', '2428294c21c0e0a8.tiff', '2464442b0a5aea98.tiff', '2666e26466e2d8e8.tiff', '26a2b9b93b1f8ea5.tiff', '26bad5a1b8582db1.tiff', '26e499e2c23666e6.tiff', '2794904cd8acb14c.tiff', '27c52b2b0a0a9bc6.tiff', '2a7355fb6e06a1b0.tiff', '2b04488c80008080.tiff', '2c2064d163c52c78.tiff', '2e3a4d6d2c329bcb.tiff', '2eaeaf2a5b3f3fff.tiff', '3032b4b2ede8c4c5.tiff', '3036510804048484.tiff', '30424a5232b294d4.tiff', '30582e7e7a7272f1.tiff', '30685656b26060c0.tiff', '30b19131302604e0.tiff', '3171595b5a1903c6.tiff', '333b313929129898.tiff', '33b3d8c89cbffefa.tiff', '3434786d65a4fcbc.tiff', '3436e69d9892d2e2.tiff', '362763676766c8b0.tiff', '36929aa5a51f9aec.tiff', '3699b9b6d0eefafa.tiff', '36b6de2f67f6f3f2.tiff', '3735f672355d32ce.tiff', '37643c0d8db8fedc.tiff', '381894a8e0e0d8e0.tiff', '38381919e9adcccc.tiff', '3838702438d8f0e0.tiff', '390929cdcdcd62b3.tiff', '39293b7b69b9e8e0.tiff', '393927a8a4f089e3.tiff', '3a3e7edcf8f8f8f8.tiff', '3bbbb3a96479e9fc.tiff', '3c2cacb4b9a3a47a.tiff', '3c2dacdedcefe3f5.tiff', '3cbcdd8c8cb266ce.tiff', '3dfd5d73e3ccbc98.tiff', '3f6d4c6f6f6f7ef5.tiff', '4053e3e8fdf0acbe.tiff', '40706060f0f2f0f0.tiff', '421a3b33c670b2cc.tiff', '42431879e191d3c3.tiff', '430391d141278fc2.tiff', '44444864e4e4fcef.tiff', '46362fc1e6f33c86.tiff', '46889b10c3c1c0c8.tiff', '474c0cf0e4e2ecfb.tiff', '47cfcf8493939890.tiff', '481819dc8c89f3e1.tiff', '484248aa62e2b0bd.tiff', '4868f0f2f4f4f464.tiff', '49485949434c70fc.tiff', '4993991b39152432.tiff', '4a48581808c0e050.tiff', '4c4d594899f8a3cb.tiff', '4c58d9d944541720.tiff', '4dcec78d84920303.tiff', '4e2694d1e09c98c0.tiff', '4e4c85b38d239be3.tiff', '4ececc64e6dc6c76.tiff', '4fbede6c39f9f8c4.tiff', '4fc6be7ceef8ccf0.tiff', '50d81888e2624498.tiff', '518c6565111b65ef.tiff', '5260a0cc0ee0e0e0.tiff', '5353d4c8c17072fc.tiff', '549cd4d4e4e0e9c2.tiff', '5616d4cd040992e6.tiff', '5676abb9cffbfef4.tiff', '57b7a7c7949456be.tiff', '58188938a485b0e8.tiff', '585a5b695655e4e2.tiff', '5878e9c4f88e3ef9.tiff', '5971e84902606080.tiff', '5a60d1d2d2e2c2d1.tiff', '5ad848cca4c4cecc.tiff', '5c78585048606818.tiff', '5c787a56da4684f0.tiff', '60033e6334441380.tiff', '603074747439f9dc.tiff', '60606448c6c0e8e0.tiff', '6062646534a464c4.tiff', '607064e6d4f67270.tiff', '60d9cdc5a5b5d7d7.tiff', '60e424e65a48ecf8.tiff', '60f0d8b8b0c0f4b6.tiff', '6138582260b0f8fc.tiff', '6161c62008fce4f2.tiff', '61662ece1f6e7870.tiff', '620b0b8268c30030.tiff', '626272e3e0a0e0e0.tiff', '63637071b19ce6f6.tiff', '63e3594b9c6d66c8.tiff', '646cf8304819b898.tiff', '646f65b4bc3ce6be.tiff', '647574c4f4f8c0e0.tiff', '64f28abcc8c8e5e1.tiff', '64f57662e0b0b1f0.tiff', '66626a6af6f6d8f2.tiff', '666373636b3638e0.tiff', '666456daee2e0ece.tiff', '6666468687c3e0d0.tiff', '66666646e672f4f4.tiff', '66666860e29feeeb.tiff', '66672da91c36c8d8.tiff', '666e6e677deeccd8.tiff', '6674d8656464cc38.tiff', '67650af2f6cfd876.tiff', '6773c486b484c0e0.tiff', '67a421a6ca2d0f82.tiff', '67cf9fddfcfac4e4.tiff', '67f5e695b8f4d8da.tiff', '687c763c5c1a9be4.tiff', '68e84cd6a3e5a0c0.tiff', '695949e9133fef67.tiff', '696b4a56143830f0.tiff', '6b37756d4f9db3e2.tiff', '6c6a64e6e2e8e0e0.tiff', '6c6c6e4c5c5ffffe.tiff', '6ca6c75353f680c8.tiff', '6d6763777e7d7d7e.tiff', '6d7cde9c8ccdcdcc.tiff', '6de9c8d8e0e8f0da.tiff', '6ef672d19c30e0c0.tiff', '6fa7b336c4ae1cf8.tiff', '6fe333223efce8d8.tiff', '6ff8e1352b39b0fe.tiff', '70242820aca2b3d2.tiff', '705350095070f0c0.tiff', '70707070e060c9e0.tiff', '7076377a1cb1f9f4.tiff', '70e8e6f4bc2c2e1e.tiff', '71733697b53e98dc.tiff', '71787a7b7bf8b070.tiff', '71dad252cae8bcc4.tiff', '724ad290f2c0e0c0.tiff', '72524564f2a2a2c2.tiff', '7273676c78dbd2f3.tiff', '7460424cbcd038c8.tiff', '747372a6a68ebdde.tiff', '747453b4b4b1b0f0.tiff', '74f448e8f91c0484.tiff', '7530bc0e99e1f870.tiff', '7633b1f04b4b83cf.tiff', '7676f0edad83c8e8.tiff', '7777f1e4db06bdb9.tiff', '7830f1a8a82028e4.tiff', '7860e1fcf4f8fcd0.tiff', '7890918716766325.tiff', '78f8f97135e380b0.tiff', '792dcd4820f0e0d0.tiff', '793d37e2639c98d2.tiff', '79717a58154c7169.tiff', '7a7a4e6ad08bf0d8.tiff', '7b7161e33138b878.tiff', '7b9d9793978efefe.tiff', '7bfda674cf3de1b1.tiff', '7e4a4a72b474262e.tiff', '8000828989c16890.tiff', '8090c4ccc2c0c3c2.tiff', '80ac3840e8508080.tiff', '8183cb8b8b2325c0.tiff', '81c1d9d961f21e9b.tiff', '81c9cbd2bcccfafe.tiff', '81cc8cc8c9c7f8e0.tiff', '820200b41c8b521c.tiff', '828496733c32e8c0.tiff', '828e3a9a2af078f8.tiff', '82c1c0586a86c0b2.tiff', '82e47dbf5a71e499.tiff', '8312366cd6cee3e3.tiff', '832335b4ecee6c30.tiff', '83a1fca6e7fcf0f0.tiff', '83ca923094908080.tiff', '84038383c25238b8.tiff', '8480c858c8c4e2e8.tiff', '848484cc3c9c8c2c.tiff', '84860dcc5c5cecce.tiff', '84909398809c9398.tiff', '8494960828b392c0.tiff', '84b06d0ca4a6e0f0.tiff', '84b4b0b8d8ccd0b0.tiff', '84cc81484c2e2607.tiff', '84e67294c2daf3e2.tiff', '85c4c6c686c6c4d1.tiff', '85cc4e533959b1e1.tiff', '861d2da5c5cd6360.tiff', '86960ed6f13c34bc.tiff', '86a4e6d0e8e0d8c8.tiff', '86aae6667618b170.tiff', '86c6cbdcdd96ecf8.tiff', '87c5dcdc132e86be.tiff', '87c7e7272f95d028.tiff', '882a2cbc98c2c5c3.tiff', '88c899996b1ae0d8.tiff', '89098585054983e2.tiff', '898022b89bf2f2d8.tiff', '89892959dbc9e0f4.tiff', '898929ace9ca878c.tiff', '898df84b22b0f0d6.tiff', '89c8785e3cb9f17f.tiff', '89d1c9cb67c6eef0.tiff', '8b0b6beb6efa7303.tiff', '8b0bc6e5d9d3cecc.tiff', '8b2feeae1cbcf0f8.tiff', '8b37245812949080.tiff', '8b4b4aeb2babacf0.tiff', '8bc9fbb3c1c888b6.tiff', '8cc4c4c59607a3f0.tiff', '8cccccccceca3e3a.tiff', '8ce8141652c3cef0.tiff', '8dcdf9b14810e583.tiff', '8e1e0f2f698e9cd9.tiff', '8e1f61533ef0e0f0.tiff', '8e2e3a1d4d4feec0.tiff', '8e9f0d4dcde1a0a0.tiff', '8ece4062eee68292.tiff', '8f8597dc4a5a98f0.tiff', '8fc3784c2b38c0f0.tiff', '8fc7e9e9e0c586b4.tiff', '90109699830767cf.tiff', '901696b6b6b3b6b2.tiff', '90921b2b2262e4cc.tiff', '90b986a726e4a069.tiff', '9123aa9cdc9a7cf0.tiff', '9130327cf8fceee0.tiff', '919149988c0888cc.tiff', '91915cb0d0f81198.tiff', '91e0801d242510d6.tiff', '928694371c5c3670.tiff', '928a1026a0e88684.tiff', '92928088082824c0.tiff', '9292d8cfdff4e6b0.tiff', '92d63639b3d3e0e2.tiff', '92d6d694d91999b8.tiff', '93137052c8c1f09c.tiff', '933635b6be8d46f2.tiff', '9393a3c282c080d0.tiff', '93d2d2f3a4e7e3d3.tiff', '9486566664d49c38.tiff', '948cacbc94b42474.tiff', '949098d2d8088685.tiff', '94b4d5d5c7e0b0b0.tiff', '94d4c452cc9edec6.tiff', '9594d5850f477bfc.tiff', '961e5e9a9ad4d3d0.tiff', '96961719d9fa9e89.tiff', '97d3f76c6cdaf1d0.tiff', '9812d6d4322374e0.tiff', '9878983898e0f0f0.tiff', '987d646a4849c4c0.tiff', '989d343987a7a5fb.tiff', '98b9360ee0f0f0f0.tiff', '999898b89a8e9cb6.tiff', '9999b4c69b391894.tiff', '99a9c4b59591b464.tiff', '9a93838b2ece7c5e.tiff', '9ad0d061e5e2e1c0.tiff', '9ad3c59890413bf2.tiff', '9b81e0f23ffce8f0.tiff', '9b9b33b3d7dbffff.tiff', '9bfbece9faf8f8f4.tiff', '9c3165ccd8f8f0ec.tiff', '9c8c969efefaf2e6.tiff', '9c9a1ab630321307.tiff', '9c9a9bbd4eefcef8.tiff', '9c9c9c463838d4f0.tiff', '9d25140d4d4d3298.tiff', '9d3c193935f8cccc.tiff', '9e5b52c3c9f8dcc2.tiff', '9e67c683afbf3e3e.tiff', '9e9cdcd8d95b0e2f.tiff', '9eb3b3b197bfa0e0.tiff', 'Key Response', 'Long Grayscreen', 'Short Grayscreen', 'a0a480d2d086c3f0.tiff', 'a0a9a9b30607daf0.tiff', 'a0c452d8f4c8e4f0.tiff', 'a0e6d0f8e61a79f9.tiff', 'a10a9e87d2c91fc8.tiff', 'a130284cc2e0a436.tiff', 'a1c2e022b0f2f2f0.tiff', 'a28652a2c8c6e0f0.tiff', 'a32727a7c7e3f8d8.tiff', 'a3c25e5ed6da48f0.tiff', 'a3d9f9e9e96619f9.tiff', 'a3f59dc2c082e4f0.tiff', 'a4c687860e68c280.tiff', 'a4d2da6836928386.tiff', 'a4e7d1f9fcc5f0f0.tiff', 'a4e7e59cb3e1e3e7.tiff', 'a526747c7863826c.tiff', 'a5372f6264f39cb0.tiff', 'a568e9e9e0b287c9.tiff', 'a5a5a5e5dbd0c0c0.tiff', 'a5a5c9d1d19d78c1.tiff', 'a5e263d0593811c0.tiff', 'a6a1a1e2e6d676f9.tiff', 'a73d8d3329292b2f.tiff', 'a7c4c5c0e8e0f0f0.tiff', 'a909c9da22a1d8c8.tiff', 'a92f2d3c9c9d9f9e.tiff', 'aba3d131e2c090a0.tiff', 'ac2eacac3c13e7c0.tiff', 'ac6cec68dc747426.tiff', 'acac2c2e86c498e8.tiff', 'ad236105169cece0.tiff', 'ada84ece9e3736b8.tiff', 'af8f3a3939313171.tiff', 'b080d466e381cfc7.tiff', 'b0b0acae16bdfc37.tiff', 'b0b1b1a44cc740a8.tiff', 'b13f7f315a492d59.tiff', 'b1b9bbe9de969ecc.tiff', 'b1d2fee26446d038.tiff', 'b1f1e1c1e4a7b269.tiff', 'b23232b232332361.tiff', 'b2b2bbe3e2dc9e5b.tiff', 'b2fe3eec44369ab8.tiff', 'b371f8ecf4e0f0f0.tiff', 'b3db53c3bfd8f2e0.tiff', 'b3e3e5533148cc7c.tiff', 'b4b4a5b797171efc.tiff', 'b4b966e4f8c0f078.tiff', 'b4f0e8e87cf4d486.tiff', 'b4f8f43120786cd0.tiff', 'b5b48090a1a27072.tiff', 'b632b692999076ee.tiff', 'b67273f6b6fcf0f4.tiff', 'b696f4cee9edc6c1.tiff', 'b6a6aea6afbd31a1.tiff', 'b76b6af3f8e0c098.tiff', 'b7b5b4b2b2b4177e.tiff', 'b80c10969af0d0d0.tiff', 'b8b070b8f8e98c96.tiff', 'b8b739dd6733f3c6.tiff', 'b8befef4ebf8e0f0.tiff', 'b9b3c1a5a2c6e6f8.tiff', 'b9b95999b0e0c8e0.tiff', 'ba9ba3ea935ef9e3.tiff', 'bba382fede9c9030.tiff', 'bba537a4b5abceee.tiff', 'bbb332d95953c0c2.tiff', 'bbbdccca89b876e4.tiff', 'bcaf4d45e5f2fafe.tiff', 'bcbe765cbcfef8b4.tiff', 'bce2d2d2c393e3b2.tiff', 'bcee66a68ecdf2e2.tiff', 'bcf8e8e8688cc0e0.tiff', 'bdb369e38f3cf6e4.tiff', 'be3e60a90c8e8792.tiff', 'c03232b4e918182c.tiff', 'c04848ca561a8ecd.tiff', 'c07c7c64ac8cfcd8.tiff', 'c0852cd507e25818.tiff', 'c088aacfc630e8cd.tiff', 'c08cf6560e3ef0c8.tiff', 'c0b0bd737abe7cfc.tiff', 'c0c0c1c3c6c4c1f1.tiff', 'c0c94d550d100666.tiff', 'c0e86cecf8fcf4b4.tiff', 'c180c0821070f0e0.tiff', 'c1a1939345c8bc8c.tiff', 'c1b34d61d3c9e4f0.tiff', 'c1c8d9d90c90dcdc.tiff', 'c28203e2e2e1c0c0.tiff', 'c28337daf3dcf1c6.tiff', 'c28616209ac3f198.tiff', 'c28b8fdbf2fefefe.tiff', 'c2ece6a082c6b4c0.tiff', 'c34272b2d2f2f8f0.tiff', 'c383a3a1404b4040.tiff', 'c39384db5b1f1c3c.tiff', 'c3b3bb3b39c9c189.tiff', 'c4253072a4c4c1f0.tiff', 'c480201416ce69e8.tiff', 'c4a484d4757444c6.tiff', 'c4c2c2f6b652cfec.tiff', 'c4c4cce6e4a0b8ec.tiff', 'c4c6a6a424860436.tiff', 'c4c8e9c9c2f0d1df.tiff', 'c4cd6d6d1b67f0d8.tiff', 'c4d4f4b6e6f1f8d2.tiff', 'c4d5f279df9edfe4.tiff', 'c55319bd31230101.tiff', 'c5c4c23860f038b0.tiff', 'c5e5d9c9dee8f0b8.tiff', 'c64272d571c5b0e0.tiff', 'c6666323263ee9b0.tiff', 'c6a434b4cd172626.tiff', 'c6c6d4215864b4c0.tiff', 'c6c9c8e8c9e87c38.tiff', 'c6cecad2a6c6c6de.tiff', 'c6eeec7d7e9cb8ba.tiff', 'c6f6eef0602c8ec6.tiff', 'c77131717179f173.tiff', 'c795cf4af1e3c2cf.tiff', 'c7dfc6c684c4e6b0.tiff', 'c87036b07370d8e0.tiff', 'c8980c2c321333c6.tiff', 'c899d9635b1b4769.tiff', 'c8c9c9c9c8888cf4.tiff', 'c8d2d24e673cfaf2.tiff', 'c8de95c4e7c7c7c7.tiff', 'c8e63e6f6f4dc698.tiff', 'c8e8b9e6c7f6f6fe.tiff', 'c8ea6e65f6e6e6e2.tiff', 'c8ec72222e2e3c74.tiff', 'c8f060bccdfc5e1f.tiff', 'c93b3b2b29b9b8f1.tiff', 'c983c1c0a0ac64e4.tiff', 'c99096f9f3f3f0d8.tiff', 'c9c14424c44467e0.tiff', 'c9c8c6c365c0f0f1.tiff', 'c9cf93777474f2f4.tiff', 'c9ece3fefedad858.tiff', 'ca822a3a1a0a0a42.tiff', 'caaa6ae1e2c0e8e0.tiff', 'cb495c584ed4f0e0.tiff', 'cb8b3e9f93b85cc8.tiff', 'cbcb4bd746fef8fa.tiff', 'cbdbd3d7dbcbeb78.tiff', 'cbf9b79df3ae3c7c.tiff', 'cc0686a6869c32f2.tiff', 'cc0c3e56d43a36fc.tiff', 'cc6cfcb2b0f4f0b0.tiff', 'cc8c9290bcbcf4fc.tiff', 'cc8f87a4a20a9cd8.tiff', 'ccccdcec2bc77206.tiff', 'cccfa3612b58fcdc.tiff', 'cd76b258d8b8b8b0.tiff', 'cdcb5b4bcbcbe3d0.tiff', 'cdcd6ce674a1833e.tiff', 'cdcda171e588cea4.tiff', 'cdd9f0c586def0e4.tiff', 'ce4f8b879ab2dd59.tiff', 'cec6d6c4b6ebfffa.tiff', 'ced6d5e49490b0b4.tiff', 'cf646c7656c1f9ec.tiff', 'cffbcfcbcad69efc.tiff', 'd0444686a7fefcdc.tiff', 'd0469bc98c868488.tiff', 'd05f6bc791e0c0c4.tiff', 'd094c1c9adf2f0c0.tiff', 'd0d1b5a78326ceca.tiff', 'd0d8bc919bf32b99.tiff', 'd191b19099dbb08a.tiff', 'd230a3e32cc8f038.tiff', 'd29242643793c6c6.tiff', 'd2c2c1c0da62e1f3.tiff', 'd2d21288f4c7e3f8.tiff', 'd2d21943002090c2.tiff', 'd2d2928484e2c1c1.tiff', 'd2d8eae2ca3e34e8.tiff', 'd323bcccfe7c75ef.tiff', 'd393dbc7e3e9e69e.tiff', 'd3d3fa3bb2b99aac.tiff', 'd40b931d1c1c18f0.tiff', 'd426269232040c38.tiff', 'd466664c3456bcf4.tiff', 'd472d6dc86f6dedb.tiff', 'd4d4d4591b0be6e0.tiff', 'd4d8b8880cfcc084.tiff', 'd5a524a4d48ff8fc.tiff', 'd5d7c4c41a3bb6de.tiff', 'd6e76fdef676dcf0.tiff', 'd6f4fc96b6b9e0d0.tiff', 'd85729a976f2e0c8.tiff', 'd8bce8c83060e0c0.tiff', 'd8c8e1b43cf0f0f8.tiff', 'd8d6c6c6a68e4c94.tiff', 'd8d8f4c596dce4e3.tiff', 'd8dcdcdc5c9e7fbd.tiff', 'd8e879487079c4c0.tiff', 'd8f3a1b0ecece1ce.tiff', 'd959f8e469d3f0f3.tiff', 'd9993065c5074e8e.tiff', 'd9999d89cdd2d4c5.tiff', 'd9d9c1a0fc7de565.tiff', 'dabfb4a16bf4e0c8.tiff', 'dadad09060e0e070.tiff', 'dafee1a5b3c16878.tiff', 'dbcb27f6e8486870.tiff', 'dbd979980f3f4c60.tiff', 'dc180ac9703caab0.tiff', 'dc9c5c6cacf0f0e0.tiff', 'dc9dbc3cf4d8f9b0.tiff', 'dcc8c9d9992bb5b9.tiff', 'dcdc5cd10c39e393.tiff', 'dce4400092d06ad2.tiff', 'de98989a98526582.tiff', 'defefed676f7b6bb.tiff', 'e060646b69e0e4c2.tiff', 'e066b6a408cce0b8.tiff', 'e07038f8d8d8b0f0.tiff', 'e0737766f2e3c188.tiff', 'e0a03078faba38f8.tiff', 'e0a03138381890f0.tiff', 'e0c5d6d2909573e3.tiff', 'e0c9c8d0e6c0e0b0.tiff', 'e0d931b1f1c090a0.tiff', 'e0e086e6e4941898.tiff', 'e0e0b0e2cccdcde4.tiff', 'e0e0e4b4d4d3a3e0.tiff', 'e0e1e1482b314888.tiff', 'e0e1f3e2d4e0e0e0.tiff', 'e0f0cc6472d0dada.tiff', 'e0f81ac5cefcc0fc.tiff', 'e18046450591e3c2.tiff', 'e1b4e6e381f0f0f0.tiff', 'e1c0f8eac9dcf0e2.tiff', 'e1e2e024606160e0.tiff', 'e260e073e1e5e262.tiff', 'e2684c4de8f3e4ec.tiff', 'e286154d5f33b0c0.tiff', 'e2e2eed3cbfbf6ac.tiff', 'e2f21afaf3d2e2e2.tiff', 'e2f277cdece4e6e4.tiff', 'e2f8f8fcf8f8f8f8.tiff', 'e32544c2c7e39e1b.tiff', 'e34345b8e267f878.tiff', 'e3636153b3b062f0.tiff', 'e36eefe5b4f8fcf8.tiff', 'e37241596449f0dc.tiff', 'e3c2f2a4a0a0f0fe.tiff', 'e3e3d352525e6cb6.tiff', 'e434e4f4f43c98b0.tiff', 'e46471b1f2e0c4c6.tiff', 'e4888be1b74ece98.tiff', 'e4bc440cb4c4c8f8.tiff', 'e4e4dcdc94b47286.tiff', 'e4ecace0ccf8f0f8.tiff', 'e4ecece4a437e56b.tiff', 'e4ede5e4dbe7f0f8.tiff', 'e4ee62d3b0c8d0e0.tiff', 'e56bcce4c6c2e1c8.tiff', 'e58dcbc383424747.tiff', 'e5d64c48199c30b0.tiff', 'e5e575a99c3662c6.tiff', 'e5e74ce3267c6ea6.tiff', 'e5e7a7979393eee8.tiff', 'e6b7f64666d3b1c0.tiff', 'e6ceeccf4d8ff8c0.tiff', 'e6d8d40438c0c8e2.tiff', 'e6e4c4c2cc9c24cc.tiff', 'e6e637b7f3736ae2.tiff', 'e6e648c62ebacc38.tiff', 'e6ece6b6d7c785b0.tiff', 'e6fae89a9e96e6e6.tiff', 'e725a4a727fdf6fe.tiff', 'e75259d9e8a1fcf0.tiff', 'e773576cacccccbc.tiff', 'e7dbc70eb6e1e4f8.tiff', 'e8db9b1bdf5e6c7c.tiff', 'e8e0f01449f3a1dc.tiff', 'e8f4f6c2cce6f1f0.tiff', 'e8f9ecdc9e9fbbee.tiff', 'e959d5dce6e4e4e6.tiff', 'e969695b685c5e4c.tiff', 'e9e1e5e95dcbeced.tiff', 'eb6b4959e03a0ecc.tiff', 'ec64a4e4edb0b2b0.tiff', 'ec6666f4581ce0b8.tiff', 'ec6838383636f0e0.tiff', 'ecaea6b43db3febe.tiff', 'ecb5a2d3c39995c0.tiff', 'ecceefeeced6faec.tiff', 'eccfcdee6ffefebe.tiff', 'ece6ee6aecfcf0e2.tiff', 'ece8eccc8343a6c2.tiff', 'ecedad91141cbe32.tiff', 'ecf0f1f9f0381434.tiff', 'ed2c9cd9593830d0.tiff', 'ed6de1e2f3c3c9f0.tiff', 'edf2e18ff3e0b2b8.tiff', 'ee56f4befcf0f0e8.tiff', 'ee94cd8c3c02c4cc.tiff', 'eee68ccc50506c2c.tiff', 'ef3632c2c1476e78.tiff', 'efaf76818fbefcee.tiff', 'efb898f8f1e1e0e0.tiff', 'efcb4b425a4cbaf7.tiff', 'f034338070c0c8c0.tiff', 'f098cec1dac3a3c3.tiff', 'f0b0a04871160680.tiff', 'f0b0dcf4c383c1b0.tiff', 'f0b4be9a9adaf2d6.tiff', 'f0d0e46432f3e1e0.tiff', 'f0e0b4b82c3c58f8.tiff', 'f0e4c5d5dcf2397c.tiff', 'f0e5c9dc27b69cd8.tiff', 'f0e892e6e373e8f0.tiff', 'f0eaf676befce0f0.tiff', 'f0f23139f01182a2.tiff', 'f0f8f696cad8bc9e.tiff', 'f0f986a52666a0ac.tiff', 'f17979f8fbdbf3f7.tiff', 'f1d190a6a6e0d3d0.tiff', 'f1d1f1d12d44c412.tiff', 'f1e1f5f1f177a033.tiff', 'f1f1edac529c8987.tiff', 'f1f36249cbc991c6.tiff', 'f2787c58366a98fa.tiff', 'f2d0bc32a2207201.tiff', 'f2d4d4c6c6a6e0f8.tiff', 'f2d694991ab0e0c0.tiff', 'f2ea6668c89892a6.tiff', 'f2ebfb3c54e0e07c.tiff', 'f2f26b65b69890e8.tiff', 'f2f2e1212261e0c0.tiff', 'f3eff6d7d2b8c79c.tiff', 'f46a6acb0a60c2f2.tiff', 'f4ca83dc6731310d.tiff', 'f4d69f73c2a79781.tiff', 'f4f0d8e8a990c7f0.tiff', 'f4f8dcdde63c8080.tiff', 'f5351496e6c74f8e.tiff', 'f538ba348ecefcf4.tiff', 'f67ff7371fabfc72.tiff', 'f6b2e372b2f272f2.tiff', 'f6f3e3252fe7cc3b.tiff', 'f7b7b5b5b0ace6dc.tiff', 'f7f7ff96f1871cf0.tiff', 'f866636bc2f8d559.tiff', 'f8bcb89e6ffef8f0.tiff', 'f8dadbcbb3f7fc70.tiff', 'f8ecadd493f9b4b0.tiff', 'f8f8f0e6f73f7ff6.tiff', 'f97131f1f3f9fff3.tiff', 'f9e1f3f1e4948c84.tiff', 'f9f4c60f3edff6f4.tiff', 'fadafaeaf6c6c48c.tiff', 'faf6664cdcf8fbd2.tiff', 'fb7b7a52721e1cb8.tiff', 'fbedededd7d7acec.tiff', 'fbf9f3f3e868f8d0.tiff', 'fc0e63a3aff6fced.tiff', 'fc5cde4d2cf2f2e4.tiff', 'fc949448fc204088.tiff', 'fcdaeb669499c09c.tiff', 'fcded0f4f0feefe1.tiff', 'fce7d1b5989e9e9c.tiff', 'fcf6ecd0d9c3bbf3.tiff', 'fcf9fc7c06cc8f9a.tiff', 'fd35585d0e1285cb.tiff', 'fe98d9cdcff1b396.tiff', 'fef678f0f4fefcfa.tiff', 'fef6b9f6f6b2f0d2.tiff', 'ff6f4d9c34315c6c.tiff', 'ffffe2e0b2b338e0.tiff', 'idle']\n",
      "Writing '/mnt/z/Projects/2023_Scholte_FMG1441/BIDS-Data/sub-05/ses-01/eeg/sub-05_ses-01_task-rsvp_run-1_events.tsv'...\n",
      "Writing '/mnt/z/Projects/2023_Scholte_FMG1441/BIDS-Data/dataset_description.json'...\n",
      "Writing '/mnt/z/Projects/2023_Scholte_FMG1441/BIDS-Data/sub-05/ses-01/eeg/sub-05_ses-01_task-rsvp_run-1_eeg.json'...\n",
      "Writing '/mnt/z/Projects/2023_Scholte_FMG1441/BIDS-Data/sub-05/ses-01/eeg/sub-05_ses-01_task-rsvp_run-1_channels.tsv'...\n",
      "Copying data files to sub-05_ses-01_task-rsvp_run-1_eeg.bdf\n",
      "Reading 0 ... 3666943  =      0.000 ...  3580.999 secs...\n"
     ]
    },
    {
     "ename": "KeyboardInterrupt",
     "evalue": "",
     "output_type": "error",
     "traceback": [
      "\u001b[0;31m---------------------------------------------------------------------------\u001b[0m",
      "\u001b[0;31mKeyboardInterrupt\u001b[0m                         Traceback (most recent call last)",
      "Cell \u001b[0;32mIn[107], line 8\u001b[0m\n\u001b[1;32m      1\u001b[0m bids_path \u001b[39m=\u001b[39m BIDSPath(\n\u001b[1;32m      2\u001b[0m     subject\u001b[39m=\u001b[39m\u001b[39m'\u001b[39m\u001b[39m05\u001b[39m\u001b[39m'\u001b[39m,\n\u001b[1;32m      3\u001b[0m     session\u001b[39m=\u001b[39m\u001b[39m'\u001b[39m\u001b[39m01\u001b[39m\u001b[39m'\u001b[39m,\n\u001b[0;32m   (...)\u001b[0m\n\u001b[1;32m      6\u001b[0m     root\u001b[39m=\u001b[39moutput_dir\n\u001b[1;32m      7\u001b[0m )\n\u001b[0;32m----> 8\u001b[0m write_raw_bids(\n\u001b[1;32m      9\u001b[0m     raw\u001b[39m=\u001b[39;49mraw,\n\u001b[1;32m     10\u001b[0m     events\u001b[39m=\u001b[39;49mconverted_events,\n\u001b[1;32m     11\u001b[0m     event_id\u001b[39m=\u001b[39;49mAll_Images_dict,\n\u001b[1;32m     12\u001b[0m     bids_path\u001b[39m=\u001b[39;49mbids_path,\n\u001b[1;32m     13\u001b[0m     overwrite\u001b[39m=\u001b[39;49m\u001b[39mTrue\u001b[39;49;00m,\n\u001b[1;32m     14\u001b[0m     allow_preload\u001b[39m=\u001b[39;49m\u001b[39mFalse\u001b[39;49;00m,\n\u001b[1;32m     15\u001b[0m )\n",
      "File \u001b[0;32m<decorator-gen-620>:12\u001b[0m, in \u001b[0;36mwrite_raw_bids\u001b[0;34m(raw, bids_path, events, event_id, anonymize, format, symlink, empty_room, allow_preload, montage, acpc_aligned, overwrite, events_data, verbose)\u001b[0m\n",
      "File \u001b[0;32m~/anaconda3/envs/oads/lib/python3.9/site-packages/mne_bids/write.py:1927\u001b[0m, in \u001b[0;36mwrite_raw_bids\u001b[0;34m(***failed resolving arguments***)\u001b[0m\n\u001b[1;32m   1924\u001b[0m \u001b[39mif\u001b[39;00m bids_path\u001b[39m.\u001b[39mfpath\u001b[39m.\u001b[39mexists():\n\u001b[1;32m   1925\u001b[0m     \u001b[39mif\u001b[39;00m overwrite:\n\u001b[1;32m   1926\u001b[0m         \u001b[39m# Need to load data before removing its source\u001b[39;00m\n\u001b[0;32m-> 1927\u001b[0m         raw\u001b[39m.\u001b[39;49mload_data()\n\u001b[1;32m   1928\u001b[0m         \u001b[39mif\u001b[39;00m bids_path\u001b[39m.\u001b[39mfpath\u001b[39m.\u001b[39mis_dir():\n\u001b[1;32m   1929\u001b[0m             shutil\u001b[39m.\u001b[39mrmtree(bids_path\u001b[39m.\u001b[39mfpath)\n",
      "File \u001b[0;32m<decorator-gen-225>:12\u001b[0m, in \u001b[0;36mload_data\u001b[0;34m(self, verbose)\u001b[0m\n",
      "File \u001b[0;32m~/anaconda3/envs/oads/lib/python3.9/site-packages/mne/io/base.py:497\u001b[0m, in \u001b[0;36mBaseRaw.load_data\u001b[0;34m(self, verbose)\u001b[0m\n\u001b[1;32m    478\u001b[0m \u001b[39m\u001b[39m\u001b[39m\"\"\"Load raw data.\u001b[39;00m\n\u001b[1;32m    479\u001b[0m \n\u001b[1;32m    480\u001b[0m \u001b[39mParameters\u001b[39;00m\n\u001b[0;32m   (...)\u001b[0m\n\u001b[1;32m    494\u001b[0m \u001b[39m.. versionadded:: 0.10.0\u001b[39;00m\n\u001b[1;32m    495\u001b[0m \u001b[39m\"\"\"\u001b[39;00m\n\u001b[1;32m    496\u001b[0m \u001b[39mif\u001b[39;00m \u001b[39mnot\u001b[39;00m \u001b[39mself\u001b[39m\u001b[39m.\u001b[39mpreload:\n\u001b[0;32m--> 497\u001b[0m     \u001b[39mself\u001b[39;49m\u001b[39m.\u001b[39;49m_preload_data(\u001b[39mTrue\u001b[39;49;00m)\n\u001b[1;32m    498\u001b[0m \u001b[39mreturn\u001b[39;00m \u001b[39mself\u001b[39m\n",
      "File \u001b[0;32m~/anaconda3/envs/oads/lib/python3.9/site-packages/mne/io/base.py:507\u001b[0m, in \u001b[0;36mBaseRaw._preload_data\u001b[0;34m(self, preload)\u001b[0m\n\u001b[1;32m    504\u001b[0m     data_buffer \u001b[39m=\u001b[39m \u001b[39mNone\u001b[39;00m\n\u001b[1;32m    505\u001b[0m logger\u001b[39m.\u001b[39minfo(\u001b[39m'\u001b[39m\u001b[39mReading \u001b[39m\u001b[39m%d\u001b[39;00m\u001b[39m ... \u001b[39m\u001b[39m%d\u001b[39;00m\u001b[39m  =  \u001b[39m\u001b[39m%9.3f\u001b[39;00m\u001b[39m ... \u001b[39m\u001b[39m%9.3f\u001b[39;00m\u001b[39m secs...\u001b[39m\u001b[39m'\u001b[39m \u001b[39m%\u001b[39m\n\u001b[1;32m    506\u001b[0m             (\u001b[39m0\u001b[39m, \u001b[39mlen\u001b[39m(\u001b[39mself\u001b[39m\u001b[39m.\u001b[39mtimes) \u001b[39m-\u001b[39m \u001b[39m1\u001b[39m, \u001b[39m0.\u001b[39m, \u001b[39mself\u001b[39m\u001b[39m.\u001b[39mtimes[\u001b[39m-\u001b[39m\u001b[39m1\u001b[39m]))\n\u001b[0;32m--> 507\u001b[0m \u001b[39mself\u001b[39m\u001b[39m.\u001b[39m_data \u001b[39m=\u001b[39m \u001b[39mself\u001b[39;49m\u001b[39m.\u001b[39;49m_read_segment(\n\u001b[1;32m    508\u001b[0m     data_buffer\u001b[39m=\u001b[39;49mdata_buffer, projector\u001b[39m=\u001b[39;49m\u001b[39mself\u001b[39;49m\u001b[39m.\u001b[39;49m_projector)\n\u001b[1;32m    509\u001b[0m \u001b[39massert\u001b[39;00m \u001b[39mlen\u001b[39m(\u001b[39mself\u001b[39m\u001b[39m.\u001b[39m_data) \u001b[39m==\u001b[39m \u001b[39mself\u001b[39m\u001b[39m.\u001b[39minfo[\u001b[39m'\u001b[39m\u001b[39mnchan\u001b[39m\u001b[39m'\u001b[39m]\n\u001b[1;32m    510\u001b[0m \u001b[39mself\u001b[39m\u001b[39m.\u001b[39mpreload \u001b[39m=\u001b[39m \u001b[39mTrue\u001b[39;00m\n",
      "File \u001b[0;32m<decorator-gen-224>:12\u001b[0m, in \u001b[0;36m_read_segment\u001b[0;34m(self, start, stop, sel, data_buffer, projector, verbose)\u001b[0m\n",
      "File \u001b[0;32m~/anaconda3/envs/oads/lib/python3.9/site-packages/mne/io/base.py:392\u001b[0m, in \u001b[0;36mBaseRaw._read_segment\u001b[0;34m(***failed resolving arguments***)\u001b[0m\n\u001b[1;32m    390\u001b[0m     \u001b[39m# reindex back to original file\u001b[39;00m\n\u001b[1;32m    391\u001b[0m     orig_idx \u001b[39m=\u001b[39m _convert_slice(\u001b[39mself\u001b[39m\u001b[39m.\u001b[39m_read_picks[fi][need_idx])\n\u001b[0;32m--> 392\u001b[0m     _ReadSegmentFileProtector(\u001b[39mself\u001b[39;49m)\u001b[39m.\u001b[39;49m_read_segment_file(\n\u001b[1;32m    393\u001b[0m         data[:, this_sl], orig_idx, fi,\n\u001b[1;32m    394\u001b[0m         \u001b[39mint\u001b[39;49m(start_file), \u001b[39mint\u001b[39;49m(stop_file), cals, mult)\n\u001b[1;32m    395\u001b[0m     offset \u001b[39m+\u001b[39m\u001b[39m=\u001b[39m n_read\n\u001b[1;32m    396\u001b[0m \u001b[39mreturn\u001b[39;00m data\n",
      "File \u001b[0;32m~/anaconda3/envs/oads/lib/python3.9/site-packages/mne/io/base.py:2145\u001b[0m, in \u001b[0;36m_ReadSegmentFileProtector._read_segment_file\u001b[0;34m(self, data, idx, fi, start, stop, cals, mult)\u001b[0m\n\u001b[1;32m   2144\u001b[0m \u001b[39mdef\u001b[39;00m \u001b[39m_read_segment_file\u001b[39m(\u001b[39mself\u001b[39m, data, idx, fi, start, stop, cals, mult):\n\u001b[0;32m-> 2145\u001b[0m     \u001b[39mreturn\u001b[39;00m \u001b[39mself\u001b[39;49m\u001b[39m.\u001b[39;49m__raw\u001b[39m.\u001b[39;49m\u001b[39m__class__\u001b[39;49m\u001b[39m.\u001b[39;49m_read_segment_file(\n\u001b[1;32m   2146\u001b[0m         \u001b[39mself\u001b[39;49m, data, idx, fi, start, stop, cals, mult)\n",
      "File \u001b[0;32m~/anaconda3/envs/oads/lib/python3.9/site-packages/mne/io/edf/edf.py:191\u001b[0m, in \u001b[0;36mRawEDF._read_segment_file\u001b[0;34m(self, data, idx, fi, start, stop, cals, mult)\u001b[0m\n\u001b[1;32m    189\u001b[0m \u001b[39mdef\u001b[39;00m \u001b[39m_read_segment_file\u001b[39m(\u001b[39mself\u001b[39m, data, idx, fi, start, stop, cals, mult):\n\u001b[1;32m    190\u001b[0m \u001b[39m    \u001b[39m\u001b[39m\"\"\"Read a chunk of raw data.\"\"\"\u001b[39;00m\n\u001b[0;32m--> 191\u001b[0m     \u001b[39mreturn\u001b[39;00m _read_segment_file(data, idx, fi, start, stop,\n\u001b[1;32m    192\u001b[0m                               \u001b[39mself\u001b[39;49m\u001b[39m.\u001b[39;49m_raw_extras[fi], \u001b[39mself\u001b[39;49m\u001b[39m.\u001b[39;49m_filenames[fi],\n\u001b[1;32m    193\u001b[0m                               cals, mult)\n",
      "File \u001b[0;32m~/anaconda3/envs/oads/lib/python3.9/site-packages/mne/io/edf/edf.py:335\u001b[0m, in \u001b[0;36m_read_segment_file\u001b[0;34m(data, idx, fi, start, stop, raw_extras, filenames, cals, mult)\u001b[0m\n\u001b[1;32m    333\u001b[0m fid\u001b[39m.\u001b[39mseek(start_offset \u001b[39m+\u001b[39m block_offset, \u001b[39m0\u001b[39m)\n\u001b[1;32m    334\u001b[0m \u001b[39m# Read and reshape to (n_chunks_read, ch0_ch1_ch2_ch3...)\u001b[39;00m\n\u001b[0;32m--> 335\u001b[0m many_chunk \u001b[39m=\u001b[39m _read_ch(fid, subtype, ch_offsets[\u001b[39m-\u001b[39;49m\u001b[39m1\u001b[39;49m] \u001b[39m*\u001b[39;49m n_read,\n\u001b[1;32m    336\u001b[0m                       dtype_byte, dtype)\u001b[39m.\u001b[39mreshape(n_read, \u001b[39m-\u001b[39m\u001b[39m1\u001b[39m)\n\u001b[1;32m    337\u001b[0m r_sidx \u001b[39m=\u001b[39m r_lims[ai][\u001b[39m0\u001b[39m]\n\u001b[1;32m    338\u001b[0m r_eidx \u001b[39m=\u001b[39m (buf_len \u001b[39m*\u001b[39m (n_read \u001b[39m-\u001b[39m \u001b[39m1\u001b[39m) \u001b[39m+\u001b[39m r_lims[ai \u001b[39m+\u001b[39m n_read \u001b[39m-\u001b[39m \u001b[39m1\u001b[39m][\u001b[39m1\u001b[39m])\n",
      "File \u001b[0;32m~/anaconda3/envs/oads/lib/python3.9/site-packages/mne/io/edf/edf.py:278\u001b[0m, in \u001b[0;36m_read_ch\u001b[0;34m(fid, subtype, samp, dtype_byte, dtype)\u001b[0m\n\u001b[1;32m    276\u001b[0m \u001b[39m# BDF\u001b[39;00m\n\u001b[1;32m    277\u001b[0m \u001b[39mif\u001b[39;00m subtype \u001b[39m==\u001b[39m \u001b[39m'\u001b[39m\u001b[39mbdf\u001b[39m\u001b[39m'\u001b[39m:\n\u001b[0;32m--> 278\u001b[0m     ch_data \u001b[39m=\u001b[39m np\u001b[39m.\u001b[39;49mfromfile(fid, dtype\u001b[39m=\u001b[39;49mdtype, count\u001b[39m=\u001b[39;49msamp \u001b[39m*\u001b[39;49m dtype_byte)\n\u001b[1;32m    279\u001b[0m     ch_data \u001b[39m=\u001b[39m ch_data\u001b[39m.\u001b[39mreshape(\u001b[39m-\u001b[39m\u001b[39m1\u001b[39m, \u001b[39m3\u001b[39m)\u001b[39m.\u001b[39mastype(INT32)\n\u001b[1;32m    280\u001b[0m     ch_data \u001b[39m=\u001b[39m ((ch_data[:, \u001b[39m0\u001b[39m]) \u001b[39m+\u001b[39m\n\u001b[1;32m    281\u001b[0m                (ch_data[:, \u001b[39m1\u001b[39m] \u001b[39m<<\u001b[39m \u001b[39m8\u001b[39m) \u001b[39m+\u001b[39m\n\u001b[1;32m    282\u001b[0m                (ch_data[:, \u001b[39m2\u001b[39m] \u001b[39m<<\u001b[39m \u001b[39m16\u001b[39m))\n",
      "\u001b[0;31mKeyboardInterrupt\u001b[0m: "
     ]
    }
   ],
   "source": [
    "bids_path = BIDSPath(\n",
    "    subject='05',\n",
    "    session='01',\n",
    "    task=task,\n",
    "    run='1',\n",
    "    root=output_dir\n",
    ")\n",
    "write_raw_bids(\n",
    "    raw=raw,\n",
    "    events=converted_events,\n",
    "    event_id=All_Images_dict,\n",
    "    bids_path=bids_path,\n",
    "    overwrite=True,\n",
    "    allow_preload=False,\n",
    ")"
   ]
  },
  {
   "cell_type": "code",
   "execution_count": null,
   "metadata": {},
   "outputs": [],
   "source": [
    "# Get the sidecar ``.json`` file\n",
    "sidecar_json_bids_path = bids_path.copy().update(extension='.json')\n",
    "sidecar_json_content = sidecar_json_bids_path.fpath.read_text(\n",
    "    encoding='utf-8-sig'\n",
    ")\n",
    "print(sidecar_json_content)"
   ]
  },
  {
   "cell_type": "code",
   "execution_count": 8,
   "metadata": {},
   "outputs": [
    {
     "name": "stdout",
     "output_type": "stream",
     "text": [
      "Reading /mnt/z/Projects/2023_Scholte_FMG1441/Data/sub_5/Preprocessed epochs/sub_5-OC&CSD-AutoReject-epo.fif ...\n"
     ]
    }
   ],
   "source": [
    "all_epochs = {}\n",
    "for sub in range(5, 36):\n",
    "    eeg_dir = f'/mnt/z/Projects/2023_Scholte_FMG1441/Data/sub_{sub}/Preprocessed epochs/sub_{sub}-OC&CSD-AutoReject-epo.fif'\n",
    "\n",
    "    all_epochs[sub] = mne.read_epochs(fname=eeg_dir, preload=True)"
   ]
  },
  {
   "attachments": {},
   "cell_type": "markdown",
   "metadata": {},
   "source": [
    "# EEG Plots"
   ]
  },
  {
   "cell_type": "code",
   "execution_count": 5,
   "metadata": {},
   "outputs": [
    {
     "name": "stdout",
     "output_type": "stream",
     "text": [
      "Reading /home/nmuller/projects/data/oads_eeg/sub_12/sub_12-OC&CSD-AutoReject-epo.fif ...\n",
      "    Found the data of interest:\n",
      "        t =     -99.61 ...     400.39 ms\n",
      "        0 CTF compensation matrices available\n",
      "Not setting metadata\n",
      "3983 matching events found\n",
      "No baseline correction applied\n",
      "0 projection items activated\n"
     ]
    }
   ],
   "source": [
    "sub = 12\n",
    "\n",
    "eeg_dir = f'/home/nmuller/projects/data/oads_eeg/sub_{sub}/sub_{sub}-OC&CSD-AutoReject-epo.fif'\n",
    "\n",
    "epochs = mne.read_epochs(fname=eeg_dir, preload=True)"
   ]
  },
  {
   "cell_type": "code",
   "execution_count": 11,
   "metadata": {},
   "outputs": [],
   "source": [
    "import matplotlib.pyplot as plt"
   ]
  },
  {
   "cell_type": "code",
   "execution_count": null,
   "metadata": {},
   "outputs": [],
   "source": [
    "fig = epochs.average().plot()\n",
    "font = {'size'   : 40}\n",
    "plt.rc('font', **font)\n",
    "plt.rc('legend', fontsize=35)\n",
    "\n",
    "\n",
    "plt.setp(fig.axes[0].get_lines(), linewidth=3)\n",
    "fig.set_figwidth(20)\n",
    "fig.set_figheight(12)\n",
    "fig.axes[0].set_title('64 channels', fontsize=40)\n",
    "fig.axes[0].set_ylabel('')\n",
    "fig.axes[0].set_xlabel('Time (s)', fontsize=35)\n",
    "fig.set_dpi(300)\n",
    "fig.axes[0].spines['right'].set_visible(False)\n",
    "fig.axes[0].spines['top'].set_visible(False)\n",
    "plt.xticks(fontsize=35)\n",
    "plt.yticks(fontsize=35)\n",
    "# fig.axes[0].spines['left'].set_visible(False)\n",
    "# fig.axes[0].spines['bottom'].set_visible(False)\n",
    "# fig.axes[0].get_xaxis().set_visible(False)\n",
    "# fig.axes[0].get_yaxis().set_visible(False)\n",
    "fig.savefig(dpi=300, fname=f'sub_{sub}_epochs_transparent.png', transparent=True)\n",
    "fig.savefig(dpi=300, fname=f'sub_{sub}_epochs.png', transparent=False)"
   ]
  }
 ],
 "metadata": {
  "kernelspec": {
   "display_name": "oads",
   "language": "python",
   "name": "python3"
  },
  "language_info": {
   "codemirror_mode": {
    "name": "ipython",
    "version": 3
   },
   "file_extension": ".py",
   "mimetype": "text/x-python",
   "name": "python",
   "nbconvert_exporter": "python",
   "pygments_lexer": "ipython3",
   "version": "3.9.13"
  },
  "orig_nbformat": 4
 },
 "nbformat": 4,
 "nbformat_minor": 2
}
