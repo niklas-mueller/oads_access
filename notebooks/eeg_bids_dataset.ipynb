{
 "cells": [
  {
   "cell_type": "code",
   "execution_count": 1,
   "metadata": {},
   "outputs": [],
   "source": [
    "import os.path as op\n",
    "import shutil\n",
    "\n",
    "import mne\n",
    "from mne.datasets import eegbci\n",
    "\n",
    "from mne_bids import write_raw_bids, BIDSPath, print_dir_tree\n",
    "from mne_bids.stats import count_events"
   ]
  },
  {
   "cell_type": "code",
   "execution_count": 2,
   "metadata": {},
   "outputs": [],
   "source": [
    "# get MNE directory with example data\n",
    "# mne_data_dir = mne.get_config('MNE_DATASETS_EEGBCI_PATH')\n",
    "# data_dir = op.join(mne_data_dir, 'MNE-eegbci-data')\n",
    "data_dir = '/mnt/z/Projects/2023_Scholte_FMG1441/Data'\n",
    "# print_dir_tree(data_dir)"
   ]
  },
  {
   "cell_type": "code",
   "execution_count": 8,
   "metadata": {},
   "outputs": [
    {
     "name": "stdout",
     "output_type": "stream",
     "text": [
      "Reading /mnt/z/Projects/2023_Scholte_FMG1441/Data/sub_5/Preprocessed epochs/sub_5-OC&CSD-AutoReject-epo.fif ...\n"
     ]
    }
   ],
   "source": [
    "all_epochs = {}\n",
    "for sub in range(5, 36):\n",
    "    eeg_dir = f'/mnt/z/Projects/2023_Scholte_FMG1441/Data/sub_{sub}/Preprocessed epochs/sub_{sub}-OC&CSD-AutoReject-epo.fif'\n",
    "\n",
    "    all_epochs[sub] = mne.read_epochs(fname=eeg_dir, preload=True)"
   ]
  }
 ],
 "metadata": {
  "kernelspec": {
   "display_name": "oads",
   "language": "python",
   "name": "python3"
  },
  "language_info": {
   "codemirror_mode": {
    "name": "ipython",
    "version": 3
   },
   "file_extension": ".py",
   "mimetype": "text/x-python",
   "name": "python",
   "nbconvert_exporter": "python",
   "pygments_lexer": "ipython3",
   "version": "3.9.13"
  },
  "orig_nbformat": 4
 },
 "nbformat": 4,
 "nbformat_minor": 2
}
