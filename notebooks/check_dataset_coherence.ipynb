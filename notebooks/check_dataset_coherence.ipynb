{
 "cells": [
  {
   "cell_type": "code",
   "execution_count": 97,
   "metadata": {},
   "outputs": [
    {
     "name": "stderr",
     "output_type": "stream",
     "text": [
      "/home/niklas/anaconda3/envs/oads/lib/python3.9/site-packages/modgrammar/__init__.py:1564: FutureWarning: Possible nested set at position 1\n",
      "  cls.regexp = re.compile(regexp)\n",
      "/home/niklas/anaconda3/envs/oads/lib/python3.9/site-packages/modgrammar/__init__.py:1564: FutureWarning: Possible nested set at position 9\n",
      "  cls.regexp = re.compile(regexp)\n"
     ]
    }
   ],
   "source": [
    "import os\n",
    "import rawpy\n",
    "import imageio\n",
    "from PIL import Image\n",
    "import shutil\n",
    "import osf"
   ]
  },
  {
   "cell_type": "code",
   "execution_count": 87,
   "metadata": {},
   "outputs": [],
   "source": [
    "import numpy as np"
   ]
  },
  {
   "cell_type": "code",
   "execution_count": 39,
   "metadata": {},
   "outputs": [],
   "source": [
    "oads_dir = '/mnt/c/Users/nikla/OneDrive - UvA/OADS_Backup'\n",
    "arw_dir = os.path.join(oads_dir, 'ARW')\n",
    "jpeg_dir = os.path.join(oads_dir, 'JPG')\n",
    "supervisely_dir = os.path.join(oads_dir, 'Supervisely')"
   ]
  },
  {
   "cell_type": "code",
   "execution_count": 86,
   "metadata": {},
   "outputs": [
    {
     "data": {
      "text/plain": [
       "6130"
      ]
     },
     "execution_count": 86,
     "metadata": {},
     "output_type": "execute_result"
    }
   ],
   "source": [
    "len(os.listdir(arw_dir))"
   ]
  },
  {
   "cell_type": "code",
   "execution_count": 84,
   "metadata": {},
   "outputs": [
    {
     "data": {
      "text/plain": [
       "6130"
      ]
     },
     "execution_count": 84,
     "metadata": {},
     "output_type": "execute_result"
    }
   ],
   "source": [
    "len(os.listdir(jpeg_dir))"
   ]
  },
  {
   "cell_type": "code",
   "execution_count": 85,
   "metadata": {},
   "outputs": [
    {
     "data": {
      "text/plain": [
       "6130"
      ]
     },
     "execution_count": 85,
     "metadata": {},
     "output_type": "execute_result"
    }
   ],
   "source": [
    "len(os.listdir(supervisely_dir))"
   ]
  },
  {
   "cell_type": "code",
   "execution_count": 92,
   "metadata": {},
   "outputs": [],
   "source": [
    "jpeg_filenames = os.listdir(jpeg_dir)\n",
    "supervisely_filenames = os.listdir(supervisely_dir)\n",
    "arw_filenames = os.listdir(arw_dir)"
   ]
  },
  {
   "cell_type": "code",
   "execution_count": 83,
   "metadata": {},
   "outputs": [],
   "source": [
    "# for x in set([x for x in jpeg_filenames]):\n",
    "#     arw_filename = f\"{x.split('.')[0]}.ARW\"\n",
    "#     if arw_filename not in arw_filenames:\n",
    "#         os.unlink(os.path.join(jpeg_dir, x))\n",
    "\n",
    "# for x in set([x for x in supervisely_filenames]):\n",
    "#     arw_filename = f\"{x.split('.')[0]}.ARW\"\n",
    "#     if arw_filename not in arw_filenames:\n",
    "#         os.unlink(os.path.join(supervisely_dir, x))\n",
    "    \n",
    "# for x in [x for x in os.listdir(supervisely_dir) if x.split('.')[1] != \"JPG\"]:\n",
    "#     if os.path.join(supervisely_dir, f\"{x.split('.')[0]}.JPG\") in os.listdir(supervisely_dir):\n",
    "#         os.unlink(os.path.join(supervisely_dir, x))\n",
    "#     else:\n",
    "#         os.rename(os.path.join(supervisely_dir, x), os.path.join(supervisely_dir, f\"{x.split('.')[0]}.JPG\"))"
   ]
  },
  {
   "cell_type": "code",
   "execution_count": 21,
   "metadata": {},
   "outputs": [],
   "source": [
    "jpeg_ids = [x.split('.')[0] for x in os.listdir(jpeg_dir)]\n",
    "supervisely_ids = [x.split('.')[0] for x in os.listdir(supervisely_dir)]"
   ]
  },
  {
   "cell_type": "code",
   "execution_count": 23,
   "metadata": {},
   "outputs": [],
   "source": [
    "missing_jpeg = []\n",
    "missing_supervisely = []\n",
    "for x in os.listdir(arw_dir):\n",
    "    image_name = x.split('.')[0]\n",
    "    if image_name not in jpeg_ids:\n",
    "        missing_jpeg.append(image_name)\n",
    "    if image_name not in supervisely_ids:\n",
    "        missing_supervisely.append(image_name)"
   ]
  },
  {
   "cell_type": "code",
   "execution_count": 31,
   "metadata": {},
   "outputs": [],
   "source": [
    "import tqdm"
   ]
  },
  {
   "cell_type": "code",
   "execution_count": 36,
   "metadata": {},
   "outputs": [],
   "source": [
    "is_indoor = False"
   ]
  },
  {
   "cell_type": "code",
   "execution_count": 46,
   "metadata": {},
   "outputs": [
    {
     "name": "stderr",
     "output_type": "stream",
     "text": [
      "100%|██████████| 1478/1478 [07:22<00:00,  3.34it/s]\n"
     ]
    }
   ],
   "source": [
    "counter = 0\n",
    "for x in tqdm.tqdm(missing_supervisely):\n",
    "    jpeg_path = os.path.join(jpeg_dir, f\"{x}.JPG\")\n",
    "    arw_path = os.path.join(arw_dir, f\"{x}.ARW\")\n",
    "    supervisely_path = os.path.join(supervisely_dir, f\"{x}.JPG\")\n",
    "    # print(jpeg_path)\n",
    "    with Image.open(jpeg_path) as im:\n",
    "        w, h = im.size # get width, heigth\n",
    "        # if (w, h) != (5496, 3672):\n",
    "        #     # Recompute JPEG\n",
    "        #     with rawpy.imread(arw_path) as raw:\n",
    "        #         if is_indoor:\n",
    "        #             rgb = raw.postprocess(no_auto_bright=True, gamma=(10,10))\n",
    "        #         else:\n",
    "        #             rgb = raw.postprocess()\n",
    "        #         imageio.imsave(jpeg_path, rgb) # save in JPG folder\n",
    "\n",
    "            # print(w,h)\n",
    "            # counter += 1\n",
    "        new_w = int(w/4) # resize by factor 4\n",
    "        new_h = int(h/4)\n",
    "        # if (new_h, new_w) != (918, 1374):\n",
    "        #     print(new_h, new_w)\n",
    "        imResize = im.resize((new_w,new_h), Image.Resampling.LANCZOS) \n",
    "        imName = supervisely_path\n",
    "        imResize.save(imName, 'JPEG') # save in the seperate Supervisely folder"
   ]
  },
  {
   "cell_type": "code",
   "execution_count": 33,
   "metadata": {},
   "outputs": [
    {
     "data": {
      "text/plain": [
       "1117"
      ]
     },
     "execution_count": 33,
     "metadata": {},
     "output_type": "execute_result"
    }
   ],
   "source": [
    "counter"
   ]
  },
  {
   "attachments": {},
   "cell_type": "markdown",
   "metadata": {},
   "source": [
    "## Dataverse "
   ]
  },
  {
   "cell_type": "code",
   "execution_count": 51,
   "metadata": {},
   "outputs": [
    {
     "name": "stdout",
     "output_type": "stream",
     "text": [
      "Collecting pyDataverse\n",
      "  Downloading pyDataverse-0.3.1-py3-none-any.whl (32 kB)\n",
      "Requirement already satisfied: requests>=2.12.0 in /home/niklas/anaconda3/envs/oads/lib/python3.9/site-packages (from pyDataverse) (2.28.1)\n",
      "Requirement already satisfied: jsonschema>=3.2.0 in /home/niklas/anaconda3/envs/oads/lib/python3.9/site-packages (from pyDataverse) (4.16.0)\n",
      "Requirement already satisfied: pyrsistent!=0.17.0,!=0.17.1,!=0.17.2,>=0.14.0 in /home/niklas/anaconda3/envs/oads/lib/python3.9/site-packages (from jsonschema>=3.2.0->pyDataverse) (0.18.0)\n",
      "Requirement already satisfied: attrs>=17.4.0 in /home/niklas/anaconda3/envs/oads/lib/python3.9/site-packages (from jsonschema>=3.2.0->pyDataverse) (21.4.0)\n",
      "Requirement already satisfied: charset-normalizer<3,>=2 in /home/niklas/anaconda3/envs/oads/lib/python3.9/site-packages (from requests>=2.12.0->pyDataverse) (2.0.4)\n",
      "Requirement already satisfied: idna<4,>=2.5 in /home/niklas/anaconda3/envs/oads/lib/python3.9/site-packages (from requests>=2.12.0->pyDataverse) (3.3)\n",
      "Requirement already satisfied: certifi>=2017.4.17 in /home/niklas/anaconda3/envs/oads/lib/python3.9/site-packages (from requests>=2.12.0->pyDataverse) (2023.5.7)\n",
      "Requirement already satisfied: urllib3<1.27,>=1.21.1 in /home/niklas/anaconda3/envs/oads/lib/python3.9/site-packages (from requests>=2.12.0->pyDataverse) (1.26.11)\n",
      "Installing collected packages: pyDataverse\n",
      "Successfully installed pyDataverse-0.3.1\n"
     ]
    }
   ],
   "source": [
    "!pip install pyDataverse"
   ]
  },
  {
   "cell_type": "code",
   "execution_count": 59,
   "metadata": {},
   "outputs": [],
   "source": [
    "from pyDataverse.models import Dataset\n",
    "from pyDataverse.utils import read_file\n",
    "from pyDataverse.api import NativeApi\n",
    "api = NativeApi('https://dataverse.harvard.edu', '778628b9-2a95-4e65-891e-1cbc8be0fe78')"
   ]
  },
  {
   "cell_type": "code",
   "execution_count": 62,
   "metadata": {},
   "outputs": [
    {
     "data": {
      "text/plain": [
       "{'status': 'OK', 'data': {'version': '5.13', 'build': '1244-79d6e57'}}"
      ]
     },
     "execution_count": 62,
     "metadata": {},
     "output_type": "execute_result"
    }
   ],
   "source": [
    "api.get_info_version().json()"
   ]
  },
  {
   "cell_type": "code",
   "execution_count": 63,
   "metadata": {},
   "outputs": [],
   "source": [
    "from pyDataverse.models import Datafile, Dataset\n",
    "df = Datafile()"
   ]
  },
  {
   "cell_type": "code",
   "execution_count": 64,
   "metadata": {},
   "outputs": [],
   "source": [
    "ds_pid = 'doi:10.7910/DVN/YNSDOU'"
   ]
  },
  {
   "cell_type": "code",
   "execution_count": 72,
   "metadata": {},
   "outputs": [],
   "source": [
    "import os"
   ]
  },
  {
   "cell_type": "code",
   "execution_count": 73,
   "metadata": {},
   "outputs": [],
   "source": [
    "oads_dir = '/home/niklas/projects/data/oads/oads_arw/ARW/'\n",
    "oads_images = [os.path.join(oads_dir, x) for x in os.listdir(oads_dir)]"
   ]
  },
  {
   "cell_type": "code",
   "execution_count": 87,
   "metadata": {},
   "outputs": [
    {
     "ename": "KeyboardInterrupt",
     "evalue": "",
     "output_type": "error",
     "traceback": [
      "\u001b[0;31m---------------------------------------------------------------------------\u001b[0m",
      "\u001b[0;31mKeyboardInterrupt\u001b[0m                         Traceback (most recent call last)",
      "Cell \u001b[0;32mIn[87], line 4\u001b[0m\n\u001b[1;32m      2\u001b[0m df\u001b[39m.\u001b[39mset({\u001b[39m\"\u001b[39m\u001b[39mpid\u001b[39m\u001b[39m\"\u001b[39m: ds_pid, \u001b[39m\"\u001b[39m\u001b[39mfilename\u001b[39m\u001b[39m\"\u001b[39m: image_path})\n\u001b[1;32m      3\u001b[0m \u001b[39m# df.get()\u001b[39;00m\n\u001b[0;32m----> 4\u001b[0m resp \u001b[39m=\u001b[39m api\u001b[39m.\u001b[39;49mupload_datafile(ds_pid, image_path, df\u001b[39m.\u001b[39;49mjson())\n\u001b[1;32m      5\u001b[0m resp\u001b[39m.\u001b[39mjson()\n",
      "File \u001b[0;32m~/anaconda3/envs/oads/lib/python3.9/site-packages/pyDataverse/api.py:1684\u001b[0m, in \u001b[0;36mNativeApi.upload_datafile\u001b[0;34m(self, identifier, filename, json_str, is_pid)\u001b[0m\n\u001b[1;32m   1681\u001b[0m     url \u001b[39m+\u001b[39m\u001b[39m=\u001b[39m \u001b[39m\"\u001b[39m\u001b[39m/datasets/\u001b[39m\u001b[39m{0}\u001b[39;00m\u001b[39m/add\u001b[39m\u001b[39m\"\u001b[39m\u001b[39m.\u001b[39mformat(identifier)\n\u001b[1;32m   1683\u001b[0m files \u001b[39m=\u001b[39m {\u001b[39m\"\u001b[39m\u001b[39mfile\u001b[39m\u001b[39m\"\u001b[39m: \u001b[39mopen\u001b[39m(filename, \u001b[39m\"\u001b[39m\u001b[39mrb\u001b[39m\u001b[39m\"\u001b[39m)}\n\u001b[0;32m-> 1684\u001b[0m \u001b[39mreturn\u001b[39;00m \u001b[39mself\u001b[39;49m\u001b[39m.\u001b[39;49mpost_request(\n\u001b[1;32m   1685\u001b[0m     url, data\u001b[39m=\u001b[39;49m{\u001b[39m\"\u001b[39;49m\u001b[39mjsonData\u001b[39;49m\u001b[39m\"\u001b[39;49m: json_str}, files\u001b[39m=\u001b[39;49mfiles, auth\u001b[39m=\u001b[39;49m\u001b[39mTrue\u001b[39;49;00m\n\u001b[1;32m   1686\u001b[0m )\n",
      "File \u001b[0;32m~/anaconda3/envs/oads/lib/python3.9/site-packages/pyDataverse/api.py:174\u001b[0m, in \u001b[0;36mApi.post_request\u001b[0;34m(self, url, data, auth, params, files)\u001b[0m\n\u001b[1;32m    171\u001b[0m     params[\u001b[39m\"\u001b[39m\u001b[39mkey\u001b[39m\u001b[39m\"\u001b[39m] \u001b[39m=\u001b[39m \u001b[39mself\u001b[39m\u001b[39m.\u001b[39mapi_token\n\u001b[1;32m    173\u001b[0m \u001b[39mtry\u001b[39;00m:\n\u001b[0;32m--> 174\u001b[0m     resp \u001b[39m=\u001b[39m post(url, data\u001b[39m=\u001b[39;49mdata, params\u001b[39m=\u001b[39;49mparams, files\u001b[39m=\u001b[39;49mfiles)\n\u001b[1;32m    175\u001b[0m     \u001b[39mif\u001b[39;00m resp\u001b[39m.\u001b[39mstatus_code \u001b[39m==\u001b[39m \u001b[39m401\u001b[39m:\n\u001b[1;32m    176\u001b[0m         error_msg \u001b[39m=\u001b[39m resp\u001b[39m.\u001b[39mjson()[\u001b[39m\"\u001b[39m\u001b[39mmessage\u001b[39m\u001b[39m\"\u001b[39m]\n",
      "File \u001b[0;32m~/anaconda3/envs/oads/lib/python3.9/site-packages/requests/api.py:115\u001b[0m, in \u001b[0;36mpost\u001b[0;34m(url, data, json, **kwargs)\u001b[0m\n\u001b[1;32m    103\u001b[0m \u001b[39mdef\u001b[39;00m \u001b[39mpost\u001b[39m(url, data\u001b[39m=\u001b[39m\u001b[39mNone\u001b[39;00m, json\u001b[39m=\u001b[39m\u001b[39mNone\u001b[39;00m, \u001b[39m*\u001b[39m\u001b[39m*\u001b[39mkwargs):\n\u001b[1;32m    104\u001b[0m \u001b[39m    \u001b[39m\u001b[39mr\u001b[39m\u001b[39m\"\"\"Sends a POST request.\u001b[39;00m\n\u001b[1;32m    105\u001b[0m \n\u001b[1;32m    106\u001b[0m \u001b[39m    :param url: URL for the new :class:`Request` object.\u001b[39;00m\n\u001b[0;32m   (...)\u001b[0m\n\u001b[1;32m    112\u001b[0m \u001b[39m    :rtype: requests.Response\u001b[39;00m\n\u001b[1;32m    113\u001b[0m \u001b[39m    \"\"\"\u001b[39;00m\n\u001b[0;32m--> 115\u001b[0m     \u001b[39mreturn\u001b[39;00m request(\u001b[39m\"\u001b[39;49m\u001b[39mpost\u001b[39;49m\u001b[39m\"\u001b[39;49m, url, data\u001b[39m=\u001b[39;49mdata, json\u001b[39m=\u001b[39;49mjson, \u001b[39m*\u001b[39;49m\u001b[39m*\u001b[39;49mkwargs)\n",
      "File \u001b[0;32m~/anaconda3/envs/oads/lib/python3.9/site-packages/requests/api.py:59\u001b[0m, in \u001b[0;36mrequest\u001b[0;34m(method, url, **kwargs)\u001b[0m\n\u001b[1;32m     55\u001b[0m \u001b[39m# By using the 'with' statement we are sure the session is closed, thus we\u001b[39;00m\n\u001b[1;32m     56\u001b[0m \u001b[39m# avoid leaving sockets open which can trigger a ResourceWarning in some\u001b[39;00m\n\u001b[1;32m     57\u001b[0m \u001b[39m# cases, and look like a memory leak in others.\u001b[39;00m\n\u001b[1;32m     58\u001b[0m \u001b[39mwith\u001b[39;00m sessions\u001b[39m.\u001b[39mSession() \u001b[39mas\u001b[39;00m session:\n\u001b[0;32m---> 59\u001b[0m     \u001b[39mreturn\u001b[39;00m session\u001b[39m.\u001b[39;49mrequest(method\u001b[39m=\u001b[39;49mmethod, url\u001b[39m=\u001b[39;49murl, \u001b[39m*\u001b[39;49m\u001b[39m*\u001b[39;49mkwargs)\n",
      "File \u001b[0;32m~/anaconda3/envs/oads/lib/python3.9/site-packages/requests/sessions.py:587\u001b[0m, in \u001b[0;36mSession.request\u001b[0;34m(self, method, url, params, data, headers, cookies, files, auth, timeout, allow_redirects, proxies, hooks, stream, verify, cert, json)\u001b[0m\n\u001b[1;32m    582\u001b[0m send_kwargs \u001b[39m=\u001b[39m {\n\u001b[1;32m    583\u001b[0m     \u001b[39m\"\u001b[39m\u001b[39mtimeout\u001b[39m\u001b[39m\"\u001b[39m: timeout,\n\u001b[1;32m    584\u001b[0m     \u001b[39m\"\u001b[39m\u001b[39mallow_redirects\u001b[39m\u001b[39m\"\u001b[39m: allow_redirects,\n\u001b[1;32m    585\u001b[0m }\n\u001b[1;32m    586\u001b[0m send_kwargs\u001b[39m.\u001b[39mupdate(settings)\n\u001b[0;32m--> 587\u001b[0m resp \u001b[39m=\u001b[39m \u001b[39mself\u001b[39;49m\u001b[39m.\u001b[39;49msend(prep, \u001b[39m*\u001b[39;49m\u001b[39m*\u001b[39;49msend_kwargs)\n\u001b[1;32m    589\u001b[0m \u001b[39mreturn\u001b[39;00m resp\n",
      "File \u001b[0;32m~/anaconda3/envs/oads/lib/python3.9/site-packages/requests/sessions.py:701\u001b[0m, in \u001b[0;36mSession.send\u001b[0;34m(self, request, **kwargs)\u001b[0m\n\u001b[1;32m    698\u001b[0m start \u001b[39m=\u001b[39m preferred_clock()\n\u001b[1;32m    700\u001b[0m \u001b[39m# Send the request\u001b[39;00m\n\u001b[0;32m--> 701\u001b[0m r \u001b[39m=\u001b[39m adapter\u001b[39m.\u001b[39;49msend(request, \u001b[39m*\u001b[39;49m\u001b[39m*\u001b[39;49mkwargs)\n\u001b[1;32m    703\u001b[0m \u001b[39m# Total elapsed time of the request (approximately)\u001b[39;00m\n\u001b[1;32m    704\u001b[0m elapsed \u001b[39m=\u001b[39m preferred_clock() \u001b[39m-\u001b[39m start\n",
      "File \u001b[0;32m~/anaconda3/envs/oads/lib/python3.9/site-packages/requests/adapters.py:489\u001b[0m, in \u001b[0;36mHTTPAdapter.send\u001b[0;34m(self, request, stream, timeout, verify, cert, proxies)\u001b[0m\n\u001b[1;32m    487\u001b[0m \u001b[39mtry\u001b[39;00m:\n\u001b[1;32m    488\u001b[0m     \u001b[39mif\u001b[39;00m \u001b[39mnot\u001b[39;00m chunked:\n\u001b[0;32m--> 489\u001b[0m         resp \u001b[39m=\u001b[39m conn\u001b[39m.\u001b[39;49murlopen(\n\u001b[1;32m    490\u001b[0m             method\u001b[39m=\u001b[39;49mrequest\u001b[39m.\u001b[39;49mmethod,\n\u001b[1;32m    491\u001b[0m             url\u001b[39m=\u001b[39;49murl,\n\u001b[1;32m    492\u001b[0m             body\u001b[39m=\u001b[39;49mrequest\u001b[39m.\u001b[39;49mbody,\n\u001b[1;32m    493\u001b[0m             headers\u001b[39m=\u001b[39;49mrequest\u001b[39m.\u001b[39;49mheaders,\n\u001b[1;32m    494\u001b[0m             redirect\u001b[39m=\u001b[39;49m\u001b[39mFalse\u001b[39;49;00m,\n\u001b[1;32m    495\u001b[0m             assert_same_host\u001b[39m=\u001b[39;49m\u001b[39mFalse\u001b[39;49;00m,\n\u001b[1;32m    496\u001b[0m             preload_content\u001b[39m=\u001b[39;49m\u001b[39mFalse\u001b[39;49;00m,\n\u001b[1;32m    497\u001b[0m             decode_content\u001b[39m=\u001b[39;49m\u001b[39mFalse\u001b[39;49;00m,\n\u001b[1;32m    498\u001b[0m             retries\u001b[39m=\u001b[39;49m\u001b[39mself\u001b[39;49m\u001b[39m.\u001b[39;49mmax_retries,\n\u001b[1;32m    499\u001b[0m             timeout\u001b[39m=\u001b[39;49mtimeout,\n\u001b[1;32m    500\u001b[0m         )\n\u001b[1;32m    502\u001b[0m     \u001b[39m# Send the request.\u001b[39;00m\n\u001b[1;32m    503\u001b[0m     \u001b[39melse\u001b[39;00m:\n\u001b[1;32m    504\u001b[0m         \u001b[39mif\u001b[39;00m \u001b[39mhasattr\u001b[39m(conn, \u001b[39m\"\u001b[39m\u001b[39mproxy_pool\u001b[39m\u001b[39m\"\u001b[39m):\n",
      "File \u001b[0;32m~/anaconda3/envs/oads/lib/python3.9/site-packages/urllib3/connectionpool.py:703\u001b[0m, in \u001b[0;36mHTTPConnectionPool.urlopen\u001b[0;34m(self, method, url, body, headers, retries, redirect, assert_same_host, timeout, pool_timeout, release_conn, chunked, body_pos, **response_kw)\u001b[0m\n\u001b[1;32m    700\u001b[0m     \u001b[39mself\u001b[39m\u001b[39m.\u001b[39m_prepare_proxy(conn)\n\u001b[1;32m    702\u001b[0m \u001b[39m# Make the request on the httplib connection object.\u001b[39;00m\n\u001b[0;32m--> 703\u001b[0m httplib_response \u001b[39m=\u001b[39m \u001b[39mself\u001b[39;49m\u001b[39m.\u001b[39;49m_make_request(\n\u001b[1;32m    704\u001b[0m     conn,\n\u001b[1;32m    705\u001b[0m     method,\n\u001b[1;32m    706\u001b[0m     url,\n\u001b[1;32m    707\u001b[0m     timeout\u001b[39m=\u001b[39;49mtimeout_obj,\n\u001b[1;32m    708\u001b[0m     body\u001b[39m=\u001b[39;49mbody,\n\u001b[1;32m    709\u001b[0m     headers\u001b[39m=\u001b[39;49mheaders,\n\u001b[1;32m    710\u001b[0m     chunked\u001b[39m=\u001b[39;49mchunked,\n\u001b[1;32m    711\u001b[0m )\n\u001b[1;32m    713\u001b[0m \u001b[39m# If we're going to release the connection in ``finally:``, then\u001b[39;00m\n\u001b[1;32m    714\u001b[0m \u001b[39m# the response doesn't need to know about the connection. Otherwise\u001b[39;00m\n\u001b[1;32m    715\u001b[0m \u001b[39m# it will also try to release it and we'll have a double-release\u001b[39;00m\n\u001b[1;32m    716\u001b[0m \u001b[39m# mess.\u001b[39;00m\n\u001b[1;32m    717\u001b[0m response_conn \u001b[39m=\u001b[39m conn \u001b[39mif\u001b[39;00m \u001b[39mnot\u001b[39;00m release_conn \u001b[39melse\u001b[39;00m \u001b[39mNone\u001b[39;00m\n",
      "File \u001b[0;32m~/anaconda3/envs/oads/lib/python3.9/site-packages/urllib3/connectionpool.py:449\u001b[0m, in \u001b[0;36mHTTPConnectionPool._make_request\u001b[0;34m(self, conn, method, url, timeout, chunked, **httplib_request_kw)\u001b[0m\n\u001b[1;32m    444\u001b[0m             httplib_response \u001b[39m=\u001b[39m conn\u001b[39m.\u001b[39mgetresponse()\n\u001b[1;32m    445\u001b[0m         \u001b[39mexcept\u001b[39;00m \u001b[39mBaseException\u001b[39;00m \u001b[39mas\u001b[39;00m e:\n\u001b[1;32m    446\u001b[0m             \u001b[39m# Remove the TypeError from the exception chain in\u001b[39;00m\n\u001b[1;32m    447\u001b[0m             \u001b[39m# Python 3 (including for exceptions like SystemExit).\u001b[39;00m\n\u001b[1;32m    448\u001b[0m             \u001b[39m# Otherwise it looks like a bug in the code.\u001b[39;00m\n\u001b[0;32m--> 449\u001b[0m             six\u001b[39m.\u001b[39;49mraise_from(e, \u001b[39mNone\u001b[39;49;00m)\n\u001b[1;32m    450\u001b[0m \u001b[39mexcept\u001b[39;00m (SocketTimeout, BaseSSLError, SocketError) \u001b[39mas\u001b[39;00m e:\n\u001b[1;32m    451\u001b[0m     \u001b[39mself\u001b[39m\u001b[39m.\u001b[39m_raise_timeout(err\u001b[39m=\u001b[39me, url\u001b[39m=\u001b[39murl, timeout_value\u001b[39m=\u001b[39mread_timeout)\n",
      "File \u001b[0;32m<string>:3\u001b[0m, in \u001b[0;36mraise_from\u001b[0;34m(value, from_value)\u001b[0m\n",
      "File \u001b[0;32m~/anaconda3/envs/oads/lib/python3.9/site-packages/urllib3/connectionpool.py:444\u001b[0m, in \u001b[0;36mHTTPConnectionPool._make_request\u001b[0;34m(self, conn, method, url, timeout, chunked, **httplib_request_kw)\u001b[0m\n\u001b[1;32m    441\u001b[0m \u001b[39mexcept\u001b[39;00m \u001b[39mTypeError\u001b[39;00m:\n\u001b[1;32m    442\u001b[0m     \u001b[39m# Python 3\u001b[39;00m\n\u001b[1;32m    443\u001b[0m     \u001b[39mtry\u001b[39;00m:\n\u001b[0;32m--> 444\u001b[0m         httplib_response \u001b[39m=\u001b[39m conn\u001b[39m.\u001b[39;49mgetresponse()\n\u001b[1;32m    445\u001b[0m     \u001b[39mexcept\u001b[39;00m \u001b[39mBaseException\u001b[39;00m \u001b[39mas\u001b[39;00m e:\n\u001b[1;32m    446\u001b[0m         \u001b[39m# Remove the TypeError from the exception chain in\u001b[39;00m\n\u001b[1;32m    447\u001b[0m         \u001b[39m# Python 3 (including for exceptions like SystemExit).\u001b[39;00m\n\u001b[1;32m    448\u001b[0m         \u001b[39m# Otherwise it looks like a bug in the code.\u001b[39;00m\n\u001b[1;32m    449\u001b[0m         six\u001b[39m.\u001b[39mraise_from(e, \u001b[39mNone\u001b[39;00m)\n",
      "File \u001b[0;32m~/anaconda3/envs/oads/lib/python3.9/http/client.py:1377\u001b[0m, in \u001b[0;36mHTTPConnection.getresponse\u001b[0;34m(self)\u001b[0m\n\u001b[1;32m   1375\u001b[0m \u001b[39mtry\u001b[39;00m:\n\u001b[1;32m   1376\u001b[0m     \u001b[39mtry\u001b[39;00m:\n\u001b[0;32m-> 1377\u001b[0m         response\u001b[39m.\u001b[39;49mbegin()\n\u001b[1;32m   1378\u001b[0m     \u001b[39mexcept\u001b[39;00m \u001b[39mConnectionError\u001b[39;00m:\n\u001b[1;32m   1379\u001b[0m         \u001b[39mself\u001b[39m\u001b[39m.\u001b[39mclose()\n",
      "File \u001b[0;32m~/anaconda3/envs/oads/lib/python3.9/http/client.py:320\u001b[0m, in \u001b[0;36mHTTPResponse.begin\u001b[0;34m(self)\u001b[0m\n\u001b[1;32m    318\u001b[0m \u001b[39m# read until we get a non-100 response\u001b[39;00m\n\u001b[1;32m    319\u001b[0m \u001b[39mwhile\u001b[39;00m \u001b[39mTrue\u001b[39;00m:\n\u001b[0;32m--> 320\u001b[0m     version, status, reason \u001b[39m=\u001b[39m \u001b[39mself\u001b[39;49m\u001b[39m.\u001b[39;49m_read_status()\n\u001b[1;32m    321\u001b[0m     \u001b[39mif\u001b[39;00m status \u001b[39m!=\u001b[39m CONTINUE:\n\u001b[1;32m    322\u001b[0m         \u001b[39mbreak\u001b[39;00m\n",
      "File \u001b[0;32m~/anaconda3/envs/oads/lib/python3.9/http/client.py:281\u001b[0m, in \u001b[0;36mHTTPResponse._read_status\u001b[0;34m(self)\u001b[0m\n\u001b[1;32m    280\u001b[0m \u001b[39mdef\u001b[39;00m \u001b[39m_read_status\u001b[39m(\u001b[39mself\u001b[39m):\n\u001b[0;32m--> 281\u001b[0m     line \u001b[39m=\u001b[39m \u001b[39mstr\u001b[39m(\u001b[39mself\u001b[39;49m\u001b[39m.\u001b[39;49mfp\u001b[39m.\u001b[39;49mreadline(_MAXLINE \u001b[39m+\u001b[39;49m \u001b[39m1\u001b[39;49m), \u001b[39m\"\u001b[39m\u001b[39miso-8859-1\u001b[39m\u001b[39m\"\u001b[39m)\n\u001b[1;32m    282\u001b[0m     \u001b[39mif\u001b[39;00m \u001b[39mlen\u001b[39m(line) \u001b[39m>\u001b[39m _MAXLINE:\n\u001b[1;32m    283\u001b[0m         \u001b[39mraise\u001b[39;00m LineTooLong(\u001b[39m\"\u001b[39m\u001b[39mstatus line\u001b[39m\u001b[39m\"\u001b[39m)\n",
      "File \u001b[0;32m~/anaconda3/envs/oads/lib/python3.9/socket.py:704\u001b[0m, in \u001b[0;36mSocketIO.readinto\u001b[0;34m(self, b)\u001b[0m\n\u001b[1;32m    702\u001b[0m \u001b[39mwhile\u001b[39;00m \u001b[39mTrue\u001b[39;00m:\n\u001b[1;32m    703\u001b[0m     \u001b[39mtry\u001b[39;00m:\n\u001b[0;32m--> 704\u001b[0m         \u001b[39mreturn\u001b[39;00m \u001b[39mself\u001b[39;49m\u001b[39m.\u001b[39;49m_sock\u001b[39m.\u001b[39;49mrecv_into(b)\n\u001b[1;32m    705\u001b[0m     \u001b[39mexcept\u001b[39;00m timeout:\n\u001b[1;32m    706\u001b[0m         \u001b[39mself\u001b[39m\u001b[39m.\u001b[39m_timeout_occurred \u001b[39m=\u001b[39m \u001b[39mTrue\u001b[39;00m\n",
      "File \u001b[0;32m~/anaconda3/envs/oads/lib/python3.9/ssl.py:1242\u001b[0m, in \u001b[0;36mSSLSocket.recv_into\u001b[0;34m(self, buffer, nbytes, flags)\u001b[0m\n\u001b[1;32m   1238\u001b[0m     \u001b[39mif\u001b[39;00m flags \u001b[39m!=\u001b[39m \u001b[39m0\u001b[39m:\n\u001b[1;32m   1239\u001b[0m         \u001b[39mraise\u001b[39;00m \u001b[39mValueError\u001b[39;00m(\n\u001b[1;32m   1240\u001b[0m           \u001b[39m\"\u001b[39m\u001b[39mnon-zero flags not allowed in calls to recv_into() on \u001b[39m\u001b[39m%s\u001b[39;00m\u001b[39m\"\u001b[39m \u001b[39m%\u001b[39m\n\u001b[1;32m   1241\u001b[0m           \u001b[39mself\u001b[39m\u001b[39m.\u001b[39m\u001b[39m__class__\u001b[39m)\n\u001b[0;32m-> 1242\u001b[0m     \u001b[39mreturn\u001b[39;00m \u001b[39mself\u001b[39;49m\u001b[39m.\u001b[39;49mread(nbytes, buffer)\n\u001b[1;32m   1243\u001b[0m \u001b[39melse\u001b[39;00m:\n\u001b[1;32m   1244\u001b[0m     \u001b[39mreturn\u001b[39;00m \u001b[39msuper\u001b[39m()\u001b[39m.\u001b[39mrecv_into(buffer, nbytes, flags)\n",
      "File \u001b[0;32m~/anaconda3/envs/oads/lib/python3.9/ssl.py:1100\u001b[0m, in \u001b[0;36mSSLSocket.read\u001b[0;34m(self, len, buffer)\u001b[0m\n\u001b[1;32m   1098\u001b[0m \u001b[39mtry\u001b[39;00m:\n\u001b[1;32m   1099\u001b[0m     \u001b[39mif\u001b[39;00m buffer \u001b[39mis\u001b[39;00m \u001b[39mnot\u001b[39;00m \u001b[39mNone\u001b[39;00m:\n\u001b[0;32m-> 1100\u001b[0m         \u001b[39mreturn\u001b[39;00m \u001b[39mself\u001b[39;49m\u001b[39m.\u001b[39;49m_sslobj\u001b[39m.\u001b[39;49mread(\u001b[39mlen\u001b[39;49m, buffer)\n\u001b[1;32m   1101\u001b[0m     \u001b[39melse\u001b[39;00m:\n\u001b[1;32m   1102\u001b[0m         \u001b[39mreturn\u001b[39;00m \u001b[39mself\u001b[39m\u001b[39m.\u001b[39m_sslobj\u001b[39m.\u001b[39mread(\u001b[39mlen\u001b[39m)\n",
      "\u001b[0;31mKeyboardInterrupt\u001b[0m: "
     ]
    }
   ],
   "source": [
    "for image_path in oads_images:\n",
    "    df.set({\"pid\": ds_pid, \"filename\": image_path})\n",
    "    # df.get()\n",
    "    resp = api.upload_datafile(ds_pid, image_path, df.json())\n",
    "    resp.json()"
   ]
  },
  {
   "attachments": {},
   "cell_type": "markdown",
   "metadata": {},
   "source": [
    "# OSF"
   ]
  },
  {
   "cell_type": "code",
   "execution_count": 1,
   "metadata": {},
   "outputs": [],
   "source": [
    "osf_dir = '/home/niklas/projects/osf_oads/'"
   ]
  },
  {
   "cell_type": "code",
   "execution_count": 2,
   "metadata": {},
   "outputs": [],
   "source": [
    "import osfclient as osf"
   ]
  },
  {
   "cell_type": "code",
   "execution_count": 3,
   "metadata": {},
   "outputs": [],
   "source": [
    "_osf = osf.OSF(username='n.muller@uva.nl', token='zADpOUgHPW1UWttO2RQR0CciFLZCZyCFPmlJti7bPgfkm8RcLX1yBeuNgaIQKzwtC7GaYK')"
   ]
  },
  {
   "cell_type": "code",
   "execution_count": 4,
   "metadata": {},
   "outputs": [],
   "source": [
    "project = _osf.project('2xzdf')"
   ]
  },
  {
   "cell_type": "code",
   "execution_count": 50,
   "metadata": {},
   "outputs": [
    {
     "ename": "KeyboardInterrupt",
     "evalue": "",
     "output_type": "error",
     "traceback": [
      "\u001b[0;31m---------------------------------------------------------------------------\u001b[0m",
      "\u001b[0;31mKeyboardInterrupt\u001b[0m                         Traceback (most recent call last)",
      "Cell \u001b[0;32mIn[50], line 1\u001b[0m\n\u001b[0;32m----> 1\u001b[0m project\u001b[39m.\u001b[39;49mstorage()\n",
      "File \u001b[0;32m~/anaconda3/envs/oads/lib/python3.9/site-packages/osfclient/models/project.py:32\u001b[0m, in \u001b[0;36mProject.storage\u001b[0;34m(self, provider)\u001b[0m\n\u001b[1;32m     30\u001b[0m \u001b[39mdef\u001b[39;00m \u001b[39mstorage\u001b[39m(\u001b[39mself\u001b[39m, provider\u001b[39m=\u001b[39m\u001b[39m'\u001b[39m\u001b[39mosfstorage\u001b[39m\u001b[39m'\u001b[39m):\n\u001b[1;32m     31\u001b[0m \u001b[39m    \u001b[39m\u001b[39m\"\"\"Return storage `provider`.\"\"\"\u001b[39;00m\n\u001b[0;32m---> 32\u001b[0m     stores \u001b[39m=\u001b[39m \u001b[39mself\u001b[39m\u001b[39m.\u001b[39m_json(\u001b[39mself\u001b[39;49m\u001b[39m.\u001b[39;49m_get(\u001b[39mself\u001b[39;49m\u001b[39m.\u001b[39;49m_storages_url), \u001b[39m200\u001b[39m)\n\u001b[1;32m     33\u001b[0m     stores \u001b[39m=\u001b[39m stores[\u001b[39m'\u001b[39m\u001b[39mdata\u001b[39m\u001b[39m'\u001b[39m]\n\u001b[1;32m     34\u001b[0m     \u001b[39mfor\u001b[39;00m store \u001b[39min\u001b[39;00m stores:\n",
      "File \u001b[0;32m~/anaconda3/envs/oads/lib/python3.9/site-packages/osfclient/models/core.py:23\u001b[0m, in \u001b[0;36mOSFCore._get\u001b[0;34m(self, url, *args, **kwargs)\u001b[0m\n\u001b[1;32m     22\u001b[0m \u001b[39mdef\u001b[39;00m \u001b[39m_get\u001b[39m(\u001b[39mself\u001b[39m, url, \u001b[39m*\u001b[39margs, \u001b[39m*\u001b[39m\u001b[39m*\u001b[39mkwargs):\n\u001b[0;32m---> 23\u001b[0m     \u001b[39mreturn\u001b[39;00m \u001b[39mself\u001b[39;49m\u001b[39m.\u001b[39;49msession\u001b[39m.\u001b[39;49mget(url, \u001b[39m*\u001b[39;49margs, \u001b[39m*\u001b[39;49m\u001b[39m*\u001b[39;49mkwargs)\n",
      "File \u001b[0;32m~/anaconda3/envs/oads/lib/python3.9/site-packages/osfclient/models/session.py:25\u001b[0m, in \u001b[0;36m_rate_limit.<locals>.wrapper\u001b[0;34m(self, url, *args, **kwargs)\u001b[0m\n\u001b[1;32m     22\u001b[0m         time\u001b[39m.\u001b[39msleep(\u001b[39m1\u001b[39m \u001b[39m-\u001b[39m delta)\n\u001b[1;32m     24\u001b[0m \u001b[39mself\u001b[39m\u001b[39m.\u001b[39mlast_request \u001b[39m=\u001b[39m time\u001b[39m.\u001b[39mtime()\n\u001b[0;32m---> 25\u001b[0m \u001b[39mreturn\u001b[39;00m func(\u001b[39mself\u001b[39;49m, url, \u001b[39m*\u001b[39;49margs, \u001b[39m*\u001b[39;49m\u001b[39m*\u001b[39;49mkwargs)\n",
      "File \u001b[0;32m~/anaconda3/envs/oads/lib/python3.9/site-packages/osfclient/models/session.py:75\u001b[0m, in \u001b[0;36mOSFSession.get\u001b[0;34m(self, url, *args, **kwargs)\u001b[0m\n\u001b[1;32m     73\u001b[0m \u001b[39m@_rate_limit\u001b[39m\n\u001b[1;32m     74\u001b[0m \u001b[39mdef\u001b[39;00m \u001b[39mget\u001b[39m(\u001b[39mself\u001b[39m, url, \u001b[39m*\u001b[39margs, \u001b[39m*\u001b[39m\u001b[39m*\u001b[39mkwargs):\n\u001b[0;32m---> 75\u001b[0m     response \u001b[39m=\u001b[39m \u001b[39msuper\u001b[39;49m(OSFSession, \u001b[39mself\u001b[39;49m)\u001b[39m.\u001b[39;49mget(url, \u001b[39m*\u001b[39;49margs, \u001b[39m*\u001b[39;49m\u001b[39m*\u001b[39;49mkwargs)\n\u001b[1;32m     76\u001b[0m     \u001b[39mif\u001b[39;00m response\u001b[39m.\u001b[39mstatus_code \u001b[39m==\u001b[39m \u001b[39m401\u001b[39m:\n\u001b[1;32m     77\u001b[0m         \u001b[39mraise\u001b[39;00m UnauthorizedException()\n",
      "File \u001b[0;32m~/anaconda3/envs/oads/lib/python3.9/site-packages/requests/sessions.py:600\u001b[0m, in \u001b[0;36mSession.get\u001b[0;34m(self, url, **kwargs)\u001b[0m\n\u001b[1;32m    592\u001b[0m \u001b[39m\u001b[39m\u001b[39mr\u001b[39m\u001b[39m\"\"\"Sends a GET request. Returns :class:`Response` object.\u001b[39;00m\n\u001b[1;32m    593\u001b[0m \n\u001b[1;32m    594\u001b[0m \u001b[39m:param url: URL for the new :class:`Request` object.\u001b[39;00m\n\u001b[1;32m    595\u001b[0m \u001b[39m:param \\*\\*kwargs: Optional arguments that ``request`` takes.\u001b[39;00m\n\u001b[1;32m    596\u001b[0m \u001b[39m:rtype: requests.Response\u001b[39;00m\n\u001b[1;32m    597\u001b[0m \u001b[39m\"\"\"\u001b[39;00m\n\u001b[1;32m    599\u001b[0m kwargs\u001b[39m.\u001b[39msetdefault(\u001b[39m\"\u001b[39m\u001b[39mallow_redirects\u001b[39m\u001b[39m\"\u001b[39m, \u001b[39mTrue\u001b[39;00m)\n\u001b[0;32m--> 600\u001b[0m \u001b[39mreturn\u001b[39;00m \u001b[39mself\u001b[39;49m\u001b[39m.\u001b[39;49mrequest(\u001b[39m\"\u001b[39;49m\u001b[39mGET\u001b[39;49m\u001b[39m\"\u001b[39;49m, url, \u001b[39m*\u001b[39;49m\u001b[39m*\u001b[39;49mkwargs)\n",
      "File \u001b[0;32m~/anaconda3/envs/oads/lib/python3.9/site-packages/requests/sessions.py:587\u001b[0m, in \u001b[0;36mSession.request\u001b[0;34m(self, method, url, params, data, headers, cookies, files, auth, timeout, allow_redirects, proxies, hooks, stream, verify, cert, json)\u001b[0m\n\u001b[1;32m    582\u001b[0m send_kwargs \u001b[39m=\u001b[39m {\n\u001b[1;32m    583\u001b[0m     \u001b[39m\"\u001b[39m\u001b[39mtimeout\u001b[39m\u001b[39m\"\u001b[39m: timeout,\n\u001b[1;32m    584\u001b[0m     \u001b[39m\"\u001b[39m\u001b[39mallow_redirects\u001b[39m\u001b[39m\"\u001b[39m: allow_redirects,\n\u001b[1;32m    585\u001b[0m }\n\u001b[1;32m    586\u001b[0m send_kwargs\u001b[39m.\u001b[39mupdate(settings)\n\u001b[0;32m--> 587\u001b[0m resp \u001b[39m=\u001b[39m \u001b[39mself\u001b[39;49m\u001b[39m.\u001b[39;49msend(prep, \u001b[39m*\u001b[39;49m\u001b[39m*\u001b[39;49msend_kwargs)\n\u001b[1;32m    589\u001b[0m \u001b[39mreturn\u001b[39;00m resp\n",
      "File \u001b[0;32m~/anaconda3/envs/oads/lib/python3.9/site-packages/requests/sessions.py:701\u001b[0m, in \u001b[0;36mSession.send\u001b[0;34m(self, request, **kwargs)\u001b[0m\n\u001b[1;32m    698\u001b[0m start \u001b[39m=\u001b[39m preferred_clock()\n\u001b[1;32m    700\u001b[0m \u001b[39m# Send the request\u001b[39;00m\n\u001b[0;32m--> 701\u001b[0m r \u001b[39m=\u001b[39m adapter\u001b[39m.\u001b[39;49msend(request, \u001b[39m*\u001b[39;49m\u001b[39m*\u001b[39;49mkwargs)\n\u001b[1;32m    703\u001b[0m \u001b[39m# Total elapsed time of the request (approximately)\u001b[39;00m\n\u001b[1;32m    704\u001b[0m elapsed \u001b[39m=\u001b[39m preferred_clock() \u001b[39m-\u001b[39m start\n",
      "File \u001b[0;32m~/anaconda3/envs/oads/lib/python3.9/site-packages/requests/adapters.py:489\u001b[0m, in \u001b[0;36mHTTPAdapter.send\u001b[0;34m(self, request, stream, timeout, verify, cert, proxies)\u001b[0m\n\u001b[1;32m    487\u001b[0m \u001b[39mtry\u001b[39;00m:\n\u001b[1;32m    488\u001b[0m     \u001b[39mif\u001b[39;00m \u001b[39mnot\u001b[39;00m chunked:\n\u001b[0;32m--> 489\u001b[0m         resp \u001b[39m=\u001b[39m conn\u001b[39m.\u001b[39;49murlopen(\n\u001b[1;32m    490\u001b[0m             method\u001b[39m=\u001b[39;49mrequest\u001b[39m.\u001b[39;49mmethod,\n\u001b[1;32m    491\u001b[0m             url\u001b[39m=\u001b[39;49murl,\n\u001b[1;32m    492\u001b[0m             body\u001b[39m=\u001b[39;49mrequest\u001b[39m.\u001b[39;49mbody,\n\u001b[1;32m    493\u001b[0m             headers\u001b[39m=\u001b[39;49mrequest\u001b[39m.\u001b[39;49mheaders,\n\u001b[1;32m    494\u001b[0m             redirect\u001b[39m=\u001b[39;49m\u001b[39mFalse\u001b[39;49;00m,\n\u001b[1;32m    495\u001b[0m             assert_same_host\u001b[39m=\u001b[39;49m\u001b[39mFalse\u001b[39;49;00m,\n\u001b[1;32m    496\u001b[0m             preload_content\u001b[39m=\u001b[39;49m\u001b[39mFalse\u001b[39;49;00m,\n\u001b[1;32m    497\u001b[0m             decode_content\u001b[39m=\u001b[39;49m\u001b[39mFalse\u001b[39;49;00m,\n\u001b[1;32m    498\u001b[0m             retries\u001b[39m=\u001b[39;49m\u001b[39mself\u001b[39;49m\u001b[39m.\u001b[39;49mmax_retries,\n\u001b[1;32m    499\u001b[0m             timeout\u001b[39m=\u001b[39;49mtimeout,\n\u001b[1;32m    500\u001b[0m         )\n\u001b[1;32m    502\u001b[0m     \u001b[39m# Send the request.\u001b[39;00m\n\u001b[1;32m    503\u001b[0m     \u001b[39melse\u001b[39;00m:\n\u001b[1;32m    504\u001b[0m         \u001b[39mif\u001b[39;00m \u001b[39mhasattr\u001b[39m(conn, \u001b[39m\"\u001b[39m\u001b[39mproxy_pool\u001b[39m\u001b[39m\"\u001b[39m):\n",
      "File \u001b[0;32m~/anaconda3/envs/oads/lib/python3.9/site-packages/urllib3/connectionpool.py:703\u001b[0m, in \u001b[0;36mHTTPConnectionPool.urlopen\u001b[0;34m(self, method, url, body, headers, retries, redirect, assert_same_host, timeout, pool_timeout, release_conn, chunked, body_pos, **response_kw)\u001b[0m\n\u001b[1;32m    700\u001b[0m     \u001b[39mself\u001b[39m\u001b[39m.\u001b[39m_prepare_proxy(conn)\n\u001b[1;32m    702\u001b[0m \u001b[39m# Make the request on the httplib connection object.\u001b[39;00m\n\u001b[0;32m--> 703\u001b[0m httplib_response \u001b[39m=\u001b[39m \u001b[39mself\u001b[39;49m\u001b[39m.\u001b[39;49m_make_request(\n\u001b[1;32m    704\u001b[0m     conn,\n\u001b[1;32m    705\u001b[0m     method,\n\u001b[1;32m    706\u001b[0m     url,\n\u001b[1;32m    707\u001b[0m     timeout\u001b[39m=\u001b[39;49mtimeout_obj,\n\u001b[1;32m    708\u001b[0m     body\u001b[39m=\u001b[39;49mbody,\n\u001b[1;32m    709\u001b[0m     headers\u001b[39m=\u001b[39;49mheaders,\n\u001b[1;32m    710\u001b[0m     chunked\u001b[39m=\u001b[39;49mchunked,\n\u001b[1;32m    711\u001b[0m )\n\u001b[1;32m    713\u001b[0m \u001b[39m# If we're going to release the connection in ``finally:``, then\u001b[39;00m\n\u001b[1;32m    714\u001b[0m \u001b[39m# the response doesn't need to know about the connection. Otherwise\u001b[39;00m\n\u001b[1;32m    715\u001b[0m \u001b[39m# it will also try to release it and we'll have a double-release\u001b[39;00m\n\u001b[1;32m    716\u001b[0m \u001b[39m# mess.\u001b[39;00m\n\u001b[1;32m    717\u001b[0m response_conn \u001b[39m=\u001b[39m conn \u001b[39mif\u001b[39;00m \u001b[39mnot\u001b[39;00m release_conn \u001b[39melse\u001b[39;00m \u001b[39mNone\u001b[39;00m\n",
      "File \u001b[0;32m~/anaconda3/envs/oads/lib/python3.9/site-packages/urllib3/connectionpool.py:449\u001b[0m, in \u001b[0;36mHTTPConnectionPool._make_request\u001b[0;34m(self, conn, method, url, timeout, chunked, **httplib_request_kw)\u001b[0m\n\u001b[1;32m    444\u001b[0m             httplib_response \u001b[39m=\u001b[39m conn\u001b[39m.\u001b[39mgetresponse()\n\u001b[1;32m    445\u001b[0m         \u001b[39mexcept\u001b[39;00m \u001b[39mBaseException\u001b[39;00m \u001b[39mas\u001b[39;00m e:\n\u001b[1;32m    446\u001b[0m             \u001b[39m# Remove the TypeError from the exception chain in\u001b[39;00m\n\u001b[1;32m    447\u001b[0m             \u001b[39m# Python 3 (including for exceptions like SystemExit).\u001b[39;00m\n\u001b[1;32m    448\u001b[0m             \u001b[39m# Otherwise it looks like a bug in the code.\u001b[39;00m\n\u001b[0;32m--> 449\u001b[0m             six\u001b[39m.\u001b[39;49mraise_from(e, \u001b[39mNone\u001b[39;49;00m)\n\u001b[1;32m    450\u001b[0m \u001b[39mexcept\u001b[39;00m (SocketTimeout, BaseSSLError, SocketError) \u001b[39mas\u001b[39;00m e:\n\u001b[1;32m    451\u001b[0m     \u001b[39mself\u001b[39m\u001b[39m.\u001b[39m_raise_timeout(err\u001b[39m=\u001b[39me, url\u001b[39m=\u001b[39murl, timeout_value\u001b[39m=\u001b[39mread_timeout)\n",
      "File \u001b[0;32m<string>:3\u001b[0m, in \u001b[0;36mraise_from\u001b[0;34m(value, from_value)\u001b[0m\n",
      "File \u001b[0;32m~/anaconda3/envs/oads/lib/python3.9/site-packages/urllib3/connectionpool.py:444\u001b[0m, in \u001b[0;36mHTTPConnectionPool._make_request\u001b[0;34m(self, conn, method, url, timeout, chunked, **httplib_request_kw)\u001b[0m\n\u001b[1;32m    441\u001b[0m \u001b[39mexcept\u001b[39;00m \u001b[39mTypeError\u001b[39;00m:\n\u001b[1;32m    442\u001b[0m     \u001b[39m# Python 3\u001b[39;00m\n\u001b[1;32m    443\u001b[0m     \u001b[39mtry\u001b[39;00m:\n\u001b[0;32m--> 444\u001b[0m         httplib_response \u001b[39m=\u001b[39m conn\u001b[39m.\u001b[39;49mgetresponse()\n\u001b[1;32m    445\u001b[0m     \u001b[39mexcept\u001b[39;00m \u001b[39mBaseException\u001b[39;00m \u001b[39mas\u001b[39;00m e:\n\u001b[1;32m    446\u001b[0m         \u001b[39m# Remove the TypeError from the exception chain in\u001b[39;00m\n\u001b[1;32m    447\u001b[0m         \u001b[39m# Python 3 (including for exceptions like SystemExit).\u001b[39;00m\n\u001b[1;32m    448\u001b[0m         \u001b[39m# Otherwise it looks like a bug in the code.\u001b[39;00m\n\u001b[1;32m    449\u001b[0m         six\u001b[39m.\u001b[39mraise_from(e, \u001b[39mNone\u001b[39;00m)\n",
      "File \u001b[0;32m~/anaconda3/envs/oads/lib/python3.9/http/client.py:1377\u001b[0m, in \u001b[0;36mHTTPConnection.getresponse\u001b[0;34m(self)\u001b[0m\n\u001b[1;32m   1375\u001b[0m \u001b[39mtry\u001b[39;00m:\n\u001b[1;32m   1376\u001b[0m     \u001b[39mtry\u001b[39;00m:\n\u001b[0;32m-> 1377\u001b[0m         response\u001b[39m.\u001b[39;49mbegin()\n\u001b[1;32m   1378\u001b[0m     \u001b[39mexcept\u001b[39;00m \u001b[39mConnectionError\u001b[39;00m:\n\u001b[1;32m   1379\u001b[0m         \u001b[39mself\u001b[39m\u001b[39m.\u001b[39mclose()\n",
      "File \u001b[0;32m~/anaconda3/envs/oads/lib/python3.9/http/client.py:320\u001b[0m, in \u001b[0;36mHTTPResponse.begin\u001b[0;34m(self)\u001b[0m\n\u001b[1;32m    318\u001b[0m \u001b[39m# read until we get a non-100 response\u001b[39;00m\n\u001b[1;32m    319\u001b[0m \u001b[39mwhile\u001b[39;00m \u001b[39mTrue\u001b[39;00m:\n\u001b[0;32m--> 320\u001b[0m     version, status, reason \u001b[39m=\u001b[39m \u001b[39mself\u001b[39;49m\u001b[39m.\u001b[39;49m_read_status()\n\u001b[1;32m    321\u001b[0m     \u001b[39mif\u001b[39;00m status \u001b[39m!=\u001b[39m CONTINUE:\n\u001b[1;32m    322\u001b[0m         \u001b[39mbreak\u001b[39;00m\n",
      "File \u001b[0;32m~/anaconda3/envs/oads/lib/python3.9/http/client.py:281\u001b[0m, in \u001b[0;36mHTTPResponse._read_status\u001b[0;34m(self)\u001b[0m\n\u001b[1;32m    280\u001b[0m \u001b[39mdef\u001b[39;00m \u001b[39m_read_status\u001b[39m(\u001b[39mself\u001b[39m):\n\u001b[0;32m--> 281\u001b[0m     line \u001b[39m=\u001b[39m \u001b[39mstr\u001b[39m(\u001b[39mself\u001b[39;49m\u001b[39m.\u001b[39;49mfp\u001b[39m.\u001b[39;49mreadline(_MAXLINE \u001b[39m+\u001b[39;49m \u001b[39m1\u001b[39;49m), \u001b[39m\"\u001b[39m\u001b[39miso-8859-1\u001b[39m\u001b[39m\"\u001b[39m)\n\u001b[1;32m    282\u001b[0m     \u001b[39mif\u001b[39;00m \u001b[39mlen\u001b[39m(line) \u001b[39m>\u001b[39m _MAXLINE:\n\u001b[1;32m    283\u001b[0m         \u001b[39mraise\u001b[39;00m LineTooLong(\u001b[39m\"\u001b[39m\u001b[39mstatus line\u001b[39m\u001b[39m\"\u001b[39m)\n",
      "File \u001b[0;32m~/anaconda3/envs/oads/lib/python3.9/socket.py:704\u001b[0m, in \u001b[0;36mSocketIO.readinto\u001b[0;34m(self, b)\u001b[0m\n\u001b[1;32m    702\u001b[0m \u001b[39mwhile\u001b[39;00m \u001b[39mTrue\u001b[39;00m:\n\u001b[1;32m    703\u001b[0m     \u001b[39mtry\u001b[39;00m:\n\u001b[0;32m--> 704\u001b[0m         \u001b[39mreturn\u001b[39;00m \u001b[39mself\u001b[39;49m\u001b[39m.\u001b[39;49m_sock\u001b[39m.\u001b[39;49mrecv_into(b)\n\u001b[1;32m    705\u001b[0m     \u001b[39mexcept\u001b[39;00m timeout:\n\u001b[1;32m    706\u001b[0m         \u001b[39mself\u001b[39m\u001b[39m.\u001b[39m_timeout_occurred \u001b[39m=\u001b[39m \u001b[39mTrue\u001b[39;00m\n",
      "File \u001b[0;32m~/anaconda3/envs/oads/lib/python3.9/ssl.py:1242\u001b[0m, in \u001b[0;36mSSLSocket.recv_into\u001b[0;34m(self, buffer, nbytes, flags)\u001b[0m\n\u001b[1;32m   1238\u001b[0m     \u001b[39mif\u001b[39;00m flags \u001b[39m!=\u001b[39m \u001b[39m0\u001b[39m:\n\u001b[1;32m   1239\u001b[0m         \u001b[39mraise\u001b[39;00m \u001b[39mValueError\u001b[39;00m(\n\u001b[1;32m   1240\u001b[0m           \u001b[39m\"\u001b[39m\u001b[39mnon-zero flags not allowed in calls to recv_into() on \u001b[39m\u001b[39m%s\u001b[39;00m\u001b[39m\"\u001b[39m \u001b[39m%\u001b[39m\n\u001b[1;32m   1241\u001b[0m           \u001b[39mself\u001b[39m\u001b[39m.\u001b[39m\u001b[39m__class__\u001b[39m)\n\u001b[0;32m-> 1242\u001b[0m     \u001b[39mreturn\u001b[39;00m \u001b[39mself\u001b[39;49m\u001b[39m.\u001b[39;49mread(nbytes, buffer)\n\u001b[1;32m   1243\u001b[0m \u001b[39melse\u001b[39;00m:\n\u001b[1;32m   1244\u001b[0m     \u001b[39mreturn\u001b[39;00m \u001b[39msuper\u001b[39m()\u001b[39m.\u001b[39mrecv_into(buffer, nbytes, flags)\n",
      "File \u001b[0;32m~/anaconda3/envs/oads/lib/python3.9/ssl.py:1100\u001b[0m, in \u001b[0;36mSSLSocket.read\u001b[0;34m(self, len, buffer)\u001b[0m\n\u001b[1;32m   1098\u001b[0m \u001b[39mtry\u001b[39;00m:\n\u001b[1;32m   1099\u001b[0m     \u001b[39mif\u001b[39;00m buffer \u001b[39mis\u001b[39;00m \u001b[39mnot\u001b[39;00m \u001b[39mNone\u001b[39;00m:\n\u001b[0;32m-> 1100\u001b[0m         \u001b[39mreturn\u001b[39;00m \u001b[39mself\u001b[39;49m\u001b[39m.\u001b[39;49m_sslobj\u001b[39m.\u001b[39;49mread(\u001b[39mlen\u001b[39;49m, buffer)\n\u001b[1;32m   1101\u001b[0m     \u001b[39melse\u001b[39;00m:\n\u001b[1;32m   1102\u001b[0m         \u001b[39mreturn\u001b[39;00m \u001b[39mself\u001b[39m\u001b[39m.\u001b[39m_sslobj\u001b[39m.\u001b[39mread(\u001b[39mlen\u001b[39m)\n",
      "\u001b[0;31mKeyboardInterrupt\u001b[0m: "
     ]
    }
   ],
   "source": [
    "project.storage()"
   ]
  },
  {
   "cell_type": "code",
   "execution_count": 5,
   "metadata": {},
   "outputs": [],
   "source": [
    "from osfclient import cli"
   ]
  },
  {
   "cell_type": "code",
   "execution_count": 6,
   "metadata": {},
   "outputs": [],
   "source": [
    "class args:\n",
    "\n",
    "    def __init__(self, project, username=None, update=False, token=None, force=False, destination=None, source=None, recursive=False, target=None, output=None, remote=None, local=None):\n",
    "        self.project = project\n",
    "        self.username = username\n",
    "        self.token = token\n",
    "        self.update = update # applies to upload, clone, and fetch\n",
    "        self.force = force # applies to fetch and upload \n",
    "        # upload arguments:\n",
    "        self.destination = destination\n",
    "        self.source = source\n",
    "        self.recursive = recursive\n",
    "        # remove argument:\n",
    "        self.target = target\n",
    "        # clone argument:\n",
    "        self.output = output\n",
    "        # fetch arguments:\n",
    "        self.remote = remote\n",
    "        self.local = local "
   ]
  },
  {
   "cell_type": "code",
   "execution_count": 7,
   "metadata": {},
   "outputs": [],
   "source": [
    "arguments = args(\n",
    "    username='n.muller@uva.nl',\n",
    "    project='2xzdf',\n",
    "    token='zADpOUgHPW1UWttO2RQR0CciFLZCZyCFPmlJti7bPgfkm8RcLX1yBeuNgaIQKzwtC7GaYK',\n",
    "    # upload arguments:\n",
    "    destination='', \n",
    "    source='',\n",
    "    # remove argument:\n",
    "    target='',\n",
    "    # clone argument:\n",
    "    output='',\n",
    "    # fetch arguments:\n",
    "    remote='',\n",
    "    local=''\n",
    ")"
   ]
  },
  {
   "cell_type": "code",
   "execution_count": 8,
   "metadata": {},
   "outputs": [
    {
     "ename": "RuntimeError",
     "evalue": "Response has status code 502 not (200,)",
     "output_type": "error",
     "traceback": [
      "\u001b[0;31m---------------------------------------------------------------------------\u001b[0m",
      "\u001b[0;31mRuntimeError\u001b[0m                              Traceback (most recent call last)",
      "Cell \u001b[0;32mIn[8], line 1\u001b[0m\n\u001b[0;32m----> 1\u001b[0m cli\u001b[39m.\u001b[39;49mlist_(arguments)\n",
      "File \u001b[0;32m~/anaconda3/envs/oads/lib/python3.9/site-packages/osfclient/cli.py:98\u001b[0m, in \u001b[0;36mmight_need_auth.<locals>.wrapper\u001b[0;34m(cli_args)\u001b[0m\n\u001b[1;32m     95\u001b[0m \u001b[39m@wraps\u001b[39m(f)\n\u001b[1;32m     96\u001b[0m \u001b[39mdef\u001b[39;00m \u001b[39mwrapper\u001b[39m(cli_args):\n\u001b[1;32m     97\u001b[0m     \u001b[39mtry\u001b[39;00m:\n\u001b[0;32m---> 98\u001b[0m         return_value \u001b[39m=\u001b[39m f(cli_args)\n\u001b[1;32m     99\u001b[0m     \u001b[39mexcept\u001b[39;00m UnauthorizedException \u001b[39mas\u001b[39;00m e:\n\u001b[1;32m    100\u001b[0m         config \u001b[39m=\u001b[39m config_from_env(config_from_file())\n",
      "File \u001b[0;32m~/anaconda3/envs/oads/lib/python3.9/site-packages/osfclient/cli.py:266\u001b[0m, in \u001b[0;36mlist_\u001b[0;34m(args)\u001b[0m\n\u001b[1;32m    264\u001b[0m \u001b[39mfor\u001b[39;00m store \u001b[39min\u001b[39;00m project\u001b[39m.\u001b[39mstorages:\n\u001b[1;32m    265\u001b[0m     prefix \u001b[39m=\u001b[39m store\u001b[39m.\u001b[39mname\n\u001b[0;32m--> 266\u001b[0m     \u001b[39mfor\u001b[39;00m file_ \u001b[39min\u001b[39;00m store\u001b[39m.\u001b[39mfiles:\n\u001b[1;32m    267\u001b[0m         path \u001b[39m=\u001b[39m file_\u001b[39m.\u001b[39mpath\n\u001b[1;32m    268\u001b[0m         \u001b[39mif\u001b[39;00m path\u001b[39m.\u001b[39mstartswith(\u001b[39m'\u001b[39m\u001b[39m/\u001b[39m\u001b[39m'\u001b[39m):\n",
      "File \u001b[0;32m~/anaconda3/envs/oads/lib/python3.9/site-packages/osfclient/models/file.py:115\u001b[0m, in \u001b[0;36mContainerMixin._iter_children\u001b[0;34m(self, url, kind, klass, recurse)\u001b[0m\n\u001b[1;32m    112\u001b[0m \u001b[39melif\u001b[39;00m recurse \u001b[39mis\u001b[39;00m \u001b[39mnot\u001b[39;00m \u001b[39mNone\u001b[39;00m:\n\u001b[1;32m    113\u001b[0m     \u001b[39m# recurse into a child and add entries to `children`\u001b[39;00m\n\u001b[1;32m    114\u001b[0m     url \u001b[39m=\u001b[39m \u001b[39mself\u001b[39m\u001b[39m.\u001b[39m_get_attribute(child, \u001b[39m*\u001b[39mrecurse)\n\u001b[0;32m--> 115\u001b[0m     children\u001b[39m.\u001b[39mextend(\u001b[39mself\u001b[39;49m\u001b[39m.\u001b[39;49m_follow_next(url))\n",
      "File \u001b[0;32m~/anaconda3/envs/oads/lib/python3.9/site-packages/osfclient/models/core.py:67\u001b[0m, in \u001b[0;36mOSFCore._follow_next\u001b[0;34m(self, url)\u001b[0m\n\u001b[1;32m     65\u001b[0m \u001b[39mdef\u001b[39;00m \u001b[39m_follow_next\u001b[39m(\u001b[39mself\u001b[39m, url):\n\u001b[1;32m     66\u001b[0m \u001b[39m    \u001b[39m\u001b[39m\"\"\"Follow the 'next' link on paginated results.\"\"\"\u001b[39;00m\n\u001b[0;32m---> 67\u001b[0m     response \u001b[39m=\u001b[39m \u001b[39mself\u001b[39;49m\u001b[39m.\u001b[39;49m_json(\u001b[39mself\u001b[39;49m\u001b[39m.\u001b[39;49m_get(url), \u001b[39m200\u001b[39;49m)\n\u001b[1;32m     68\u001b[0m     data \u001b[39m=\u001b[39m response[\u001b[39m'\u001b[39m\u001b[39mdata\u001b[39m\u001b[39m'\u001b[39m]\n\u001b[1;32m     70\u001b[0m     next_url \u001b[39m=\u001b[39m \u001b[39mself\u001b[39m\u001b[39m.\u001b[39m_get_attribute(response, \u001b[39m'\u001b[39m\u001b[39mlinks\u001b[39m\u001b[39m'\u001b[39m, \u001b[39m'\u001b[39m\u001b[39mnext\u001b[39m\u001b[39m'\u001b[39m)\n",
      "File \u001b[0;32m~/anaconda3/envs/oads/lib/python3.9/site-packages/osfclient/models/core.py:61\u001b[0m, in \u001b[0;36mOSFCore._json\u001b[0;34m(self, response, status_code)\u001b[0m\n\u001b[1;32m     59\u001b[0m     \u001b[39mreturn\u001b[39;00m response\u001b[39m.\u001b[39mjson()\n\u001b[1;32m     60\u001b[0m \u001b[39melse\u001b[39;00m:\n\u001b[0;32m---> 61\u001b[0m     \u001b[39mraise\u001b[39;00m \u001b[39mRuntimeError\u001b[39;00m(\u001b[39m\"\u001b[39m\u001b[39mResponse has status \u001b[39m\u001b[39m\"\u001b[39m\n\u001b[1;32m     62\u001b[0m                        \u001b[39m\"\u001b[39m\u001b[39mcode \u001b[39m\u001b[39m{}\u001b[39;00m\u001b[39m not \u001b[39m\u001b[39m{}\u001b[39;00m\u001b[39m\"\u001b[39m\u001b[39m.\u001b[39mformat(response\u001b[39m.\u001b[39mstatus_code,\n\u001b[1;32m     63\u001b[0m                                                status_code))\n",
      "\u001b[0;31mRuntimeError\u001b[0m: Response has status code 502 not (200,)"
     ]
    }
   ],
   "source": [
    "cli.list_(arguments)"
   ]
  },
  {
   "cell_type": "code",
   "execution_count": null,
   "metadata": {},
   "outputs": [],
   "source": [
    "cli."
   ]
  },
  {
   "attachments": {},
   "cell_type": "markdown",
   "metadata": {},
   "source": [
    "# OLD"
   ]
  },
  {
   "cell_type": "code",
   "execution_count": 26,
   "metadata": {},
   "outputs": [],
   "source": [
    "# os.listdir(/C:\\Users\\nikla\\OADS\\OADS Missing Images from Camera\\Upload_to_drive\\ARW)\n",
    "counter = 0\n",
    "for x in os.listdir('/mnt/c/Users/nikla/OADS/OADS Missing Images from Camera/Upload_to_drive_DONE/ARW'):\n",
    "    if x.endswith('.ARW'):\n",
    "        if x not in os.listdir('/home/niklas/projects/data/oads/oads_arw/ARW'):\n",
    "            print(x)\n",
    "            # shutil.copy(f'/mnt/c/Users/nikla/OADS/OADS Missing Images from Camera/Upload_to_drive/ARW/{x}', '/home/niklas/projects/data/oads/oads_arw/ARW')"
   ]
  },
  {
   "cell_type": "code",
   "execution_count": 23,
   "metadata": {},
   "outputs": [
    {
     "data": {
      "text/plain": [
       "15"
      ]
     },
     "execution_count": 23,
     "metadata": {},
     "output_type": "execute_result"
    }
   ],
   "source": [
    "counter"
   ]
  },
  {
   "cell_type": "code",
   "execution_count": 2,
   "metadata": {},
   "outputs": [],
   "source": [
    "all_arw = os.listdir('/mnt/c/Users/nikla/OneDrive - UvA/OADS_Backup/ARW')\n",
    "all_jpeg_images = os.listdir('/mnt/c/Users/nikla/OneDrive - UvA/OADS_Backup/JPG')\n",
    "# all_arw = os.listdir('/home/niklas/projects/data/oads/oads_annotations/')"
   ]
  },
  {
   "cell_type": "code",
   "execution_count": 5,
   "metadata": {},
   "outputs": [],
   "source": [
    "folders = os.listdir('/mnt/c/Users/nikla/OneDrive - UvA/OADS_Backup/oads_annotations')\n",
    "all_jpeg = []\n",
    "all_jpeg_names = {}\n",
    "for folder in folders:\n",
    "    if os.path.isdir(os.path.join('/mnt/c/Users/nikla/OneDrive - UvA/OADS_Backup/oads_annotations', folder)):\n",
    "        all_jpeg_names[folder] = os.listdir(os.path.join('/mnt/c/Users/nikla/OneDrive - UvA/OADS_Backup/oads_annotations', folder, 'ann'))\n",
    "        all_jpeg.extend(os.listdir(os.path.join('/mnt/c/Users/nikla/OneDrive - UvA/OADS_Backup/oads_annotations', folder, 'ann')))\n"
   ]
  },
  {
   "cell_type": "code",
   "execution_count": 3,
   "metadata": {},
   "outputs": [],
   "source": [
    "all_arw = [x.split('.')[0] for x in all_arw]"
   ]
  },
  {
   "cell_type": "code",
   "execution_count": 6,
   "metadata": {},
   "outputs": [],
   "source": [
    "all_jpeg = [x.split('.')[0] for x in all_jpeg]\n",
    "all_jpeg_images = [x.split('.')[0] for x in all_jpeg_images]"
   ]
  },
  {
   "cell_type": "code",
   "execution_count": null,
   "metadata": {},
   "outputs": [],
   "source": [
    "# all_jpeg_names = [x.split('.')[0] for x in all_jpeg_names]"
   ]
  },
  {
   "cell_type": "code",
   "execution_count": 7,
   "metadata": {},
   "outputs": [
    {
     "data": {
      "text/plain": [
       "(6130, 5691, 5646)"
      ]
     },
     "execution_count": 7,
     "metadata": {},
     "output_type": "execute_result"
    }
   ],
   "source": [
    "len(all_arw), len(all_jpeg), len(all_jpeg_images)"
   ]
  },
  {
   "cell_type": "code",
   "execution_count": 15,
   "metadata": {},
   "outputs": [],
   "source": [
    "both_jpg_and_raw = []\n",
    "raw_but_not_jpeg = []\n",
    "jpeg_but_not_raw = []\n",
    "\n",
    "jpeg_but_not_raw_names = {name: [] for name in all_jpeg_names.keys()}\n",
    "\n",
    "for x in all_arw:\n",
    "    if x in all_jpeg:\n",
    "        both_jpg_and_raw.append(x)\n",
    "    else:\n",
    "        raw_but_not_jpeg.append(x)\n",
    "\n",
    "for x in all_jpeg:\n",
    "    if x not in all_arw:\n",
    "        jpeg_but_not_raw.append(x)\n",
    "\n",
    "for name, xs in all_jpeg_names.items():\n",
    "    for x in xs:\n",
    "        id = x.split('.')[0]\n",
    "        if id not in all_arw:\n",
    "            jpeg_but_not_raw_names[name].append(x)"
   ]
  },
  {
   "cell_type": "code",
   "execution_count": 16,
   "metadata": {},
   "outputs": [
    {
     "data": {
      "text/plain": [
       "(5477, 653, 214)"
      ]
     },
     "execution_count": 16,
     "metadata": {},
     "output_type": "execute_result"
    }
   ],
   "source": [
    "len(both_jpg_and_raw), len(raw_but_not_jpeg), len(jpeg_but_not_raw)"
   ]
  },
  {
   "cell_type": "code",
   "execution_count": 10,
   "metadata": {},
   "outputs": [],
   "source": [
    "pathARW = '/mnt/c/Users/nikla/OneDrive - UvA/OADS_Backup/ARW'"
   ]
  },
  {
   "cell_type": "code",
   "execution_count": 18,
   "metadata": {},
   "outputs": [],
   "source": [
    "# Need annotation\n",
    "new_dir = '/mnt/c/Users/nikla/OneDrive - UvA/OADS_Backup/Need_annotations'\n",
    "os.makedirs(new_dir, exist_ok=True)\n",
    "\n",
    "supervisely_filenames = os.listdir('/mnt/c/Users/nikla/OneDrive - UvA/OADS_Backup/Supervisely')\n",
    "jpeg_filenames = os.listdir('/mnt/c/Users/nikla/OneDrive - UvA/OADS_Backup/JPG')\n",
    "\n",
    "for image_id in all_arw:\n",
    "    # Is in JPG?\n",
    "    if f'{image_id}.jpg' not in jpeg_filenames:\n",
    "        new_jpg_filename = f'{image_id}.jpg'\n",
    "        if f'{image_id}.JPG' not in jpeg_filenames:\n",
    "            new_jpg_filename = f'{image_id}.JPG'\n",
    "    else:\n",
    "        new_jpg_filename = None\n",
    "\n",
    "    \n",
    "    # Is in Supervisely?\n",
    "    if f'{image_id}.jpg' in supervisely_filenames:\n",
    "        new_supervisely_filename = f'{image_id}.jpg'\n",
    "        if f'{image_id}.JPG' in supervisely_filenames:\n",
    "            new_supervisely_filename = f'{image_id}.JPG'\n",
    "    else:\n",
    "        new_supervisely_filename = None\n",
    "\n",
    "    # Has Annotation?\n",
    "    if image_id in raw_but_not_jpeg:\n",
    "        # Needs annotation - Supervisely image\n",
    "        needs_annotation_filename = f'{image_id}.JPG'\n",
    "    else:\n",
    "        needs_annotation_filename = None\n",
    "\n",
    "    if new_supervisely_filename is not None or new_jpg_filename is not None or needs_annotation_filename is not None:\n",
    "        # Get raw image\n",
    "        with rawpy.imread(pathARW+'/'+f'{image_id}.ARW') as raw:\n",
    "            rgb = raw.postprocess()\n",
    "\n",
    "        # Save to JPG folder (jpeg compressed but full resolution)\n",
    "        if new_jpg_filename is not None:\n",
    "            imageio.imsave(os.path.join('/mnt/c/Users/nikla/OneDrive - UvA/OADS_Backup/JPG', new_jpg_filename), rgb) # save in JPG folder\n",
    "\n",
    "        # Downsample\n",
    "        im = Image.fromarray(rgb)\n",
    "        w, h = im.size # get width, heigth\n",
    "        new_w = int(w/4) # resize by factor 4\n",
    "        new_h = int(h/4)\n",
    "        imResize = im.resize((new_w,new_h), Image.Resampling.LANCZOS) \n",
    "\n",
    "        # Save to Supervisely folder\n",
    "        if new_supervisely_filename is not None:\n",
    "            imName = os.path.join('/mnt/c/Users/nikla/OneDrive - UvA/OADS_Backup/Supervisely', new_supervisely_filename)\n",
    "            imResize.save(imName, 'JPEG') # save in the seperate Supervisely folder\n",
    "\n",
    "        # Save to needs annotation folder\n",
    "        if needs_annotation_filename is not None:\n",
    "            imName = os.path.join(new_dir, needs_annotation_filename)\n",
    "            imResize.save(imName, 'JPEG') # save in the seperate Supervisely folder\n",
    "\n",
    "\n",
    "\n",
    "    # if f'{image_id}.JPG' in supervisely_filenames:\n",
    "    #     # Copy from here\n",
    "    #     shutil.copy(src=os.path.join('/mnt/c/Users/nikla/OneDrive - UvA/OADS_Backup/Supervisely', f'{image_id}.JPG'), dst=os.path.join(new_dir, f'{image_id}.JPG'))\n",
    "    #     # print(image_id)\n",
    "    # elif f'{image_id}.jpg' in supervisely_filenames:\n",
    "    #     # Copy from here\n",
    "    #     shutil.copy(src=os.path.join('/mnt/c/Users/nikla/OneDrive - UvA/OADS_Backup/Supervisely', f'{image_id}.jpg'), dst=os.path.join(new_dir, f'{image_id}.jpg'))\n",
    "    #     # print(image_id)\n",
    "    # else:\n",
    "    #     # Make JPEG and copy then\n",
    "    #     with rawpy.imread(pathARW+'/'+f'{image_id}.ARW') as raw:\n",
    "    #         rgb = raw.postprocess()\n",
    "    #     imagename = f'{image_id}.JPG'\n",
    "    #     if imagename not in jpeg_filenames and f'{image_id}.jpg' not in jpeg_filenames:\n",
    "    #         imageio.imsave(os.path.join('/mnt/c/Users/nikla/OneDrive - UvA/OADS_Backup/JPG', imagename), rgb) # save in JPG folder\n",
    "\n",
    "    #     im = Image.fromarray(rgb)\n",
    "    #     w, h = im.size # get width, heigth\n",
    "    #     new_w = int(w/4) # resize by factor 4\n",
    "    #     new_h = int(h/4)\n",
    "    #     imResize = im.resize((new_w,new_h), Image.Resampling.LANCZOS) \n",
    "    #     imName = os.path.join(new_dir, f'{image_id}.JPG')\n",
    "    #     imResize.save(imName, 'JPEG') # save in the seperate Supervisely folder\n",
    "\n"
   ]
  },
  {
   "cell_type": "code",
   "execution_count": 13,
   "metadata": {},
   "outputs": [
    {
     "name": "stdout",
     "output_type": "stream",
     "text": [
      "Moving 000a464c4c86d4cc.JPG\n",
      "Moving 0100038315934a8e.JPG\n",
      "Moving 01e4692c8c8283c0.JPG\n",
      "Moving 022b0912989013ea.JPG\n",
      "Moving 034344564280fef8.JPG\n",
      "Moving 04004044c6840cf8.JPG\n",
      "Moving 0406361461b5c4e0.JPG\n",
      "Moving 0505454d4970e3b2.JPG\n",
      "Moving 06c0cc6c8555f496.JPG\n",
      "Moving 07088c9d0c0682f0.JPG\n",
      "Moving 078766364cf676e0.JPG\n",
      "Moving 090b656571511100.JPG\n",
      "Moving 098d1d0c0e6fabfc.JPG\n",
      "Moving 09e4479736ecdef8.JPG\n",
      "Moving 0a2c0c3a1a04a2fa.JPG\n",
      "Moving 0b2a8699c8ec9cd8.JPG\n",
      "Moving 0c3c109132288484.JPG\n",
      "Moving 0e1a5bd3308e6038.JPG\n",
      "Moving 0f9f9787c92dc5c0.JPG\n",
      "Moving 11060e888ccc04c6.JPG\n",
      "Moving 11313b624c94f4c8.JPG\n",
      "Moving 125a425644b498a0.JPG\n",
      "Moving 1311b1b1e52432a0.JPG\n",
      "Moving 159195d4e169f0a0.JPG\n",
      "Moving 160e0e4de9f17b8f.JPG\n",
      "Moving 1682892694153b9e.JPG\n",
      "Moving 189801c4d1f1c3ff.JPG\n",
      "Moving 19181919959e0f86.JPG\n",
      "Moving 1a1e1c98d2580091.JPG\n",
      "Moving 1a22287bfb593940.JPG\n",
      "Moving 1a32c0c868b49098.JPG\n",
      "Moving 1a3a360dd591ecec.JPG\n",
      "Moving 1b0ccdcdcdb42cc0.JPG\n",
      "Moving 1b95d508ececede0.JPG\n",
      "Moving 1dacf432f320068c.JPG\n",
      "Moving 1e1e12d2f232344e.JPG\n",
      "Moving 1f075c4496b6b79e.JPG\n",
      "Moving 2020a080808221e1.JPG\n",
      "Moving 20246e4e28cb4310.JPG\n",
      "Moving 202632724a6e6662.JPG\n",
      "Moving 203098d8cdd6bee8.JPG\n",
      "Moving 2032f2f6f2dad366.JPG\n",
      "Moving 2042128236363693.JPG\n",
      "Moving 208c9151686a722c.JPG\n",
      "Moving 20b1b368299870e8.JPG\n",
      "Moving 2121e12131a3cbd7.JPG\n",
      "Moving 2226d1591ec7f1e4.JPG\n",
      "Moving 230b0ad3c0c0c0e8.JPG\n",
      "Moving 2322a2a29292e4f0.JPG\n",
      "Moving 23a343ab26ecf8f8.JPG\n",
      "Moving 2407276303b6361a.JPG\n",
      "Moving 2429389333707ed2.JPG\n",
      "Moving 24644444d20227cd.JPG\n",
      "Moving 24ecf4d2c3e78bcc.JPG\n",
      "Moving 262425c4c7e73d2c.JPG\n",
      "Moving 2666e26466e2d8e8.JPG\n",
      "Moving 268682929647f27c.JPG\n",
      "Moving 27332326acf0c0c0.JPG\n",
      "Moving 2794904cd8acb14c.JPG\n",
      "Moving 280888e6e69898f0.JPG\n",
      "Moving 2829283c909b8cc8.JPG\n",
      "Moving 283b31511d8c49b0.JPG\n",
      "Moving 2a261b19311008f0.JPG\n",
      "Moving 2a4386c8ca2c34dc.JPG\n",
      "Moving 2c3c787866686eed.JPG\n",
      "Moving 2c3f7a3a3a3a333e.JPG\n",
      "Moving 2cacb962e49cdcf0.JPG\n",
      "Moving 30141e3a3b12d0f8.JPG\n",
      "Moving 30220120a2291913.JPG\n",
      "Moving 303037d6d66bc28b.JPG\n",
      "Moving 3070a9e14b613898.JPG\n",
      "Moving 307161716170cac4.JPG\n",
      "Moving 3131397939200acc.JPG\n",
      "Moving 3131f4d4de1a8e64.JPG\n",
      "Moving 31616425a1e1e9e1.JPG\n",
      "Moving 3171595b5a1903c6.JPG\n",
      "Moving 325292121e0c38c8.JPG\n",
      "Moving 3273f151e4d0e0f0.JPG\n",
      "Moving 32b0a8b1343c34e4.JPG\n",
      "Moving 32b39a98d0983898.JPG\n",
      "Moving 32cb4d47c11972f2.JPG\n",
      "Moving 333b1b0961e81320.JPG\n",
      "Moving 333b313929129898.JPG\n",
      "Moving 33b0c8494dcd84b2.JPG\n",
      "Moving 362763676766c8b0.JPG\n",
      "Moving 36b76d33374cb29a.JPG\n",
      "Moving 380838a8088e465c.JPG\n",
      "Moving 383a9b8b933bb8b6.JPG\n",
      "Moving 383c3c2d5c87ffdd.JPG\n",
      "Moving 387c4c2c5349e0c0.JPG\n",
      "Moving 390929cdcdcd62b3.JPG\n",
      "Moving 395a6ae2e6e0f0e0.JPG\n",
      "Moving 3a197d2c34308692.JPG\n",
      "Moving 3b53336173626efe.JPG\n",
      "Moving 3bbbb3a96479e9fc.JPG\n",
      "Moving 3c2cacb4b9a3a47a.JPG\n",
      "Moving 3d3939bbb9b8fcfc.JPG\n",
      "Moving 3d61e808a0e0b080.JPG\n",
      "Moving 3d6e3d19ad2f8ec6.JPG\n",
      "Moving 3f1bf33b8bcbc4e0.JPG\n",
      "Moving 3f3333a234a2c206.JPG\n",
      "Moving 3f3ba8b71c3a1694.JPG\n",
      "Moving 3f3e333331a1b8cc.JPG\n",
      "Moving 4020020221c08080.JPG\n",
      "Moving 40d061d8e4e2d2b0.JPG\n",
      "Moving 425292f2f2e8f0f8.JPG\n",
      "Moving 43089b9846e7e4e8.JPG\n",
      "Moving 4341343451d2c1c8.JPG\n",
      "Moving 43913333497019c0.JPG\n",
      "Moving 43c1c1c4d4f4c9c3.JPG\n",
      "Moving 44f0e8c8f084b8c9.JPG\n",
      "Moving 4585d5d68c81a7ec.JPG\n",
      "Moving 464e4bebef8dc79e.JPG\n",
      "Moving 46afefc9486dcfc3.JPG\n",
      "Moving 46d8982e4adaded7.JPG\n",
      "Moving 46dbd9ee64f8e098.JPG\n",
      "Moving 47574b8333c9d958.JPG\n",
      "Moving 479e3ccc1c88e1e8.JPG\n",
      "Moving 480040c6c2c2a2b8.JPG\n",
      "Moving 481819dc8c89f3e1.JPG\n",
      "Moving 48481271c0e0e0e8.JPG\n",
      "Moving 4868f0f2f4f4f464.JPG\n",
      "Moving 491b983d11979998.JPG\n",
      "Moving 4a1a5b5bdadaceb0.JPG\n",
      "Moving 4c6c6c75536c2c2c.JPG\n",
      "Moving 4cc4d470e4f4c8d0.JPG\n",
      "Moving 4d4f4d4c488a1e03.JPG\n",
      "Moving 4e2694d1e09c98c0.JPG\n",
      "Moving 4e2e76ce0c020407.JPG\n",
      "Moving 4e46665261f7378d.JPG\n",
      "Moving 4e4fc829ec4612c0.JPG\n",
      "Moving 4e6e6aeaec3df5e3.JPG\n",
      "Moving 50d81888e2624498.JPG\n",
      "Moving 50f0e8d3e3bcf0d0.JPG\n",
      "Moving 5112121a180282c0.JPG\n",
      "Moving 5353d4c8c17072fc.JPG\n",
      "Moving 557456d62d2d07b6.JPG\n",
      "Moving 5858babc3938f6c6.JPG\n",
      "Moving 585cd0d1646ec4e2.JPG\n",
      "Moving 58bb733adac71cee.JPG\n",
      "Moving 5971e84902606080.JPG\n",
      "Moving 5a5059193830e0c0.JPG\n",
      "Moving 5cc88eacae4ee4e1.JPG\n",
      "Moving 5d593c3d355b92e4.JPG\n",
      "Moving 5d7f69185dfdf89c.JPG\n",
      "Moving 606058802061e6d8.JPG\n",
      "Moving 6060a46062ebf034.JPG\n",
      "Moving 60d9cdc5a5b5d7d7.JPG\n",
      "Moving 60f0785e6ee9cc96.JPG\n",
      "Moving 6138582260b0f8fc.JPG\n",
      "Moving 61616050b4f8d088.JPG\n",
      "Moving 61617022222646c0.JPG\n",
      "Moving 626272e3e0a0e0e0.JPG\n",
      "Moving 6268a1e5c3e0e6f3.JPG\n",
      "Moving 627cde3aba9cd8e0.JPG\n",
      "Moving 63637071b19ce6f6.JPG\n",
      "Moving 6366cea4ecfdfcfc.JPG\n",
      "Moving 63cef2ea3a70f0b8.JPG\n",
      "Moving 6460c0866c0563b6.JPG\n",
      "Moving 646666766c2e70f8.JPG\n",
      "Moving 646c7c7e76606870.JPG\n",
      "Moving 647666666692c0e2.JPG\n",
      "Moving 664664f0710f8ee4.JPG\n",
      "Moving 66666646e672f4f4.JPG\n",
      "Moving 66672da91c36c8d8.JPG\n",
      "Moving 667656a6f010bce0.JPG\n",
      "Moving 670685b69683828c.JPG\n",
      "Moving 6766e4e4e364eca6.JPG\n",
      "Moving 67cc6786bedbda6a.JPG\n",
      "Moving 67e7c1f36d2f3c1c.JPG\n",
      "Moving 68386830b8e1b9f0.JPG\n",
      "Moving 686042c2800580f0.JPG\n",
      "Moving 6868fc90dce0c0f0.JPG\n",
      "Moving 6869cd8da3e7e0e0.JPG\n",
      "Moving 686ce4383c38cc98.JPG\n",
      "Moving 68a4e470f0ecfcb0.JPG\n",
      "Moving 68dc5e7a667260b0.JPG\n",
      "Moving 68dc98383898f8f0.JPG\n",
      "Moving 696969b99a9fc8e0.JPG\n",
      "Moving 6b69ccdafe7e1e8e.JPG\n",
      "Moving 6c3436a6a264f0f8.JPG\n",
      "Moving 6cd6f70b0761433b.JPG\n",
      "Moving 6e5edbdfd4c49e02.JPG\n",
      "Moving 6e6c6e6f6b2f7979.JPG\n",
      "Moving 6e6e2c36333773b2.JPG\n",
      "Moving 6f66745040406030.JPG\n",
      "Moving 6ff8e1352b39b0fe.JPG\n",
      "Moving 7060654488e96370.JPG\n",
      "Moving 7060c49a7692a0c0.JPG\n",
      "Moving 706968aa28283490.JPG\n",
      "Moving 70707070e060c9e0.JPG\n",
      "Moving 7096d2f8f4f4e2f2.JPG\n",
      "Moving 70f2e2e2f2e8ccc7.JPG\n",
      "Moving 70f331b13175b818.JPG\n",
      "Moving 7134a6e9f278d85a.JPG\n",
      "Moving 716041614010c060.JPG\n",
      "Moving 71a9d87050c0f2b0.JPG\n",
      "Moving 71b5ce1687e1e4f8.JPG\n",
      "Moving 723273bedab63279.JPG\n",
      "Moving 724ad290f2c0e0c0.JPG\n",
      "Moving 72f1f1e9f98ecc70.JPG\n",
      "Moving 7373739a1f77f6e4.JPG\n",
      "Moving 7373a5a5ed21303c.JPG\n",
      "Moving 7466c191e0f0e0f2.JPG\n",
      "Moving 766453a1e2d27ae4.JPG\n",
      "Moving 78725835712d3537.JPG\n",
      "Moving 787878d9c9d931ce.JPG\n",
      "Moving 797031b1a1e17672.JPG\n",
      "Moving 7978383c40490c37.JPG\n",
      "Moving 7bfda674cf3de1b1.JPG\n",
      "Moving 7c7048308e6870dc.JPG\n",
      "Moving 7d3d2dc9ebae8ec2.JPG\n",
      "Moving 7d5c70d8e0e880a8.JPG\n",
      "Moving 7d5d65e5650c066a.JPG\n",
      "Moving 7ed8d0f1cc8c6cfc.JPG\n",
      "Moving 7edeb7e9a7a5e2c6.JPG\n",
      "Moving 7fbbdaf2666470c1.JPG\n",
      "Moving 801949484848c3b8.JPG\n",
      "Moving 802048243c8cc4c4.JPG\n",
      "Moving 8090e9e0930b66f0.JPG\n",
      "Moving 809ab6369e19b68e.JPG\n",
      "Moving 80c0c0c0e0a14cc0.JPG\n",
      "Moving 81a9c0c8ccc8c8c9.JPG\n",
      "Moving 81c16166adcd5e67.JPG\n",
      "Moving 81c9cbd2bcccfafe.JPG\n",
      "Moving 821aaa882868a8e8.JPG\n",
      "Moving 82e652d2eaa61622.JPG\n",
      "Moving 82f3f1cd2c98a8d8.JPG\n",
      "Moving 830b8390f66e9818.JPG\n",
      "Moving 840424212365d890.JPG\n",
      "Moving 8466e6f6e6ec8472.JPG\n",
      "Moving 850110d413120784.JPG\n",
      "Moving 85360e2949191a8a.JPG\n",
      "Moving 85a646463a2b38e0.JPG\n",
      "Moving 85c4c6c686c6c4d1.JPG\n",
      "Moving 860a9fc7c6c8043a.JPG\n",
      "Moving 867a7234b4d4fe3e.JPG\n",
      "Moving 868681211683c1c8.JPG\n",
      "Moving 868c9296f2d8c6b8.JPG\n",
      "Moving 86abca9686058e90.JPG\n",
      "Moving 878584a5cd4ddddc.JPG\n",
      "Moving 87951a9cc4c0d0e0.JPG\n",
      "Moving 8797b7f3f99c8f87.JPG\n",
      "Moving 87c7e7272f95d028.JPG\n",
      "Moving 8828babbb0e0b0f8.JPG\n",
      "Moving 88acececd2b6ec9c.JPG\n",
      "Moving 88c8b2b240b1f3ca.JPG\n",
      "Moving 898929ace9ca878c.JPG\n",
      "Moving 89f04adbd9ddb535.JPG\n",
      "Moving 8a0081808181c8c0.JPG\n",
      "Moving 8b93c3c4f4f4f6f3.JPG\n",
      "Moving 8cd198cc18cac831.JPG\n",
      "Moving 8d8983c1533a3fbf.JPG\n",
      "Moving 8e23e3eb6bbd9383.JPG\n",
      "Moving 8e868c8ccac6c4d8.JPG\n",
      "Moving 8e9a521cb864dcb4.JPG\n",
      "Moving 8f2fccb199e1784c.JPG\n",
      "Moving 8f8597dc4a5a98f0.JPG\n",
      "Moving 8f9c9c9c99944408.JPG\n",
      "Moving 8fc3784c2b38c0f0.JPG\n",
      "Moving 90b986a726e4a069.JPG\n",
      "Moving 913919192d3d9b03.JPG\n",
      "Moving 91713919bd5c39bc.JPG\n",
      "Moving 9194d4b41c3a74f8.JPG\n",
      "Moving 92004cb6466060b0.JPG\n",
      "Moving 928a1026a0e88684.JPG\n",
      "Moving 92928088082824c0.JPG\n",
      "Moving 92b2a2b0a86860f0.JPG\n",
      "Moving 9386c3e3a79b9fde.JPG\n",
      "Moving 9393a3c282c080d0.JPG\n",
      "Moving 939b988a983a6aa4.JPG\n",
      "Moving 963ef6befc24f0e0.JPG\n",
      "Moving 968787539aad8bcf.JPG\n",
      "Moving 96961719d9fa9e89.JPG\n",
      "Moving 9818d8218a1399b8.JPG\n",
      "Moving 981b191a162cd8f0.JPG\n",
      "Moving 983e1f531b2fc3f0.JPG\n",
      "Moving 987d646a4849c4c0.JPG\n",
      "Moving 98908404180230b0.JPG\n",
      "Moving 9894763434306cc0.JPG\n",
      "Moving 98d991010307068c.JPG\n",
      "Moving 98e824253738dab2.JPG\n",
      "Moving 98f1f5f3605cd2e2.JPG\n",
      "Moving 9907070dcc10e8d0.JPG\n",
      "Moving 99999992222098ca.JPG\n",
      "Moving 999d959c190d85a9.JPG\n",
      "Moving 999dcdc5367e6ef6.JPG\n",
      "Moving 99a994d4d9d7dfb7.JPG\n",
      "Moving 9a1813ca8e1e1ad0.JPG\n",
      "Moving 9a989873f3f6f670.JPG\n",
      "Moving 9ad0d061e5e2e1c0.JPG\n",
      "Moving 9b9c94f3cadae8e0.JPG\n",
      "Moving 9c0c4e5e1e2b2460.JPG\n",
      "Moving 9c6c6848a4349cec.JPG\n",
      "Moving 9c8cceef6a8d1979.JPG\n",
      "Moving 9c94d276dedef6ec.JPG\n",
      "Moving 9c9a1ab630321307.JPG\n",
      "Moving 9c9c6ccca4b6e6a6.JPG\n",
      "Moving 9c9c9e8bdb7438b7.JPG\n",
      "Moving 9c9efeec9890f8ee.JPG\n",
      "Moving 9ced8888de383090.JPG\n",
      "Moving 9e5e5a72928adcf8.JPG\n",
      "Moving 9e9ecece86eedafc.JPG\n",
      "Moving 9e9fbf6c631383c5.JPG\n",
      "Moving 9f87dd992c20d2fe.JPG\n",
      "Moving 9f8b87af27766e66.JPG\n",
      "Moving a02460307078f8fc.JPG\n",
      "Moving a0b0a09cf0f1f1d8.JPG\n",
      "Moving a0b49c8c86965bb7.JPG\n",
      "Moving a0c2c6f6ecac8c9f.JPG\n",
      "Moving a28383cdd29ad2f2.JPG\n",
      "Moving a28495b5f5248dc2.JPG\n",
      "Moving a32727a7c7e3f8d8.JPG\n",
      "Moving a3a32f3e5e68b8f2.JPG\n",
      "Moving a3d9f9e9e96619f9.JPG\n",
      "Moving a3e3939999b2c9e0.JPG\n",
      "Moving a4a6dea0b080a4b0.JPG\n",
      "Moving a4c687860e68c280.JPG\n",
      "Moving a526747c7863826c.JPG\n",
      "Moving a66068d89e86e4f0.JPG\n",
      "Moving a6a7e6545ecee4c4.JPG\n",
      "Moving a6c717072d292599.JPG\n",
      "Moving a6e608769c75f4ec.JPG\n",
      "Moving a8f0e0c120c880e0.JPG\n",
      "Moving a9b9292932d6c070.JPG\n",
      "Moving aa98c0a6cc699898.JPG\n",
      "Moving aaa2d0c0c0c0e4f0.JPG\n",
      "Moving ab33ccbea050e8f8.JPG\n",
      "Moving ab3870d279798418.JPG\n",
      "Moving aba3d131e2c090a0.JPG\n",
      "Moving accfd3f0d0d8c4e5.JPG\n",
      "Moving acececadf96d9b83.JPG\n",
      "Moving aeafad2d2c28279f.JPG\n",
      "Moving b031319a8ad3a3e0.JPG\n",
      "Moving b0b41430e0d0d8d8.JPG\n",
      "Moving b0b4b6b69de1b3d3.JPG\n",
      "Moving b0f030f3669edaef.JPG\n",
      "Moving b1a8e1e0f0f16128.JPG\n",
      "Moving b1e4f8f8cce8e0a0.JPG\n",
      "Moving b1f1b08c28741c81.JPG\n",
      "Moving b1f1e1d990183e90.JPG\n",
      "Moving b23476d0943636d2.JPG\n",
      "Moving b293b323a9b8f9f5.JPG\n",
      "Moving b295d4d8feeff0f9.JPG\n",
      "Moving b2b2b2b1a7b2b72c.JPG\n",
      "Moving b2b2b3b3b292c1e1.JPG\n",
      "Moving b2f092929292b226.JPG\n",
      "Moving b320f0e1f4c190c8.JPG\n",
      "Moving b3b1b198f4e458ea.JPG\n",
      "Moving b3b1b1b3d7f8f0fc.JPG\n",
      "Moving b3b3bb7b2ba932ec.JPG\n",
      "Moving b3e14c59e18b7ade.JPG\n",
      "Moving b3f2f54fdbe9f8e0.JPG\n",
      "Moving b434bee6c2ccf4fa.JPG\n",
      "Moving b4546c6ee8e0e0d0.JPG\n",
      "Moving b49c2c6cfcb9f17c.JPG\n",
      "Moving b4b6a426a423e2f8.JPG\n",
      "Moving b4b92bf6f4acf0d8.JPG\n",
      "Moving b5b3b4b4f8e4dcfc.JPG\n",
      "Moving b6262f6be3dcfefc.JPG\n",
      "Moving b6a0c4860f28f0c8.JPG\n",
      "Moving b6b48c1c90f4d8d8.JPG\n",
      "Moving b6b6b0b68edcf8f8.JPG\n",
      "Moving b72267171c1b62f0.JPG\n",
      "Moving b7664acfce263f3e.JPG\n",
      "Moving b76b6af3f8e0c098.JPG\n",
      "Moving b8b0b2b3cbcb8bc8.JPG\n",
      "Moving b8b2f4f2f8ca1eb8.JPG\n",
      "Moving b8beef8b3dbcb2cb.JPG\n",
      "Moving b8f898f0e0e4c4c6.JPG\n",
      "Moving b8f8e0c0e0e0e8f2.JPG\n",
      "Moving b939bd2f29251135.JPG\n",
      "Moving b94dc2e8cb820b02.JPG\n",
      "Moving b97cb6d696d2f42e.JPG\n",
      "Moving b9b6bcf8e4f8f8f0.JPG\n",
      "Moving bbb332d95953c0c2.JPG\n",
      "Moving bcecce9c9459f0e2.JPG\n",
      "Moving bebe66ecb0b13470.JPG\n",
      "Moving bebe933663c73efc.JPG\n",
      "Moving beedede5f3ce6c6e.JPG\n",
      "Moving beff27014a489040.JPG\n",
      "Moving c02ee6f1dbdbdcec.JPG\n",
      "Moving c05590c8a8bc38b9.JPG\n",
      "Moving c08131b11ae9ccf0.JPG\n",
      "Moving c0c0c2f4b192b8ec.JPG\n",
      "Moving c0c0c8cccacec3c1.JPG\n",
      "Moving c0c0ced1d165d8d0.JPG\n",
      "Moving c0c4c2d3a3c73d38.JPG\n",
      "Moving c0c4ccd8c8e4f8f0.JPG\n",
      "Moving c0d0d4d832242e0c.JPG\n",
      "Moving c0d1d3959cd4799c.JPG\n",
      "Moving c0d4dcccfc830e1c.JPG\n",
      "Moving c0f072d1e9e1e1d0.JPG\n",
      "Moving c180c0821070f0e0.JPG\n",
      "Moving c19194f0d8cce0e0.JPG\n",
      "Moving c1c1c2e0e5f8c0a0.JPG\n",
      "Moving c1c1d3c3cac5a5e7.JPG\n",
      "Moving c28337daf3dcf1c6.JPG\n",
      "Moving c2839333e0d0e3fe.JPG\n",
      "Moving c2848290b4c0c0c0.JPG\n",
      "Moving c293d1c2e3d064f4.JPG\n",
      "Moving c2c3d1b4f4e2f0f0.JPG\n",
      "Moving c2d2180a5bd366f0.JPG\n",
      "Moving c2d78c96860483c0.JPG\n",
      "Moving c2f3f37cd89130e0.JPG\n",
      "Moving c3cdc4c4d284c488.JPG\n",
      "Moving c4849d94308a98d0.JPG\n",
      "Moving c4a4b8340610c8e6.JPG\n",
      "Moving c4aecffce1a73ce0.JPG\n",
      "Moving c4c30e8bc30ec1e2.JPG\n",
      "Moving c4c6a6a424860436.JPG\n",
      "Moving c5038981322b8bd0.JPG\n",
      "Moving c55930456379f4f0.JPG\n",
      "Moving c58928892a6a6b82.JPG\n",
      "Moving c5c7e238322cb864.JPG\n",
      "Moving c5d5d5cdcdcc1d5d.JPG\n",
      "Moving c5e5d9c9dee8f0b8.JPG\n",
      "Moving c68f89c38f97c4e0.JPG\n",
      "Moving c69693dff6c2e8e9.JPG\n",
      "Moving c6a2224e4a119838.JPG\n",
      "Moving c6ace8d0c4cc7038.JPG\n",
      "Moving c6c64a038383c786.JPG\n",
      "Moving c6c9c8e8c9e87c38.JPG\n",
      "Moving c6cecee6c6c0f0fc.JPG\n",
      "Moving c74b533570332320.JPG\n",
      "Moving c7950d9dbf0ae499.JPG\n",
      "Moving c795cf4af1e3c2cf.JPG\n",
      "Moving c7cb8bc7b6d60e86.JPG\n",
      "Moving c7dfc6c684c4e6b0.JPG\n",
      "Moving c7e1d69eecf8e0c8.JPG\n",
      "Moving c8980c2c321333c6.JPG\n",
      "Moving c8d8c0c2c364b098.JPG\n",
      "Moving c8d991696b279cf1.JPG\n",
      "Moving c8e63e6f6f4dc698.JPG\n",
      "Moving c8e8b9e6c7f6f6fe.JPG\n",
      "Moving c96b308e8c1388a4.JPG\n",
      "Moving c983c1c0a0ac64e4.JPG\n",
      "Moving c988981862c2f3f3.JPG\n",
      "Moving c989e8604df1f3e0.JPG\n",
      "Moving c9c584e080c4f4f8.JPG\n",
      "Moving c9c9cc4c2c5ccbc3.JPG\n",
      "Moving c9cf93777474f2f4.JPG\n",
      "Moving c9edd9f064c872f2.JPG\n",
      "Moving ca85b4d9695cdff3.JPG\n",
      "Moving cab2d3c68eefec24.JPG\n",
      "Moving ccc4e46465990948.JPG\n",
      "Moving cdc7d7e3ab9a777f.JPG\n",
      "Moving ce4f8b879ab2dd59.JPG\n",
      "Moving ce9fcad882c0f0f0.JPG\n",
      "Moving ceaac1cfcefafaec.JPG\n",
      "Moving ceca524ad6947e9e.JPG\n",
      "Moving cecece4c4ed6980f.JPG\n",
      "Moving cfe3736b7c787bbe.JPG\n",
      "Moving cfe3a2b1787cf8f0.JPG\n",
      "Moving d025e0f870f0b0c0.JPG\n",
      "Moving d08a988107a80c80.JPG\n",
      "Moving d094c1c9adf2f0c0.JPG\n",
      "Moving d15a5672b2d2b0e2.JPG\n",
      "Moving d1868c9c490700c1.JPG\n",
      "Moving d1c3d3d188b4e688.JPG\n",
      "Moving d2c26763636cf8b1.JPG\n",
      "Moving d2f2d25253d8f0b8.JPG\n",
      "Moving d3b3f171a3c67efc.JPG\n",
      "Moving d3bb3c34ccd8d6d8.JPG\n",
      "Moving d3c7cb91b073d7e0.JPG\n",
      "Moving d3cbcfdef8c4e8da.JPG\n",
      "Moving d3d3fa3bb2b99aac.JPG\n",
      "Moving d3dccc8c88aa8840.JPG\n",
      "Moving d426269232040c38.JPG\n",
      "Moving d4d4d1c8d0334ba6.JPG\n",
      "Moving d4dcd4c6c9c8f5fa.JPG\n",
      "Moving d623d2534ddcdc98.JPG\n",
      "Moving d66eca4ca477dbfc.JPG\n",
      "Moving d6d2d6d8d9d0e4d0.JPG\n",
      "Moving d6daf8e6ececfcf8.JPG\n",
      "Moving d7a7a6be3676ff7b.JPG\n",
      "Moving d858d8daf2eefc0a.JPG\n",
      "Moving d8d895969f4cf4d0.JPG\n",
      "Moving d8d9db72643632d0.JPG\n",
      "Moving d8f3a1b0ecece1ce.JPG\n",
      "Moving d9a0cbc5e0f8f0f0.JPG\n",
      "Moving d9d0d1e8f0d3d2e6.JPG\n",
      "Moving dbdbdbd7d8cbebb7.JPG\n",
      "Moving dc1c50d292d3d1ed.JPG\n",
      "Moving dcb838f87c3686e4.JPG\n",
      "Moving dcd4f0c8015ffef8.JPG\n",
      "Moving dcdedededafcf9fe.JPG\n",
      "Moving ddec7126938fecd4.JPG\n",
      "Moving de9f9b9be59e1efb.JPG\n",
      "Moving dfdf1f8f9dcdd7f6.JPG\n",
      "Moving dfffefcf9c739fff.JPG\n",
      "Moving e058ccc6ca8334b8.JPG\n",
      "Moving e06662b83480c090.JPG\n",
      "Moving e078383979f0e8e0.JPG\n",
      "Moving e090b06ccc80a8f2.JPG\n",
      "Moving e0a03078faba38f8.JPG\n",
      "Moving e0c5d6d2909573e3.JPG\n",
      "Moving e0c9c8d0e6c0e0b0.JPG\n",
      "Moving e0d8e0f5f5e68c98.JPG\n",
      "Moving e0e086e6e4941898.JPG\n",
      "Moving e0e1d09096848182.JPG\n",
      "Moving e0e1f168ec64f0f8.JPG\n",
      "Moving e0e1f3e2d4e0e0e0.JPG\n",
      "Moving e0e3c9cd8ca153c0.JPG\n",
      "Moving e0e4d494d8e4c4dc.JPG\n",
      "Moving e120a10d8cec5e3a.JPG\n",
      "Moving e18046450591e3c2.JPG\n",
      "Moving e1e5e16544d534a5.JPG\n",
      "Moving e1e8c8edf599cb49.JPG\n",
      "Moving e2a6266208691486.JPG\n",
      "Moving e2e22121a190b0b4.JPG\n",
      "Moving e363c3d1f99ad28e.JPG\n",
      "Moving e3cf6baba4ece2f8.JPG\n",
      "Moving e3e7a7e251036034.JPG\n",
      "Moving e3eae4e0f2d1d77c.JPG\n",
      "Moving e3f5b6e661bcc0ec.JPG\n",
      "Moving e4e171f9b9fcf188.JPG\n",
      "Moving e4e1e0a0d9d5a184.JPG\n",
      "Moving e4e4dcdc94b47286.JPG\n",
      "Moving e535989ca5f13c19.JPG\n",
      "Moving e53f33064d8f37fc.JPG\n",
      "Moving e565676460516866.JPG\n",
      "Moving e56bcce4c6c2e1c8.JPG\n",
      "Moving e5a0b8a4edd9f3f2.JPG\n",
      "Moving e5e5a58dc45414a6.JPG\n",
      "Moving e5e6e4f8b260e0c0.JPG\n",
      "Moving e6c6c6cdccb2f0e0.JPG\n",
      "Moving e6e6e6e6e474c60f.JPG\n",
      "Moving e6fae89a9e96e6e6.JPG\n",
      "Moving e753b998cce4e0f0.JPG\n",
      "Moving e7dbc70eb6e1e4f8.JPG\n",
      "Moving e884b464203f9fce.JPG\n",
      "Moving e8ce999ce070f8dc.JPG\n",
      "Moving e8e0f01449f3a1dc.JPG\n",
      "Moving e94e66c946063e3e.JPG\n",
      "Moving eb69c50d0d8959ff.JPG\n",
      "Moving ecaed52903e4f8e8.JPG\n",
      "Moving ecb5a2d3c39995c0.JPG\n",
      "Moving eccc54c49c9c1898.JPG\n",
      "Moving ececece89938ecb4.JPG\n",
      "Moving ecf6dbefab2feef0.JPG\n",
      "Moving ecf8d9f246ec8e84.JPG\n",
      "Moving ed6de1e2f3c3c9f0.JPG\n",
      "Moving ee2f476343318084.JPG\n",
      "Moving f010a0e8a89898ba.JPG\n",
      "Moving f0b0a04871160680.JPG\n",
      "Moving f0c9c8d2c8acfcf0.JPG\n",
      "Moving f0e0900a22ccdefe.JPG\n",
      "Moving f0e0e8bcb8390db8.JPG\n",
      "Moving f0eccecee56062e7.JPG\n",
      "Moving f0f0f5b5ac9ec0c0.JPG\n",
      "Moving f1980c680e8398e4.JPG\n",
      "Moving f1d0f05c7eb4b4f0.JPG\n",
      "Moving f1e1e95118181292.JPG\n",
      "Moving f1f1b5a9acecc0e0.JPG\n",
      "Moving f1f1d8b29792f4f8.JPG\n",
      "Moving f23271c4adaab4bc.JPG\n",
      "Moving f2b2d8d8d8f8f8f8.JPG\n",
      "Moving f2c6c2e169a6b634.JPG\n",
      "Moving f2e3e3e0f0d88bdb.JPG\n",
      "Moving f3c87c34b63cf4f0.JPG\n",
      "Moving f3f3c7c3c6b6b1c9.JPG\n",
      "Moving f3f3d1c1cbacb0f8.JPG\n",
      "Moving f3f563606c3e3c7e.JPG\n",
      "Moving f4f5e5c676f0f8f8.JPG\n",
      "Moving f4ff9999b9f5f5fa.JPG\n",
      "Moving f6d6f63400c0e0e0.JPG\n",
      "Moving f8b1313032e0f6b9.JPG\n",
      "Moving f8e0c1ccfdb4fefc.JPG\n",
      "Moving f8e0e0e08c6cf0f8.JPG\n",
      "Moving f8e4c9a0a2f0ec64.JPG\n",
      "Moving f8e4f0f0b4343088.JPG\n",
      "Moving f8e820f09a989cde.JPG\n",
      "Moving f8e8686def7b73d0.JPG\n",
      "Moving f8f1c3a4a8a9a078.JPG\n",
      "Moving f8f8f858dc988080.JPG\n",
      "Moving f9b9b1d9c9e9b9c9.JPG\n",
      "Moving f9e9e4d8f8f0f9f0.JPG\n",
      "Moving fbfbfee3cd66d2e0.JPG\n",
      "Moving fc6ef1f9ee3031c2.JPG\n",
      "Moving fc743838d69a3f39.JPG\n",
      "Moving fc7878d9dabc3cf8.JPG\n",
      "Moving fceccc646ab83c66.JPG\n",
      "Moving fcf63e1a5a5c70ee.JPG\n",
      "Moving fcf8fb6367b3386f.JPG\n",
      "Moving fcfc3c3c3ce4ecfc.JPG\n",
      "Moving fdfcccccd8e0c0a0.JPG\n",
      "Moving feeae86c4a123c8c.JPG\n",
      "Moving feeeecd033c5bfff.JPG\n",
      "Moving ff6f6da42c7a91b2.JPG\n",
      "Moving ff793d3de5e6f0b8.JPG\n",
      "Moving ffc3d1f3f1d29e9a.JPG\n"
     ]
    }
   ],
   "source": [
    "folders = os.listdir('/mnt/c/Users/nikla/OneDrive - UvA/OADS_Backup/oads_annotations')\n",
    "all_jpeg = []\n",
    "for folder in folders:\n",
    "    if os.path.isdir(os.path.join('/mnt/c/Users/nikla/OneDrive - UvA/OADS_Backup/oads_annotations', folder)):\n",
    "        all_jpeg.extend(os.listdir(os.path.join('/mnt/c/Users/nikla/OneDrive - UvA/OADS_Backup/oads_annotations', folder, 'ann')))\n",
    "\n",
    "\n",
    "all_jpeg = [x.split('.')[0] for x in all_jpeg]\n",
    "\n",
    "new_dir = '/mnt/c/Users/nikla/OneDrive - UvA/OADS_Backup/Need_annotations'\n",
    "os.makedirs(os.path.join(new_dir, 'duplicates'), exist_ok=True)\n",
    "\n",
    "for x in os.listdir(new_dir):\n",
    "    if not os.path.isdir(x) and x.split('.')[0] in all_jpeg:\n",
    "        # both_jpg_and_raw.append(x)\n",
    "        print(f'Moving {x}')\n",
    "        shutil.move(src=os.path.join(new_dir, x), dst=os.path.join(new_dir, 'duplicates', x))\n",
    "    # else:\n",
    "    #     raw_but_not_jpeg.append(x)\n",
    "\n",
    "# for x in all_jpeg:\n",
    "#     if x not in all_arw:\n",
    "#         jpeg_but_not_raw.append(x)\n",
    "\n",
    "# for name, xs in all_jpeg_names.items():\n",
    "#     for x in xs:\n",
    "#         id = x.split('.')[0]\n",
    "#         if id not in all_arw:\n",
    "#             jpeg_but_not_raw_names[name].append(x)"
   ]
  },
  {
   "cell_type": "code",
   "execution_count": 43,
   "metadata": {},
   "outputs": [
    {
     "data": {
      "text/plain": [
       "['Corner_cases', 'L_002_2', 'L_001', 'R_000', 'h_003', 'Unknown_001']"
      ]
     },
     "execution_count": 43,
     "metadata": {},
     "output_type": "execute_result"
    }
   ],
   "source": [
    "[name for name, items in jpeg_but_not_raw_names.items() if len(items) > 0]\n",
    "# len(jpeg_but_not_raw_names['Corner_cases'])"
   ]
  },
  {
   "cell_type": "code",
   "execution_count": 58,
   "metadata": {},
   "outputs": [
    {
     "data": {
      "text/plain": [
       "1"
      ]
     },
     "execution_count": 58,
     "metadata": {},
     "output_type": "execute_result"
    }
   ],
   "source": [
    "len(jpeg_but_not_raw_names['Unknown_001'])"
   ]
  }
 ],
 "metadata": {
  "kernelspec": {
   "display_name": "oads",
   "language": "python",
   "name": "python3"
  },
  "language_info": {
   "codemirror_mode": {
    "name": "ipython",
    "version": 3
   },
   "file_extension": ".py",
   "mimetype": "text/x-python",
   "name": "python",
   "nbconvert_exporter": "python",
   "pygments_lexer": "ipython3",
   "version": "3.9.13"
  },
  "orig_nbformat": 4
 },
 "nbformat": 4,
 "nbformat_minor": 2
}
