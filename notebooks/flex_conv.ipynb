{
 "cells": [
  {
   "cell_type": "code",
   "execution_count": 1,
   "metadata": {},
   "outputs": [
    {
     "name": "stderr",
     "output_type": "stream",
     "text": [
      "/home/niklas/anaconda3/envs/flexconv/lib/python3.9/site-packages/tqdm/auto.py:21: TqdmWarning: IProgress not found. Please update jupyter and ipywidgets. See https://ipywidgets.readthedocs.io/en/stable/user_install.html\n",
      "  from .autonotebook import tqdm as notebook_tqdm\n"
     ]
    }
   ],
   "source": [
    "import sys\n",
    "import os\n",
    "home_path = os.path.expanduser('~')\n",
    "sys.path.append(f'{home_path}/projects/ccnn')\n",
    "import pytorch_lightning as pl\n",
    "import torch\n",
    "# from models.resnet import ResNet_image\n",
    "from omegaconf import OmegaConf\n",
    "from dataset_constructor import construct_datamodule\n",
    "from model_constructor import construct_model\n",
    "from trainer_constructor import construct_trainer"
   ]
  },
  {
   "cell_type": "code",
   "execution_count": 5,
   "metadata": {},
   "outputs": [
    {
     "ename": "ConfigAttributeError",
     "evalue": "Missing key seed\n    full_key: seed\n    object_type=dict",
     "output_type": "error",
     "traceback": [
      "\u001b[0;31m---------------------------------------------------------------------------\u001b[0m",
      "\u001b[0;31mConfigAttributeError\u001b[0m                      Traceback (most recent call last)",
      "Cell \u001b[0;32mIn[5], line 6\u001b[0m\n\u001b[1;32m      2\u001b[0m OmegaConf\u001b[39m.\u001b[39mset_struct(cfg, \u001b[39mFalse\u001b[39;00m)\n\u001b[1;32m      4\u001b[0m \u001b[39m# Set seed\u001b[39;00m\n\u001b[1;32m      5\u001b[0m \u001b[39m# IMPORTANT! This does not make training entirely deterministic! Trainer(deterministic=True) required!\u001b[39;00m\n\u001b[0;32m----> 6\u001b[0m pl\u001b[39m.\u001b[39mseed_everything(cfg\u001b[39m.\u001b[39;49mseed, workers\u001b[39m=\u001b[39m\u001b[39mTrue\u001b[39;00m)\n\u001b[1;32m      8\u001b[0m \u001b[39m# Check number of available gpus\u001b[39;00m\n\u001b[1;32m      9\u001b[0m cfg\u001b[39m.\u001b[39mtrain\u001b[39m.\u001b[39mavail_gpus \u001b[39m=\u001b[39m torch\u001b[39m.\u001b[39mcuda\u001b[39m.\u001b[39mdevice_count()\n",
      "File \u001b[0;32m~/anaconda3/envs/flexconv/lib/python3.9/site-packages/omegaconf/dictconfig.py:355\u001b[0m, in \u001b[0;36mDictConfig.__getattr__\u001b[0;34m(self, key)\u001b[0m\n\u001b[1;32m    351\u001b[0m     \u001b[39mreturn\u001b[39;00m \u001b[39mself\u001b[39m\u001b[39m.\u001b[39m_get_impl(\n\u001b[1;32m    352\u001b[0m         key\u001b[39m=\u001b[39mkey, default_value\u001b[39m=\u001b[39m_DEFAULT_MARKER_, validate_key\u001b[39m=\u001b[39m\u001b[39mFalse\u001b[39;00m\n\u001b[1;32m    353\u001b[0m     )\n\u001b[1;32m    354\u001b[0m \u001b[39mexcept\u001b[39;00m ConfigKeyError \u001b[39mas\u001b[39;00m e:\n\u001b[0;32m--> 355\u001b[0m     \u001b[39mself\u001b[39;49m\u001b[39m.\u001b[39;49m_format_and_raise(\n\u001b[1;32m    356\u001b[0m         key\u001b[39m=\u001b[39;49mkey, value\u001b[39m=\u001b[39;49m\u001b[39mNone\u001b[39;49;00m, cause\u001b[39m=\u001b[39;49me, type_override\u001b[39m=\u001b[39;49mConfigAttributeError\n\u001b[1;32m    357\u001b[0m     )\n\u001b[1;32m    358\u001b[0m \u001b[39mexcept\u001b[39;00m \u001b[39mException\u001b[39;00m \u001b[39mas\u001b[39;00m e:\n\u001b[1;32m    359\u001b[0m     \u001b[39mself\u001b[39m\u001b[39m.\u001b[39m_format_and_raise(key\u001b[39m=\u001b[39mkey, value\u001b[39m=\u001b[39m\u001b[39mNone\u001b[39;00m, cause\u001b[39m=\u001b[39me)\n",
      "File \u001b[0;32m~/anaconda3/envs/flexconv/lib/python3.9/site-packages/omegaconf/base.py:231\u001b[0m, in \u001b[0;36mNode._format_and_raise\u001b[0;34m(self, key, value, cause, msg, type_override)\u001b[0m\n\u001b[1;32m    223\u001b[0m \u001b[39mdef\u001b[39;00m \u001b[39m_format_and_raise\u001b[39m(\n\u001b[1;32m    224\u001b[0m     \u001b[39mself\u001b[39m,\n\u001b[1;32m    225\u001b[0m     key: Any,\n\u001b[0;32m   (...)\u001b[0m\n\u001b[1;32m    229\u001b[0m     type_override: Any \u001b[39m=\u001b[39m \u001b[39mNone\u001b[39;00m,\n\u001b[1;32m    230\u001b[0m ) \u001b[39m-\u001b[39m\u001b[39m>\u001b[39m \u001b[39mNone\u001b[39;00m:\n\u001b[0;32m--> 231\u001b[0m     format_and_raise(\n\u001b[1;32m    232\u001b[0m         node\u001b[39m=\u001b[39;49m\u001b[39mself\u001b[39;49m,\n\u001b[1;32m    233\u001b[0m         key\u001b[39m=\u001b[39;49mkey,\n\u001b[1;32m    234\u001b[0m         value\u001b[39m=\u001b[39;49mvalue,\n\u001b[1;32m    235\u001b[0m         msg\u001b[39m=\u001b[39;49m\u001b[39mstr\u001b[39;49m(cause) \u001b[39mif\u001b[39;49;00m msg \u001b[39mis\u001b[39;49;00m \u001b[39mNone\u001b[39;49;00m \u001b[39melse\u001b[39;49;00m msg,\n\u001b[1;32m    236\u001b[0m         cause\u001b[39m=\u001b[39;49mcause,\n\u001b[1;32m    237\u001b[0m         type_override\u001b[39m=\u001b[39;49mtype_override,\n\u001b[1;32m    238\u001b[0m     )\n\u001b[1;32m    239\u001b[0m     \u001b[39massert\u001b[39;00m \u001b[39mFalse\u001b[39;00m\n",
      "File \u001b[0;32m~/anaconda3/envs/flexconv/lib/python3.9/site-packages/omegaconf/_utils.py:899\u001b[0m, in \u001b[0;36mformat_and_raise\u001b[0;34m(node, key, value, msg, cause, type_override)\u001b[0m\n\u001b[1;32m    896\u001b[0m     ex\u001b[39m.\u001b[39mref_type \u001b[39m=\u001b[39m ref_type\n\u001b[1;32m    897\u001b[0m     ex\u001b[39m.\u001b[39mref_type_str \u001b[39m=\u001b[39m ref_type_str\n\u001b[0;32m--> 899\u001b[0m _raise(ex, cause)\n",
      "File \u001b[0;32m~/anaconda3/envs/flexconv/lib/python3.9/site-packages/omegaconf/_utils.py:797\u001b[0m, in \u001b[0;36m_raise\u001b[0;34m(ex, cause)\u001b[0m\n\u001b[1;32m    795\u001b[0m \u001b[39melse\u001b[39;00m:\n\u001b[1;32m    796\u001b[0m     ex\u001b[39m.\u001b[39m__cause__ \u001b[39m=\u001b[39m \u001b[39mNone\u001b[39;00m\n\u001b[0;32m--> 797\u001b[0m \u001b[39mraise\u001b[39;00m ex\u001b[39m.\u001b[39mwith_traceback(sys\u001b[39m.\u001b[39mexc_info()[\u001b[39m2\u001b[39m])\n",
      "File \u001b[0;32m~/anaconda3/envs/flexconv/lib/python3.9/site-packages/omegaconf/dictconfig.py:351\u001b[0m, in \u001b[0;36mDictConfig.__getattr__\u001b[0;34m(self, key)\u001b[0m\n\u001b[1;32m    348\u001b[0m     \u001b[39mraise\u001b[39;00m \u001b[39mAttributeError\u001b[39;00m()\n\u001b[1;32m    350\u001b[0m \u001b[39mtry\u001b[39;00m:\n\u001b[0;32m--> 351\u001b[0m     \u001b[39mreturn\u001b[39;00m \u001b[39mself\u001b[39;49m\u001b[39m.\u001b[39;49m_get_impl(\n\u001b[1;32m    352\u001b[0m         key\u001b[39m=\u001b[39;49mkey, default_value\u001b[39m=\u001b[39;49m_DEFAULT_MARKER_, validate_key\u001b[39m=\u001b[39;49m\u001b[39mFalse\u001b[39;49;00m\n\u001b[1;32m    353\u001b[0m     )\n\u001b[1;32m    354\u001b[0m \u001b[39mexcept\u001b[39;00m ConfigKeyError \u001b[39mas\u001b[39;00m e:\n\u001b[1;32m    355\u001b[0m     \u001b[39mself\u001b[39m\u001b[39m.\u001b[39m_format_and_raise(\n\u001b[1;32m    356\u001b[0m         key\u001b[39m=\u001b[39mkey, value\u001b[39m=\u001b[39m\u001b[39mNone\u001b[39;00m, cause\u001b[39m=\u001b[39me, type_override\u001b[39m=\u001b[39mConfigAttributeError\n\u001b[1;32m    357\u001b[0m     )\n",
      "File \u001b[0;32m~/anaconda3/envs/flexconv/lib/python3.9/site-packages/omegaconf/dictconfig.py:442\u001b[0m, in \u001b[0;36mDictConfig._get_impl\u001b[0;34m(self, key, default_value, validate_key)\u001b[0m\n\u001b[1;32m    438\u001b[0m \u001b[39mdef\u001b[39;00m \u001b[39m_get_impl\u001b[39m(\n\u001b[1;32m    439\u001b[0m     \u001b[39mself\u001b[39m, key: DictKeyType, default_value: Any, validate_key: \u001b[39mbool\u001b[39m \u001b[39m=\u001b[39m \u001b[39mTrue\u001b[39;00m\n\u001b[1;32m    440\u001b[0m ) \u001b[39m-\u001b[39m\u001b[39m>\u001b[39m Any:\n\u001b[1;32m    441\u001b[0m     \u001b[39mtry\u001b[39;00m:\n\u001b[0;32m--> 442\u001b[0m         node \u001b[39m=\u001b[39m \u001b[39mself\u001b[39;49m\u001b[39m.\u001b[39;49m_get_child(\n\u001b[1;32m    443\u001b[0m             key\u001b[39m=\u001b[39;49mkey, throw_on_missing_key\u001b[39m=\u001b[39;49m\u001b[39mTrue\u001b[39;49;00m, validate_key\u001b[39m=\u001b[39;49mvalidate_key\n\u001b[1;32m    444\u001b[0m         )\n\u001b[1;32m    445\u001b[0m     \u001b[39mexcept\u001b[39;00m (ConfigAttributeError, ConfigKeyError):\n\u001b[1;32m    446\u001b[0m         \u001b[39mif\u001b[39;00m default_value \u001b[39mis\u001b[39;00m \u001b[39mnot\u001b[39;00m _DEFAULT_MARKER_:\n",
      "File \u001b[0;32m~/anaconda3/envs/flexconv/lib/python3.9/site-packages/omegaconf/basecontainer.py:73\u001b[0m, in \u001b[0;36mBaseContainer._get_child\u001b[0;34m(self, key, validate_access, validate_key, throw_on_missing_value, throw_on_missing_key)\u001b[0m\n\u001b[1;32m     64\u001b[0m \u001b[39mdef\u001b[39;00m \u001b[39m_get_child\u001b[39m(\n\u001b[1;32m     65\u001b[0m     \u001b[39mself\u001b[39m,\n\u001b[1;32m     66\u001b[0m     key: Any,\n\u001b[0;32m   (...)\u001b[0m\n\u001b[1;32m     70\u001b[0m     throw_on_missing_key: \u001b[39mbool\u001b[39m \u001b[39m=\u001b[39m \u001b[39mFalse\u001b[39;00m,\n\u001b[1;32m     71\u001b[0m ) \u001b[39m-\u001b[39m\u001b[39m>\u001b[39m Union[Optional[Node], List[Optional[Node]]]:\n\u001b[1;32m     72\u001b[0m \u001b[39m    \u001b[39m\u001b[39m\"\"\"Like _get_node, passing through to the nearest concrete Node.\"\"\"\u001b[39;00m\n\u001b[0;32m---> 73\u001b[0m     child \u001b[39m=\u001b[39m \u001b[39mself\u001b[39;49m\u001b[39m.\u001b[39;49m_get_node(\n\u001b[1;32m     74\u001b[0m         key\u001b[39m=\u001b[39;49mkey,\n\u001b[1;32m     75\u001b[0m         validate_access\u001b[39m=\u001b[39;49mvalidate_access,\n\u001b[1;32m     76\u001b[0m         validate_key\u001b[39m=\u001b[39;49mvalidate_key,\n\u001b[1;32m     77\u001b[0m         throw_on_missing_value\u001b[39m=\u001b[39;49mthrow_on_missing_value,\n\u001b[1;32m     78\u001b[0m         throw_on_missing_key\u001b[39m=\u001b[39;49mthrow_on_missing_key,\n\u001b[1;32m     79\u001b[0m     )\n\u001b[1;32m     80\u001b[0m     \u001b[39mif\u001b[39;00m \u001b[39misinstance\u001b[39m(child, UnionNode) \u001b[39mand\u001b[39;00m \u001b[39mnot\u001b[39;00m _is_special(child):\n\u001b[1;32m     81\u001b[0m         value \u001b[39m=\u001b[39m child\u001b[39m.\u001b[39m_value()\n",
      "File \u001b[0;32m~/anaconda3/envs/flexconv/lib/python3.9/site-packages/omegaconf/dictconfig.py:480\u001b[0m, in \u001b[0;36mDictConfig._get_node\u001b[0;34m(self, key, validate_access, validate_key, throw_on_missing_value, throw_on_missing_key)\u001b[0m\n\u001b[1;32m    478\u001b[0m \u001b[39mif\u001b[39;00m value \u001b[39mis\u001b[39;00m \u001b[39mNone\u001b[39;00m:\n\u001b[1;32m    479\u001b[0m     \u001b[39mif\u001b[39;00m throw_on_missing_key:\n\u001b[0;32m--> 480\u001b[0m         \u001b[39mraise\u001b[39;00m ConfigKeyError(\u001b[39mf\u001b[39m\u001b[39m\"\u001b[39m\u001b[39mMissing key \u001b[39m\u001b[39m{\u001b[39;00mkey\u001b[39m!s}\u001b[39;00m\u001b[39m\"\u001b[39m)\n\u001b[1;32m    481\u001b[0m \u001b[39melif\u001b[39;00m throw_on_missing_value \u001b[39mand\u001b[39;00m value\u001b[39m.\u001b[39m_is_missing():\n\u001b[1;32m    482\u001b[0m     \u001b[39mraise\u001b[39;00m MissingMandatoryValue(\u001b[39m\"\u001b[39m\u001b[39mMissing mandatory value: $KEY\u001b[39m\u001b[39m\"\u001b[39m)\n",
      "\u001b[0;31mConfigAttributeError\u001b[0m: Missing key seed\n    full_key: seed\n    object_type=dict"
     ]
    }
   ],
   "source": [
    "# cfg = OmegaConf()\n",
    "OmegaConf.set_struct(cfg, False)\n",
    "\n",
    "# Set seed\n",
    "# IMPORTANT! This does not make training entirely deterministic! Trainer(deterministic=True) required!\n",
    "pl.seed_everything(cfg.seed, workers=True)\n",
    "\n",
    "# Check number of available gpus\n",
    "cfg.train.avail_gpus = torch.cuda.device_count()\n",
    "\n",
    "# Construct data_module\n",
    "datamodule = construct_datamodule(cfg)\n",
    "datamodule.prepare_data()\n",
    "datamodule.setup()\n",
    "\n",
    "# Append no of iteration to the cfg file for the definition of the schedulers\n",
    "distrib_batch_size = cfg.train.batch_size\n",
    "if cfg.train.distributed:\n",
    "    distrib_batch_size *= cfg.train.avail_gpus\n",
    "cfg.scheduler.iters_per_train_epoch = (\n",
    "    len(datamodule.train_dataset) // distrib_batch_size\n",
    ")\n",
    "cfg.scheduler.total_train_iters = (\n",
    "    cfg.scheduler.iters_per_train_epoch * cfg.train.epochs\n",
    ")"
   ]
  },
  {
   "cell_type": "code",
   "execution_count": null,
   "metadata": {},
   "outputs": [],
   "source": [
    "ResNet_image(self,\n",
    "        in_channels=3,\n",
    "        out_channels=19,\n",
    "        net_cfg: OmegaConf,\n",
    "        kernel_cfg: OmegaConf,\n",
    "        conv_cfg: OmegaConf,\n",
    "        mask_cfg: OmegaConf,)"
   ]
  }
 ],
 "metadata": {
  "kernelspec": {
   "display_name": "oads",
   "language": "python",
   "name": "python3"
  },
  "language_info": {
   "codemirror_mode": {
    "name": "ipython",
    "version": 3
   },
   "file_extension": ".py",
   "mimetype": "text/x-python",
   "name": "python",
   "nbconvert_exporter": "python",
   "pygments_lexer": "ipython3",
   "version": "3.9.16"
  },
  "orig_nbformat": 4
 },
 "nbformat": 4,
 "nbformat_minor": 2
}
