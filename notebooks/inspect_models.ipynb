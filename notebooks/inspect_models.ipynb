{
 "cells": [
  {
   "cell_type": "code",
   "execution_count": 1,
   "metadata": {},
   "outputs": [],
   "source": [
    "%load_ext autoreload\n",
    "%autoreload 2\n",
    "\n",
    "import sys\n",
    "sys.path.append('/home/niklas/projects/pytorch-cnn-visualizations/')\n",
    "from src.cnn_layer_visualization import CNNLayerVisualization\n",
    "import torch, torchvision\n",
    "import os\n",
    "from torchvision.models import resnet18, resnet50"
   ]
  },
  {
   "cell_type": "code",
   "execution_count": 2,
   "metadata": {},
   "outputs": [],
   "source": [
    "model_type = 'resnet18'\n",
    "image_representation = 'rgb'\n",
    "use_jpeg = False\n",
    "datetime = {'resnet50': {'rgb': {True: '2023-02-23-17:21:11', False: '2023-02-23-17:21:11'}, 'coc': {True: '2023-02-23-17:21:18', False: '2023-02-23-17:21:29'}},\n",
    "            'resnet18': {'rgb': {True: '2023-03-01-18:07:32', False: '2023-03-01-18:04:17'}, 'coc': {True: '2023-03-01-18:08:01', False: '2023-03-01-18:08:05'}}}\n",
    "\n",
    "model_path = os.path.join('/home/niklas/projects/oads_results_snellius/', model_type, image_representation, \"jpeg\" if use_jpeg else \"\", datetime[model_type][image_representation][use_jpeg])\n",
    "model_path = os.path.join(model_path, [x for x in os.listdir(model_path) if x.startswith('best_model')][0])\n",
    "\n",
    "initial_output_channels = 19\n",
    "\n",
    "\n",
    "output_channels = 565 # 200 # len(dataset.decision_mapping.categories)\n",
    "\n",
    "torch.cuda.empty_cache()\n",
    "device = torch.device('cuda' if torch.cuda.is_available() else 'cpu')"
   ]
  },
  {
   "cell_type": "code",
   "execution_count": 8,
   "metadata": {},
   "outputs": [],
   "source": [
    "model = resnet18()\n",
    "\n",
    "model.conv1 = torch.nn.Conv2d(in_channels=3, out_channels=model.conv1.out_channels, kernel_size=(7,7), stride=(2,2), padding=(3,3), bias=False)\n",
    "model.fc = torch.nn.Linear(in_features=512, out_features=initial_output_channels, bias=True)\n",
    "model.load_state_dict(torch.load(model_path))\n",
    "for child in model.children():\n",
    "    for param in child.parameters():\n",
    "        param.requires_grad = False\n",
    "\n",
    "# model.fc = torch.nn.Linear(in_features=512, out_features=output_channels, bias=True)\n",
    "# model = model.to(device)\n",
    "# modules = list(model.children())[:-1]      # delete the last fc layer.\n",
    "# model = torch.nn.Sequential(*modules)\n",
    "# model.features = torch.nn.Sequential(*modules)"
   ]
  },
  {
   "cell_type": "code",
   "execution_count": 9,
   "metadata": {},
   "outputs": [
    {
     "ename": "TypeError",
     "evalue": "'ResNet' object is not iterable",
     "output_type": "error",
     "traceback": [
      "\u001b[0;31m---------------------------------------------------------------------------\u001b[0m",
      "\u001b[0;31mTypeError\u001b[0m                                 Traceback (most recent call last)",
      "\u001b[1;32m/home/niklas/projects/oads_access/notebooks/inspect_models.ipynb Cell 4\u001b[0m in \u001b[0;36m<cell line: 1>\u001b[0;34m()\u001b[0m\n\u001b[0;32m----> <a href='vscode-notebook-cell://wsl%2Bubuntu/home/niklas/projects/oads_access/notebooks/inspect_models.ipynb#W4sdnNjb2RlLXJlbW90ZQ%3D%3D?line=0'>1</a>\u001b[0m \u001b[39mfor\u001b[39;00m x, layer \u001b[39min\u001b[39;00m \u001b[39menumerate\u001b[39;49m(model):\n\u001b[1;32m      <a href='vscode-notebook-cell://wsl%2Bubuntu/home/niklas/projects/oads_access/notebooks/inspect_models.ipynb#W4sdnNjb2RlLXJlbW90ZQ%3D%3D?line=1'>2</a>\u001b[0m     \u001b[39mprint\u001b[39m(layer)\n",
      "\u001b[0;31mTypeError\u001b[0m: 'ResNet' object is not iterable"
     ]
    }
   ],
   "source": [
    "for x, layer in enumerate(model):\n",
    "    print(layer)"
   ]
  },
  {
   "cell_type": "code",
   "execution_count": 10,
   "metadata": {},
   "outputs": [
    {
     "ename": "TypeError",
     "evalue": "'ResNet' object is not subscriptable",
     "output_type": "error",
     "traceback": [
      "\u001b[0;31m---------------------------------------------------------------------------\u001b[0m",
      "\u001b[0;31mTypeError\u001b[0m                                 Traceback (most recent call last)",
      "\u001b[1;32m/home/niklas/projects/oads_access/notebooks/inspect_models.ipynb Cell 5\u001b[0m in \u001b[0;36m<cell line: 2>\u001b[0;34m()\u001b[0m\n\u001b[1;32m      <a href='vscode-notebook-cell://wsl%2Bubuntu/home/niklas/projects/oads_access/notebooks/inspect_models.ipynb#W1sdnNjb2RlLXJlbW90ZQ%3D%3D?line=0'>1</a>\u001b[0m layer_vis \u001b[39m=\u001b[39m CNNLayerVisualization(model\u001b[39m=\u001b[39mmodel, selected_layer\u001b[39m=\u001b[39m\u001b[39m1\u001b[39m, selected_filter\u001b[39m=\u001b[39m\u001b[39m5\u001b[39m)\n\u001b[0;32m----> <a href='vscode-notebook-cell://wsl%2Bubuntu/home/niklas/projects/oads_access/notebooks/inspect_models.ipynb#W1sdnNjb2RlLXJlbW90ZQ%3D%3D?line=1'>2</a>\u001b[0m layer_vis\u001b[39m.\u001b[39;49mvisualise_layer_with_hooks()\n",
      "File \u001b[0;32m~/projects/pytorch-cnn-visualizations/src/cnn_layer_visualization.py:40\u001b[0m, in \u001b[0;36mCNNLayerVisualization.visualise_layer_with_hooks\u001b[0;34m(self)\u001b[0m\n\u001b[1;32m     38\u001b[0m \u001b[39mdef\u001b[39;00m \u001b[39mvisualise_layer_with_hooks\u001b[39m(\u001b[39mself\u001b[39m):\n\u001b[1;32m     39\u001b[0m     \u001b[39m# Hook the selected layer\u001b[39;00m\n\u001b[0;32m---> 40\u001b[0m     \u001b[39mself\u001b[39;49m\u001b[39m.\u001b[39;49mhook_layer()\n\u001b[1;32m     41\u001b[0m     \u001b[39m# Generate a random image\u001b[39;00m\n\u001b[1;32m     42\u001b[0m     random_image \u001b[39m=\u001b[39m np\u001b[39m.\u001b[39muint8(np\u001b[39m.\u001b[39mrandom\u001b[39m.\u001b[39muniform(\u001b[39m150\u001b[39m, \u001b[39m180\u001b[39m, (\u001b[39m224\u001b[39m, \u001b[39m224\u001b[39m, \u001b[39m3\u001b[39m)))\n",
      "File \u001b[0;32m~/projects/pytorch-cnn-visualizations/src/cnn_layer_visualization.py:36\u001b[0m, in \u001b[0;36mCNNLayerVisualization.hook_layer\u001b[0;34m(self)\u001b[0m\n\u001b[1;32m     34\u001b[0m     \u001b[39mself\u001b[39m\u001b[39m.\u001b[39mconv_output \u001b[39m=\u001b[39m grad_out[\u001b[39m0\u001b[39m, \u001b[39mself\u001b[39m\u001b[39m.\u001b[39mselected_filter]\n\u001b[1;32m     35\u001b[0m \u001b[39m# Hook the selected layer\u001b[39;00m\n\u001b[0;32m---> 36\u001b[0m \u001b[39mself\u001b[39;49m\u001b[39m.\u001b[39;49mmodel[\u001b[39mself\u001b[39;49m\u001b[39m.\u001b[39;49mselected_layer]\u001b[39m.\u001b[39mregister_forward_hook(hook_function)\n",
      "\u001b[0;31mTypeError\u001b[0m: 'ResNet' object is not subscriptable"
     ]
    }
   ],
   "source": [
    "layer_vis = CNNLayerVisualization(model=model, selected_layer=1, selected_filter=5)\n",
    "layer_vis.visualise_layer_with_hooks()"
   ]
  },
  {
   "cell_type": "code",
   "execution_count": 11,
   "metadata": {},
   "outputs": [],
   "source": [
    "from src.gradcam import GradCam\n",
    "from src.misc_functions import get_example_params, save_class_activation_images"
   ]
  },
  {
   "cell_type": "code",
   "execution_count": 17,
   "metadata": {},
   "outputs": [
    {
     "data": {
      "text/plain": [
       "('conv1',\n",
       " Conv2d(3, 64, kernel_size=(7, 7), stride=(2, 2), padding=(3, 3), bias=False))"
      ]
     },
     "execution_count": 17,
     "metadata": {},
     "output_type": "execute_result"
    }
   ],
   "source": [
    "list(model._modules.items())[0]"
   ]
  },
  {
   "cell_type": "code",
   "execution_count": 19,
   "metadata": {},
   "outputs": [
    {
     "ename": "RuntimeError",
     "evalue": "mat1 and mat2 shapes cannot be multiplied (512x1 and 512x19)",
     "output_type": "error",
     "traceback": [
      "\u001b[0;31m---------------------------------------------------------------------------\u001b[0m",
      "\u001b[0;31mRuntimeError\u001b[0m                              Traceback (most recent call last)",
      "\u001b[1;32m/home/niklas/projects/oads_access/notebooks/inspect_models.ipynb Cell 8\u001b[0m in \u001b[0;36m<cell line: 7>\u001b[0;34m()\u001b[0m\n\u001b[1;32m      <a href='vscode-notebook-cell://wsl%2Bubuntu/home/niklas/projects/oads_access/notebooks/inspect_models.ipynb#W6sdnNjb2RlLXJlbW90ZQ%3D%3D?line=4'>5</a>\u001b[0m grad_cam \u001b[39m=\u001b[39m GradCam(model, target_layer\u001b[39m=\u001b[39m\u001b[39m'\u001b[39m\u001b[39mconv1\u001b[39m\u001b[39m'\u001b[39m)\n\u001b[1;32m      <a href='vscode-notebook-cell://wsl%2Bubuntu/home/niklas/projects/oads_access/notebooks/inspect_models.ipynb#W6sdnNjb2RlLXJlbW90ZQ%3D%3D?line=5'>6</a>\u001b[0m \u001b[39m# Generate cam mask\u001b[39;00m\n\u001b[0;32m----> <a href='vscode-notebook-cell://wsl%2Bubuntu/home/niklas/projects/oads_access/notebooks/inspect_models.ipynb#W6sdnNjb2RlLXJlbW90ZQ%3D%3D?line=6'>7</a>\u001b[0m cam \u001b[39m=\u001b[39m grad_cam\u001b[39m.\u001b[39;49mgenerate_cam(prep_img, target_class)\n\u001b[1;32m      <a href='vscode-notebook-cell://wsl%2Bubuntu/home/niklas/projects/oads_access/notebooks/inspect_models.ipynb#W6sdnNjb2RlLXJlbW90ZQ%3D%3D?line=7'>8</a>\u001b[0m \u001b[39m# Save mask\u001b[39;00m\n\u001b[1;32m      <a href='vscode-notebook-cell://wsl%2Bubuntu/home/niklas/projects/oads_access/notebooks/inspect_models.ipynb#W6sdnNjb2RlLXJlbW90ZQ%3D%3D?line=8'>9</a>\u001b[0m save_class_activation_images(original_image, cam, file_name_to_export)\n",
      "File \u001b[0;32m~/projects/pytorch-cnn-visualizations/src/gradcam.py:74\u001b[0m, in \u001b[0;36mGradCam.generate_cam\u001b[0;34m(self, input_image, target_class)\u001b[0m\n\u001b[1;32m     70\u001b[0m \u001b[39mdef\u001b[39;00m \u001b[39mgenerate_cam\u001b[39m(\u001b[39mself\u001b[39m, input_image, target_class\u001b[39m=\u001b[39m\u001b[39mNone\u001b[39;00m):\n\u001b[1;32m     71\u001b[0m     \u001b[39m# Full forward pass\u001b[39;00m\n\u001b[1;32m     72\u001b[0m     \u001b[39m# conv_output is the output of convolutions at specified layer\u001b[39;00m\n\u001b[1;32m     73\u001b[0m     \u001b[39m# model_output is the final output of the model (1, 1000)\u001b[39;00m\n\u001b[0;32m---> 74\u001b[0m     conv_output, model_output \u001b[39m=\u001b[39m \u001b[39mself\u001b[39;49m\u001b[39m.\u001b[39;49mextractor\u001b[39m.\u001b[39;49mforward_pass(input_image)\n\u001b[1;32m     75\u001b[0m     \u001b[39mif\u001b[39;00m target_class \u001b[39mis\u001b[39;00m \u001b[39mNone\u001b[39;00m:\n\u001b[1;32m     76\u001b[0m         target_class \u001b[39m=\u001b[39m np\u001b[39m.\u001b[39margmax(model_output\u001b[39m.\u001b[39mdata\u001b[39m.\u001b[39mnumpy())\n",
      "File \u001b[0;32m~/projects/pytorch-cnn-visualizations/src/gradcam.py:50\u001b[0m, in \u001b[0;36mCamExtractor.forward_pass\u001b[0;34m(self, x)\u001b[0m\n\u001b[1;32m     46\u001b[0m \u001b[39m\"\"\"\u001b[39;00m\n\u001b[1;32m     47\u001b[0m \u001b[39m    Does a full forward pass on the model\u001b[39;00m\n\u001b[1;32m     48\u001b[0m \u001b[39m\"\"\"\u001b[39;00m\n\u001b[1;32m     49\u001b[0m \u001b[39m# Forward pass on the convolutions\u001b[39;00m\n\u001b[0;32m---> 50\u001b[0m conv_output, x \u001b[39m=\u001b[39m \u001b[39mself\u001b[39;49m\u001b[39m.\u001b[39;49mforward_pass_on_convolutions(x)\n\u001b[1;32m     51\u001b[0m x \u001b[39m=\u001b[39m x\u001b[39m.\u001b[39mview(x\u001b[39m.\u001b[39msize(\u001b[39m0\u001b[39m), \u001b[39m-\u001b[39m\u001b[39m1\u001b[39m)  \u001b[39m# Flatten\u001b[39;00m\n\u001b[1;32m     52\u001b[0m \u001b[39m# Forward pass on the classifier\u001b[39;00m\n",
      "File \u001b[0;32m~/projects/pytorch-cnn-visualizations/src/gradcam.py:35\u001b[0m, in \u001b[0;36mCamExtractor.forward_pass_on_convolutions\u001b[0;34m(self, x)\u001b[0m\n\u001b[1;32m     33\u001b[0m     items \u001b[39m=\u001b[39m \u001b[39mself\u001b[39m\u001b[39m.\u001b[39mmodel\u001b[39m.\u001b[39m_modules\u001b[39m.\u001b[39mitems()\n\u001b[1;32m     34\u001b[0m \u001b[39mfor\u001b[39;00m module_pos, module \u001b[39min\u001b[39;00m items:\n\u001b[0;32m---> 35\u001b[0m     x \u001b[39m=\u001b[39m module(x)  \u001b[39m# Forward\u001b[39;00m\n\u001b[1;32m     36\u001b[0m     \u001b[39mtry\u001b[39;00m:\n\u001b[1;32m     37\u001b[0m         module_pos \u001b[39m=\u001b[39m \u001b[39mint\u001b[39m(module_pos)\n",
      "File \u001b[0;32m~/anaconda3/envs/oads/lib/python3.9/site-packages/torch/nn/modules/module.py:1130\u001b[0m, in \u001b[0;36mModule._call_impl\u001b[0;34m(self, *input, **kwargs)\u001b[0m\n\u001b[1;32m   1126\u001b[0m \u001b[39m# If we don't have any hooks, we want to skip the rest of the logic in\u001b[39;00m\n\u001b[1;32m   1127\u001b[0m \u001b[39m# this function, and just call forward.\u001b[39;00m\n\u001b[1;32m   1128\u001b[0m \u001b[39mif\u001b[39;00m \u001b[39mnot\u001b[39;00m (\u001b[39mself\u001b[39m\u001b[39m.\u001b[39m_backward_hooks \u001b[39mor\u001b[39;00m \u001b[39mself\u001b[39m\u001b[39m.\u001b[39m_forward_hooks \u001b[39mor\u001b[39;00m \u001b[39mself\u001b[39m\u001b[39m.\u001b[39m_forward_pre_hooks \u001b[39mor\u001b[39;00m _global_backward_hooks\n\u001b[1;32m   1129\u001b[0m         \u001b[39mor\u001b[39;00m _global_forward_hooks \u001b[39mor\u001b[39;00m _global_forward_pre_hooks):\n\u001b[0;32m-> 1130\u001b[0m     \u001b[39mreturn\u001b[39;00m forward_call(\u001b[39m*\u001b[39;49m\u001b[39minput\u001b[39;49m, \u001b[39m*\u001b[39;49m\u001b[39m*\u001b[39;49mkwargs)\n\u001b[1;32m   1131\u001b[0m \u001b[39m# Do not call functions when jit is used\u001b[39;00m\n\u001b[1;32m   1132\u001b[0m full_backward_hooks, non_full_backward_hooks \u001b[39m=\u001b[39m [], []\n",
      "File \u001b[0;32m~/anaconda3/envs/oads/lib/python3.9/site-packages/torch/nn/modules/linear.py:114\u001b[0m, in \u001b[0;36mLinear.forward\u001b[0;34m(self, input)\u001b[0m\n\u001b[1;32m    113\u001b[0m \u001b[39mdef\u001b[39;00m \u001b[39mforward\u001b[39m(\u001b[39mself\u001b[39m, \u001b[39minput\u001b[39m: Tensor) \u001b[39m-\u001b[39m\u001b[39m>\u001b[39m Tensor:\n\u001b[0;32m--> 114\u001b[0m     \u001b[39mreturn\u001b[39;00m F\u001b[39m.\u001b[39;49mlinear(\u001b[39minput\u001b[39;49m, \u001b[39mself\u001b[39;49m\u001b[39m.\u001b[39;49mweight, \u001b[39mself\u001b[39;49m\u001b[39m.\u001b[39;49mbias)\n",
      "\u001b[0;31mRuntimeError\u001b[0m: mat1 and mat2 shapes cannot be multiplied (512x1 and 512x19)"
     ]
    }
   ],
   "source": [
    "target_example = 0  # Snake\n",
    "(original_image, prep_img, target_class, file_name_to_export, pretrained_model) =\\\n",
    "    get_example_params(target_example)\n",
    "# Grad cam\n",
    "grad_cam = GradCam(model, target_layer='conv1')\n",
    "# Generate cam mask\n",
    "cam = grad_cam.generate_cam(prep_img, target_class)\n",
    "# Save mask\n",
    "save_class_activation_images(original_image, cam, file_name_to_export)\n",
    "print('Grad cam completed')"
   ]
  }
 ],
 "metadata": {
  "kernelspec": {
   "display_name": "model-vs-human",
   "language": "python",
   "name": "python3"
  },
  "language_info": {
   "codemirror_mode": {
    "name": "ipython",
    "version": 3
   },
   "file_extension": ".py",
   "mimetype": "text/x-python",
   "name": "python",
   "nbconvert_exporter": "python",
   "pygments_lexer": "ipython3",
   "version": "3.9.13"
  },
  "orig_nbformat": 4
 },
 "nbformat": 4,
 "nbformat_minor": 2
}
