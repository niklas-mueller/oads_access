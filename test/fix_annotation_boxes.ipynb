{
 "cells": [
  {
   "cell_type": "code",
   "execution_count": 1,
   "metadata": {},
   "outputs": [],
   "source": [
    "%load_ext autoreload\n",
    "%autoreload 2\n",
    "\n",
    "import os\n",
    "from oads_access.oads_access import OADS_Access"
   ]
  },
  {
   "cell_type": "code",
   "execution_count": 2,
   "metadata": {},
   "outputs": [],
   "source": [
    "train_label_ids = {\n",
    "    632041580: {'id': 632041580, 'classId': 2813059, 'classTitle': 'Balcony door', 'points': {'exterior': [[124, 75], [124, 75]]}},\n",
    "    648290916: {'id': 648290916, 'classId': 1546265, 'classTitle': 'Compact car', 'points': {'exterior': [[1283, 151], [1283, 151]]}},\n",
    "    645504394: {'id': 645504394, 'classId': 1546318, 'classTitle': 'Tree', 'points': {'exterior': [[1041, 53], [1041, 53]]}},\n",
    "    651576930: {'id': 651576930, 'classId': 1546265, 'classTitle': 'Compact car', 'points': {'exterior': [[4, 516], [4, 516]]}},\n",
    "    634985103: {'id': 634985103, 'classId': 1546266, 'classTitle': 'Traffic sign', 'points': {'exterior': [[114, 599], [114, 599]]}},\n",
    "    645505430: {'id': 645505430, 'classId': 2813059, 'classTitle': 'Balcony door', 'points': {'exterior': [[998, 256], [998, 256]]}},\n",
    "    632041572: {'id': 632041572, 'classId': 2813059, 'classTitle': 'Balcony door', 'points': {'exterior': [[128, 13], [128, 13]]}},\n",
    "    627892170: {'id': 627892170, 'classId': 1546191, 'classTitle': 'Bench', 'points': {'exterior': [[92, 325], [92, 325]]}},\n",
    "    622630766: {'id': 622630766, 'classId': 1546190, 'classTitle': 'Lamppost', 'points': {'exterior': [[1278, 299], [1278, 299]]}},\n",
    "    631455983: {'id': 631455983, 'classId': 1546190, 'classTitle': 'Lamppost', 'points': {'exterior': [[800, 526], [800, 526]]}},\n",
    "    645504809: {'id': 645504809, 'classId': 2813058, 'classTitle': 'Bollard', 'points': {'exterior': [[750, 414], [750, 414]]}},\n",
    "    634859997: {'id': 634859997, 'classId': 2813059, 'classTitle': 'Balcony door', 'points': {'exterior': [[879, 126], [879, 126]]}},\n",
    "    645506289: {'id': 645506289, 'classId': 1546265, 'classTitle': 'Compact car', 'points': {'exterior': [[1177, 265], [1177, 265]]}},\n",
    "    645505720: {'id': 645505720, 'classId': 1546190, 'classTitle': 'Lamppost', 'points': {'exterior': [[1045, 518], [1045, 518]]}},\n",
    "    621502561: {'id': 621502561, 'classId': 1546317, 'classTitle': 'Bin', 'points': {'exterior': [[1267, 710], [1267, 710]]}},\n",
    "    648291035: {'id': 648291035, 'classId': 1546265, 'classTitle': 'Compact car', 'points': {'exterior': [[961, 294], [961, 294]]}},\n",
    "    628132101: {'id': 628132101, 'classId': 1546190, 'classTitle': 'Lamppost', 'points': {'exterior': [[1257, 226], [1257, 226]]}},\n",
    "    645488485: {'id': 645488485, 'classId': 1546192, 'classTitle': 'Scooter', 'points': {'exterior': [[427, 363], [427, 363]]}},\n",
    "    645504991: {'id': 645504991, 'classId': 1546266, 'classTitle': 'Traffic sign', 'points': {'exterior': [[34, 348], [34, 348]]}},\n",
    "    623124056: {'id': 623124056, 'classId': 1546190, 'classTitle': 'Lamppost', 'points': {'exterior': [[630, 546], [630, 546]]}},\n",
    "    669151614: {'id': 669151614, 'classId': 1546192, 'classTitle': 'Scooter', 'points': {'exterior': [[563, 640], [563, 640]]}},\n",
    "    645505567: {'id': 645505567, 'classId': 1546318, 'classTitle': 'Tree', 'points': {'exterior': [[241, 81], [241, 81]]}},\n",
    "    645504568: {'id': 645504568, 'classId': 2796251, 'classTitle': 'Front door', 'points': {'exterior': [[89, 169], [89, 169]]}},\n",
    "    648292807: {'id': 648292807, 'classId': 1546288, 'classTitle': 'Oma fiets', 'points': {'exterior': [[313, 280], [313, 280]]}},\n",
    "    634859201: {'id': 634859201, 'classId': 1626841, 'classTitle': 'Van', 'points': {'exterior': [[586, 151], [586, 151]]}},\n",
    "    620507815: {'id': 620507815, 'classId': 1546191, 'classTitle': 'Bench', 'points': {'exterior': [[704, 504], [704, 504]]}},\n",
    "    645505589: {'id': 645505589, 'classId': 1546318, 'classTitle': 'Tree', 'points': {'exterior': [[1096, 529], [1096, 529]]}},\n",
    "    645505603: {'id': 645505603, 'classId': 1546191, 'classTitle': 'Bench', 'points': {'exterior': [[589, 87], [589, 87]]}},\n",
    "    651586962: {'id': 651586962, 'classId': 2813059, 'classTitle': 'Balcony door', 'points': {'exterior': [[431, 212], [431, 212]]}},\n",
    "    621167920: {'id': 621167920, 'classId': 1546192, 'classTitle': 'Scooter', 'points': {'exterior': [[726, 551], [726, 551]]}},\n",
    "    645504877: {'id': 645504877, 'classId': 1546288, 'classTitle': 'Oma fiets', 'points': {'exterior': [[141, 454], [141, 454]]}},\n",
    "    645505069: {'id': 645505069, 'classId': 1546353, 'classTitle': 'Truck', 'points': {'exterior': [[130, 224], [130, 224]]}},\n",
    "    651563730: {'id': 651563730, 'classId': 2813059, 'classTitle': 'Balcony door', 'points': {'exterior': [[724, 521], [724, 521]]}},\n",
    "    623105797: {'id': 623105797, 'classId': 1546265, 'classTitle': 'Compact car', 'points': {'exterior': [[859, 252], [859, 252]]}},\n",
    "    645506475: {'id': 645506475, 'classId': 1626841, 'classTitle': 'Van', 'points': {'exterior': [[677, 507], [677, 507]]}},\n",
    "    645504538: {'id': 645504538, 'classId': 1546192, 'classTitle': 'Scooter', 'points': {'exterior': [[107, 181], [107, 181]]}},\n",
    "    659907605: {'id': 659907605, 'classId': 2813058, 'classTitle': 'Bollard', 'points': {'exterior': [[1062, 546], [1062, 546]]}},\n",
    "    634871065: {'id': 634871065, 'classId': 1546265, 'classTitle': 'Compact car', 'points': {'exterior': [[724, 291], [724, 291]]}},\n",
    "    648290927: {'id': 648290927, 'classId': 1546288, 'classTitle': 'Oma fiets', 'points': {'exterior': [[245, 271], [245, 271]]}},\n",
    "    697948612: {'id': 697948612, 'classId': 1546190, 'classTitle': 'Lamppost', 'points': {'exterior': [[1302, 484], [1302, 484]]}},\n",
    "    634862540: {'id': 634862540, 'classId': 1546190, 'classTitle': 'Lamppost', 'points': {'exterior': [[322, 238], [322, 238]]}},\n",
    "    648292292: {'id': 648292292, 'classId': 1546190, 'classTitle': 'Lamppost', 'points': {'exterior': [[294, 163], [294, 163]]}},\n",
    "    645506827: {'id': 645506827, 'classId': 1546190, 'classTitle': 'Lamppost', 'points': {'exterior': [[222, 402], [222, 402]]}},\n",
    "    623109796: {'id': 623109796, 'classId': 1546266, 'classTitle': 'Traffic sign', 'points': {'exterior': [[1139, 0], [1139, 0]]}},\n",
    "    641161790: {'id': 641161790, 'classId': 1546288, 'classTitle': 'Oma fiets', 'points': {'exterior': [[941, 291], [941, 291]]}},\n",
    "    628132343: {'id': 628132343, 'classId': 1546190, 'classTitle': 'Lamppost', 'points': {'exterior': [[126, 347], [126, 347]]}},\n",
    "}"
   ]
  },
  {
   "cell_type": "code",
   "execution_count": 3,
   "metadata": {},
   "outputs": [],
   "source": [
    "test_label_ids = {\n",
    "    631488627: {'id': 631488627, 'classId': 1546266, 'classTitle': 'Traffic sign', 'points': {'exterior': [[1344, 519], [1344, 519]]}},\n",
    "    632424875: {'id': 632424875, 'classId': 2796251, 'classTitle': 'Front door', 'points': {'exterior': [[882, 608], [882, 608]]}},\n",
    "    634861947: {'id': 634861947, 'classId': 1546288, 'classTitle': 'Oma fiets', 'points': {'exterior': [[687, 306], [687, 306]]}},\n",
    "    621486426: {'id': 621486426, 'classId': 1546266, 'classTitle': 'Traffic sign', 'points': {'exterior': [[902, 365], [902, 365]]}},\n",
    "    697714319: {'id': 697714319, 'classId': 1546190, 'classTitle': 'Lamppost', 'points': {'exterior': [[87, 152], [87, 152]]}},\n",
    "    634871545: {'id': 634871545, 'classId': 2796251, 'classTitle': 'Front door', 'points': {'exterior': [[567, 9], [567, 9]]}},\n",
    "    622624877: {'id': 622624877, 'classId': 1546288, 'classTitle': 'Oma fiets', 'points': {'exterior': [[1073, 275], [1073, 275]]}},\n",
    "    651553338: {'id': 651553338, 'classId': 2796251, 'classTitle': 'Front door', 'points': {'exterior': [[1190, 139], [1190, 139]]}},\n",
    "    645488846: {'id': 645488846, 'classId': 1546265, 'classTitle': 'Compact car', 'points': {'exterior': [[50, 343], [50, 343]]}},\n",
    "    634862246: {'id': 634862246, 'classId': 1546265, 'classTitle': 'Compact car', 'points': {'exterior': [[1044, 292], [1044, 292]]}},\n",
    "}"
   ]
  },
  {
   "cell_type": "code",
   "execution_count": 4,
   "metadata": {},
   "outputs": [],
   "source": [
    "oads = OADS_Access(basedir='/home/niklas/projects/data/oads/')"
   ]
  },
  {
   "cell_type": "code",
   "execution_count": 21,
   "metadata": {},
   "outputs": [],
   "source": [
    "# id = 621486426\n",
    "all = []\n",
    "for id in test_label_ids.keys():\n",
    "    image_name = oads.label_id_to_image[id]\n",
    "    dataset_name = [x for x, y in oads.images_per_dataset.items() if image_name in y]\n",
    "    all.append([(dataset_name, image_name, x['classTitle'], id) for x in oads.get_annotation(image_name=image_name)['objects'] if x['id'] == id][0])"
   ]
  },
  {
   "cell_type": "code",
   "execution_count": 22,
   "metadata": {},
   "outputs": [
    {
     "data": {
      "text/plain": [
       "[(['L_001'], '1018dadac9991312', 'Front door', 632424875),\n",
       " (['L_002'], '04004044c6840cf8', 'Lamppost', 697714319),\n",
       " (['L_004'], 'b1ac2c89d86cf6f8', 'Traffic sign', 621486426),\n",
       " (['L_004'], 'e2e2f6ebc9c3e992', 'Traffic sign', 631488627),\n",
       " (['R_000'], '02069181605630f0', 'Front door', 651553338),\n",
       " (['R_000'], '38ada8bcdcececac', 'Oma fiets', 622624877),\n",
       " (['R_000'], 'c6964456984c10c0', 'Compact car', 645488846),\n",
       " (['R_000'], 'cf8067fcfcd8b0b0', 'Front door', 634871545),\n",
       " (['R_000'], 'e06662b83480c090', 'Oma fiets', 634861947),\n",
       " (['R_000'], 'e7dbc70eb6e1e4f8', 'Compact car', 634862246)]"
      ]
     },
     "execution_count": 22,
     "metadata": {},
     "output_type": "execute_result"
    }
   ],
   "source": [
    "all.sort()\n",
    "all"
   ]
  },
  {
   "attachments": {},
   "cell_type": "markdown",
   "metadata": {},
   "source": [
    "# Check!\n",
    "\n",
    "Find all object annotation boxes where the box has area 0"
   ]
  },
  {
   "cell_type": "code",
   "execution_count": 4,
   "metadata": {},
   "outputs": [],
   "source": [
    "import json\n",
    "test_dir = '/home/niklas/projects/test_annotations/'\n",
    "\n",
    "for folder in os.listdir(test_dir):\n",
    "    if os.path.isdir(os.path.join(test_dir, folder)):\n",
    "        for ann_filename in os.listdir(os.path.join(test_dir, folder, 'ann')):\n",
    "            with open(os.path.join(test_dir, folder, 'ann', ann_filename), 'r') as f:\n",
    "                c = json.load(f)\n",
    "                for obj in c['objects']:\n",
    "                    if obj['points']['exterior'][0] == obj['points']['exterior'][1]:\n",
    "                        print(ann_filename, folder, obj['id'], obj['classTitle'], obj['points']['exterior'])"
   ]
  }
 ],
 "metadata": {
  "kernelspec": {
   "display_name": "oads",
   "language": "python",
   "name": "python3"
  },
  "language_info": {
   "codemirror_mode": {
    "name": "ipython",
    "version": 3
   },
   "file_extension": ".py",
   "mimetype": "text/x-python",
   "name": "python",
   "nbconvert_exporter": "python",
   "pygments_lexer": "ipython3",
   "version": "3.9.13"
  },
  "orig_nbformat": 4,
  "vscode": {
   "interpreter": {
    "hash": "35f1b51645cdcbb206d6bffd09b7967f1e22f262807a6af3fb1ff35a1a83c6cf"
   }
  }
 },
 "nbformat": 4,
 "nbformat_minor": 2
}
